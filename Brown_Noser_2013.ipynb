{
  "nbformat": 4,
  "nbformat_minor": 0,
  "metadata": {
    "colab": {
      "provenance": [],
      "include_colab_link": true
    },
    "kernelspec": {
      "name": "python3",
      "display_name": "Python 3"
    },
    "language_info": {
      "name": "python"
    }
  },
  "cells": [
    {
      "cell_type": "markdown",
      "metadata": {
        "id": "view-in-github",
        "colab_type": "text"
      },
      "source": [
        "<a href=\"https://colab.research.google.com/github/rbelay1/Final-Project/blob/main/Brown_Noser_2013.ipynb\" target=\"_parent\"><img src=\"https://colab.research.google.com/assets/colab-badge.svg\" alt=\"Open In Colab\"/></a>"
      ]
    },
    {
      "cell_type": "code",
      "source": [
        "pip install trafilatura"
      ],
      "metadata": {
        "colab": {
          "base_uri": "https://localhost:8080/"
        },
        "id": "B2wkzY4Butrm",
        "outputId": "f32d38ae-8c80-42c5-cff6-8a6d5e71418a"
      },
      "execution_count": null,
      "outputs": [
        {
          "output_type": "stream",
          "name": "stdout",
          "text": [
            "Looking in indexes: https://pypi.org/simple, https://us-python.pkg.dev/colab-wheels/public/simple/\n",
            "Collecting trafilatura\n",
            "  Downloading trafilatura-1.5.0-py3-none-any.whl (1.0 MB)\n",
            "\u001b[2K     \u001b[90m━━━━━━━━━━━━━━━━━━━━━━━━━━━━━━━━━━━━━━━━\u001b[0m \u001b[32m1.0/1.0 MB\u001b[0m \u001b[31m36.0 MB/s\u001b[0m eta \u001b[36m0:00:00\u001b[0m\n",
            "\u001b[?25hRequirement already satisfied: certifi in /usr/local/lib/python3.10/dist-packages (from trafilatura) (2022.12.7)\n",
            "Requirement already satisfied: urllib3<2,>=1.26 in /usr/local/lib/python3.10/dist-packages (from trafilatura) (1.26.15)\n",
            "Collecting courlan>=0.9.0\n",
            "  Downloading courlan-0.9.1-py3-none-any.whl (40 kB)\n",
            "\u001b[2K     \u001b[90m━━━━━━━━━━━━━━━━━━━━━━━━━━━━━━━━━━━━━━━━\u001b[0m \u001b[32m40.7/40.7 kB\u001b[0m \u001b[31m3.4 MB/s\u001b[0m eta \u001b[36m0:00:00\u001b[0m\n",
            "\u001b[?25hCollecting htmldate>=1.4.2\n",
            "  Downloading htmldate-1.4.2-py3-none-any.whl (33 kB)\n",
            "Requirement already satisfied: lxml>=4.9.2 in /usr/local/lib/python3.10/dist-packages (from trafilatura) (4.9.2)\n",
            "Collecting justext>=3.0.0\n",
            "  Downloading jusText-3.0.0-py2.py3-none-any.whl (837 kB)\n",
            "\u001b[2K     \u001b[90m━━━━━━━━━━━━━━━━━━━━━━━━━━━━━━━━━━━━━━\u001b[0m \u001b[32m837.8/837.8 kB\u001b[0m \u001b[31m37.1 MB/s\u001b[0m eta \u001b[36m0:00:00\u001b[0m\n",
            "\u001b[?25hCollecting charset-normalizer>=3.1.0\n",
            "  Downloading charset_normalizer-3.1.0-cp310-cp310-manylinux_2_17_x86_64.manylinux2014_x86_64.whl (199 kB)\n",
            "\u001b[2K     \u001b[90m━━━━━━━━━━━━━━━━━━━━━━━━━━━━━━━━━━━━━━\u001b[0m \u001b[32m199.3/199.3 kB\u001b[0m \u001b[31m19.8 MB/s\u001b[0m eta \u001b[36m0:00:00\u001b[0m\n",
            "\u001b[?25hCollecting tld>=0.13\n",
            "  Downloading tld-0.13-py2.py3-none-any.whl (263 kB)\n",
            "\u001b[2K     \u001b[90m━━━━━━━━━━━━━━━━━━━━━━━━━━━━━━━━━━━━━━\u001b[0m \u001b[32m263.8/263.8 kB\u001b[0m \u001b[31m23.6 MB/s\u001b[0m eta \u001b[36m0:00:00\u001b[0m\n",
            "\u001b[?25hRequirement already satisfied: langcodes>=3.3.0 in /usr/local/lib/python3.10/dist-packages (from courlan>=0.9.0->trafilatura) (3.3.0)\n",
            "Requirement already satisfied: python-dateutil>=2.8.2 in /usr/local/lib/python3.10/dist-packages (from htmldate>=1.4.2->trafilatura) (2.8.2)\n",
            "Collecting dateparser>=1.1.2\n",
            "  Downloading dateparser-1.1.8-py2.py3-none-any.whl (293 kB)\n",
            "\u001b[2K     \u001b[90m━━━━━━━━━━━━━━━━━━━━━━━━━━━━━━━━━━━━━━\u001b[0m \u001b[32m293.8/293.8 kB\u001b[0m \u001b[31m22.0 MB/s\u001b[0m eta \u001b[36m0:00:00\u001b[0m\n",
            "\u001b[?25hRequirement already satisfied: tzlocal in /usr/local/lib/python3.10/dist-packages (from dateparser>=1.1.2->htmldate>=1.4.2->trafilatura) (4.3)\n",
            "Requirement already satisfied: regex!=2019.02.19,!=2021.8.27 in /usr/local/lib/python3.10/dist-packages (from dateparser>=1.1.2->htmldate>=1.4.2->trafilatura) (2022.10.31)\n",
            "Requirement already satisfied: pytz in /usr/local/lib/python3.10/dist-packages (from dateparser>=1.1.2->htmldate>=1.4.2->trafilatura) (2022.7.1)\n",
            "Requirement already satisfied: six>=1.5 in /usr/local/lib/python3.10/dist-packages (from python-dateutil>=2.8.2->htmldate>=1.4.2->trafilatura) (1.16.0)\n",
            "Requirement already satisfied: pytz-deprecation-shim in /usr/local/lib/python3.10/dist-packages (from tzlocal->dateparser>=1.1.2->htmldate>=1.4.2->trafilatura) (0.1.0.post0)\n",
            "Requirement already satisfied: tzdata in /usr/local/lib/python3.10/dist-packages (from pytz-deprecation-shim->tzlocal->dateparser>=1.1.2->htmldate>=1.4.2->trafilatura) (2023.3)\n",
            "Installing collected packages: tld, justext, charset-normalizer, courlan, dateparser, htmldate, trafilatura\n",
            "  Attempting uninstall: charset-normalizer\n",
            "    Found existing installation: charset-normalizer 2.0.12\n",
            "    Uninstalling charset-normalizer-2.0.12:\n",
            "      Successfully uninstalled charset-normalizer-2.0.12\n",
            "\u001b[31mERROR: pip's dependency resolver does not currently take into account all the packages that are installed. This behaviour is the source of the following dependency conflicts.\n",
            "requests 2.27.1 requires charset-normalizer~=2.0.0; python_version >= \"3\", but you have charset-normalizer 3.1.0 which is incompatible.\u001b[0m\u001b[31m\n",
            "\u001b[0mSuccessfully installed charset-normalizer-3.1.0 courlan-0.9.1 dateparser-1.1.8 htmldate-1.4.2 justext-3.0.0 tld-0.13 trafilatura-1.5.0\n"
          ]
        }
      ]
    },
    {
      "cell_type": "code",
      "source": [
        "import requests\n",
        "from bs4 import BeautifulSoup\n",
        " \n",
        " \n",
        "url = 'http://thenoser.com/issue/65'\n",
        "reqs = requests.get(url)\n",
        "soup = BeautifulSoup(reqs.text, 'html.parser')\n",
        " \n",
        "urls = []\n",
        "for link in soup.find_all('a'):\n",
        "    print(link.get('href'))"
      ],
      "metadata": {
        "colab": {
          "base_uri": "https://localhost:8080/"
        },
        "id": "U7SEOcvHE55g",
        "outputId": "76b7b6e3-8729-4ff6-9e46-40c1abbe1dce"
      },
      "execution_count": null,
      "outputs": [
        {
          "output_type": "stream",
          "name": "stdout",
          "text": [
            "/section/Campus-Life\n",
            "/section/Off-Campus\n",
            "/section/Opinion\n",
            "/section/Politics\n",
            "/section/Science-and-Technology\n",
            "/section/Sports\n",
            "/section/Cinema-Corner\n",
            "/section/Noser-For-Kids\n",
            "/section/Arts--Culture\n",
            "http://thenoser.com\n",
            "/article/Jewish-Dads-Douse-Homes-in-Lambs-Blood-as-Passover\n",
            "/article/Jewish-Dads-Douse-Homes-in-Lambs-Blood-as-Passover\n",
            "/article/Jewish-Dads-Douse-Homes-in-Lambs-Blood-as-Passover\n",
            "/article/MAN-WANT-SEX-WITH-WOMAN-BUT-DO-MAN-THINK-OF-ANYTHI\n",
            "/article/MAN-WANT-SEX-WITH-WOMAN-BUT-DO-MAN-THINK-OF-ANYTHI\n",
            "/article/Actor-Who-Portrayed-Daniel-Day-Lewis-Breaks-Charac\n",
            "/article/Actor-Who-Portrayed-Daniel-Day-Lewis-Breaks-Charac\n",
            "/article/Juwanna-Mann-Devotees-Flock-to-Massive-JuwannaCon\n",
            "/article/Juwanna-Mann-Devotees-Flock-to-Massive-JuwannaCon\n",
            "/article/Why-Not-Nation-to-Give-Acupuncture-a-Shot\n",
            "/article/Why-Not-Nation-to-Give-Acupuncture-a-Shot\n",
            "/article/War-Over-as-Terror-Admits-Defeat\n",
            "/section/Off-Campus/65\n",
            "/article/Every-Month-is-Black-History-Month-When-Youre-Stuc\n",
            "/article/Lets-Talk-About-Concussion-Prevention-So-That-I-Ca\n",
            "/section/Opinion/65\n",
            "/article/Woman-Takes-on-Second-Job-to-Support-Destructive-J\n",
            "/article/Woman-Takes-on-Second-Job-to-Support-Destructive-J\n",
            "/article/MCM-Concentrator-Just-Combining-Random-Sounds-with\n",
            "/article/MCM-Concentrator-Just-Combining-Random-Sounds-with\n",
            "/article/Reality-Revealed-to-Be-Elaborate-Anti-Semitic-Mini\n",
            "/article/Reality-Revealed-to-Be-Elaborate-Anti-Semitic-Mini\n",
            "/article/Stapler-Beginning-to-Tire-of-Smashing-His-Face-Aga\n",
            "/article/Cackling-Robin-Williams-Roasts-Self-in-Dark-Room\n",
            "/section/Campus-Life/65\n",
            "/article/Neuroscientists-Realize-Theyve-Been-Working-on-Mon\n",
            "/article/Neuroscientists-Realize-Theyve-Been-Working-on-Mon\n",
            "/section/Science-and-Technology/65\n",
            "#\n",
            "http://collegequill.com\n"
          ]
        }
      ]
    },
    {
      "cell_type": "code",
      "source": [
        "from trafilatura import fetch_url\n",
        "\n",
        "document = fetch_url('http://thenoser.com/article/Woman-Takes-on-Second-Job-to-Support-Destructive-J')"
      ],
      "metadata": {
        "id": "VYz3f9Rlv4cl"
      },
      "execution_count": null,
      "outputs": []
    },
    {
      "cell_type": "code",
      "source": [
        "from trafilatura import extract\n",
        "\n",
        "text = extract(document)\n",
        "print(text)"
      ],
      "metadata": {
        "colab": {
          "base_uri": "https://localhost:8080/"
        },
        "id": "HGTdiImsv9CE",
        "outputId": "93126121-c950-48c3-b4c7-5d63a36fcf8c"
      },
      "execution_count": null,
      "outputs": [
        {
          "output_type": "stream",
          "name": "stdout",
          "text": [
            "At approximately 9:00 p.m. yesterday, California resident Rachel Jenkins was sighted covertly leaving an industrial campus in a Mercedes Benz, a gesture that witnesses believe is an indication of her harrowing job addiction.\n",
            "“I once walked in on her working as the CEO of a large, successful corporation,” stated her older brother, Stanley Jenkins. “She tried to rip off her pantsuit, throw on some yoga pants, and shove her company computer into them. None of us were falling for it.”\n",
            "According to friends and family, the road to retirement has been a tough one for Jenkins.\n",
            "“She would drive across the state just to get her hands on a cool new tech start-up, and then stay there working for hours at a time as their new CEO,” stated her ex-husband Gary Berg. “She’d come home so late at night, and you could see in her bloodshot eyes that she had just hired and trained about 25 fresh college grads.”\n",
            "“How much do you think she charged per year for those guys? 100K? Definitely the most expensive stuff on the market,” added her brother. “It’s terrible to know that she spread her poison to so many innocent youths around her.”\n",
            "“I swear to God, I once saw her volunteering at a local food bank,” her ex-husband continued, cracking his knuckles. “A goddamn food bank. How far was she willing to fall before asking for help?”\n",
            "Jenkins is rumored to hold an unspeakable number of degrees, and will let no one get in her way while trying shamelessly to acquire more leadership positions. She has recently been followed closely by police, who are enthusiastic about convincing her that she would make an outstanding addition to the force.\n",
            "“She shouldn’t have mixed high-profile jobs the way she did,” stated her father, Matthew Jenkins, flanked by his crying wife. “Working as an adjunct professor, a member of the board of trustees of various large corporations, a fireman and a neurosurgeon was bound to mix her up in the head.”\n",
            "“She wasn’t thinking straight. I couldn’t take it anymore. My lawyer and I won an easy battle to get me full custody of the kids,” stated Jenkins’ ex-husband. “Rachel did a fantastic job working as my lawyer, and as the judge she granted me a very appealing divorce settlement as well as generous child-support. It’s a miracle we got the kids out of that kind of corrosive environment.”\n",
            "Although Jenkins has hit upon hard times, her family continues to remember her as a hard-working, dedicated individual.\n",
            "“Some people just have that kind of personality,” stated her brother, staring pensively out a window. “I hate to say it, but someday we’re going to see her weathered face splattered across some poster advertising a high-grossing lecture series. A cautionary tale if I ever saw one.”\n"
          ]
        }
      ]
    },
    {
      "cell_type": "code",
      "source": [
        "from trafilatura import fetch_url\n",
        "\n",
        "document = fetch_url('http://thenoser.com/article/Jewish-Dads-Douse-Homes-in-Lambs-Blood-as-Passover')"
      ],
      "metadata": {
        "id": "IfbNLJ6CwgDO"
      },
      "execution_count": null,
      "outputs": []
    },
    {
      "cell_type": "code",
      "source": [
        "from trafilatura import extract\n",
        "\n",
        "text = extract(document)\n",
        "print(text)"
      ],
      "metadata": {
        "colab": {
          "base_uri": "https://localhost:8080/"
        },
        "id": "rcZ-EMzFJJtt",
        "outputId": "23d4ae43-5701-4059-bd12-cdd158f8311e"
      },
      "execution_count": null,
      "outputs": [
        {
          "output_type": "stream",
          "name": "stdout",
          "text": [
            "In what has become an annual tradition reflecting the increasingly competitive Passover holiday, Jewish dads across the nation have begun erecting gaudy displays for the slavery-themed celebration. Popular decorations include animatronic models of the Prophet Elijah and gallons and gallons of lamb’s blood.\n",
            "“We really went all out this year,” said area electrician and Jewish dad Howard Silverman. “It’s no big deal. Just grabbed some plywood from the Home Depot, ran my siphon down to the slaughterhouse, and put in a call to my locust guy. I think the neighbors get a real kick out of it.”\n",
            "Silverman’s wife and children declined to comment.\n",
            "“Some of these guys are real showoffs,” said Silverman’s neighbor Donny Mandel, who opted for a more restrained display. “But I’m not one of those dads who needs to be the flashiest Jew on the block. You can work wonders with a tasteful coat of blood and a few authentic Hebrew slaves.”\n",
            "Added Mandel, “I just love the spirit of the season.”\n",
            "But not everyone has embraced the Passover spirit.\n",
            "“Today’s American Jewry has forgotten the meaning of Passover,” said Providence Rabbi Isaac Shpilman. “It used to be about the deep significance the Exodus holds for the Jewish people – about the struggles of our ancestors in Egypt. Now it’s all lamb blood and frogs.”\n",
            "Continued Shpilman, “And why do they have to start so early? Passover is almost a month away. Stores haven’t even taken down their Purim decorations but suddenly I’m hearing Michael Bublé singing ‘Go Down Moses’ in every strip mall in town.”\n",
            "As of press time, no fewer than half a dozen Jewish dads were berating a RadioShack clerk for failing to stock a transformer of the caliber necessary to power a 13-foot singing Moses.\n"
          ]
        }
      ]
    },
    {
      "cell_type": "code",
      "source": [
        "from trafilatura import fetch_url\n",
        "\n",
        "document = fetch_url('http://thenoser.com/article/MAN-WANT-SEX-WITH-WOMAN-BUT-DO-MAN-THINK-OF-ANYTHI')"
      ],
      "metadata": {
        "id": "UeP-WKdiJVzp"
      },
      "execution_count": null,
      "outputs": []
    },
    {
      "cell_type": "code",
      "source": [
        "from trafilatura import extract\n",
        "\n",
        "text = extract(document)\n",
        "print(text)"
      ],
      "metadata": {
        "colab": {
          "base_uri": "https://localhost:8080/"
        },
        "id": "DKomjQ4RJgr3",
        "outputId": "98808582-f36e-4e6d-9536-d5779c590f92"
      },
      "execution_count": null,
      "outputs": [
        {
          "output_type": "stream",
          "name": "stdout",
          "text": [
            "All man want is sex with woman. Man eat, man sleep, man drive in car, but what do man think of all the while? Do man think of anything but have sex with woman? No. Man monster.\n",
            "“I love chicks,” say man Charlie Gombak, who only have room in brain for imagine ladies’ bodies. “Girls, girls, girls. I can’t get enough.”\n",
            "“I’m actually pretty shy around the opposite sex,” say other man Dylan Odenkirk, a man who pretend to think of book and sport and science museum, but who imagine sexy kisses with woman even when he pretending. “One day I’ll meet the right girl, but until then, I’m happy to just hang out with my friends.”\n",
            "When man with friends, man think of sex with woman. When man have doctor’s appointment, man think of sex with woman. When man attend grandmother’s funeral, man know better than to think of sex with woman, but man do it anyway.\n",
            "“What I’m most interested in is 15th century Japanese Kano art,” say man Vernon Lewis, a man who only speak to drown out sounds of sex always inside his head. “It’s an esoteric movement, to be sure. But I really think it was some of the best art to come out of the Eastern world during that period.”\n",
            "“You ever wonder if we’re all just cogs in one giant machine?” ask private parts with man Dan Glaser stuck on back of them. “Like, what if what we’re doing as individuals doesn’t matter at all? I don’t know. Maybe I’m depressed.”\n",
            "Woman sometimes read Cosmopolitan Magazine article like “How to Turn a Guy On” or “7 Ways to Enhance His Orgasm,\" because if she become good at sex man will want her around even when they not having sex. But woman barely think of sex at all.\n",
            "“Sex?” ask woman Lisa J. Fitz, who picture sex only during romantic movie starring Matthew McConaughey.\n",
            "“Sex?” ask woman Michelle Hsu, who consider sex to be path to marriage with many baby.\n",
            "“Sex?” ask woman Barbra Hopp, who make joke about sex after two appletini drink but use giggly voice because talking like that feel so funny. “Yeah, sex. Sometimes I just want to fuck somebody.”\n",
            "Man think about sex constantly and woman think about sex almost never. Man like sex more than water or breathing, while woman like sex about as much as old cheese on soggy cracker. Can man and woman ever live in harmony?\n",
            "“My husband likes to have sex, and I like to have sex too,” say woman Cathy Feinberg. “We have sex about twice a week. That’s quite enough sex for me, and he tells me that it’s quite enough sex for him too. I love my husband. I love him very much.”\n",
            "No. Man monster.\n"
          ]
        }
      ]
    },
    {
      "cell_type": "code",
      "source": [
        "from trafilatura import fetch_url\n",
        "\n",
        "document = fetch_url('http://thenoser.com/article/Actor-Who-Portrayed-Daniel-Day-Lewis-Breaks-Charac')"
      ],
      "metadata": {
        "id": "EMfiquiXJuzX"
      },
      "execution_count": null,
      "outputs": []
    },
    {
      "cell_type": "code",
      "source": [
        "from trafilatura import extract\n",
        "\n",
        "text = extract(document)\n",
        "print(text)"
      ],
      "metadata": {
        "colab": {
          "base_uri": "https://localhost:8080/"
        },
        "id": "GNPlAB7DJyHW",
        "outputId": "b445996c-0e14-4df0-8b06-3255d038491f"
      },
      "execution_count": null,
      "outputs": [
        {
          "output_type": "stream",
          "name": "stdout",
          "text": [
            "In a letter published in Monday’s issue of Daily Variety, Rudy Fairfax announced that he has broken from the role of Daniel-Day Lewis, a character he portrayed without interruption since his entry into the film industry.\n",
            "“To my friends and to my public, I thank you for tolerating the eccentricities of my craft,” wrote Fairfax, who recently received the Academy Award for Best Actor for playing Day-Lewis playing Abraham Lincoln in the movie “Lincoln.” “Today I emerge from the part that has consumed my every hour hitherto, and live once again as the man behind the mask: Rudy Fairfax.”\n",
            "A stringent adherent to the principles of method acting, Fairfax became known for requiring colleagues and friends to treat him as Day-Lewis both on-set and off. “It was hard doing ‘Gangs of New York,’ because we all knew we were talking to Rudy,” said Martin Scorsese, who directed Fairfax in the meta-role of crime boss Bill “The Butcher” Cutting. “But if we called him that, he’d throw a fit.”\n",
            "“And guess what?” continued Scorsese. “If we called him Daniel, he’d still throw a fit, because the character of Daniel Day-Lewis was also a method actor who also demanded to be called by his character’s names. Working with Fairfax was not easy.”\n",
            "At times, Fairfax’s rigid approach to method acting got in the way of his relationships. “I didn’t like saying my wedding vows to the Daniel Day-Lewis character, because frankly, I hated him,” said Fairfax’s wife Rebecca Miller. “He had those goofy hoop earrings that really drove me nuts. Rudy’s the man I really love. He never wears the earrings.”\n",
            "As Fairfax looks ahead to his next role, film critics continue to catalogue and revere his 27-year-long stint as Day-Lewis. “Fairfax’s Day-Lewis was a tour-de-force,” said The Guardian film critic Ian Davis. “My favorite scene of his takes place at the Culver City DMV on Washington Boulevard in 1994. The way he gives his address, birth date, and the last four digits of his social? Amazing. Definitely worth the watch if you can find it on the security tape.”\n"
          ]
        }
      ]
    },
    {
      "cell_type": "code",
      "source": [
        "from trafilatura import fetch_url\n",
        "\n",
        "document = fetch_url('http://thenoser.com/article/Juwanna-Mann-Devotees-Flock-to-Massive-JuwannaCon')"
      ],
      "metadata": {
        "id": "S4fPQeGFKDe0"
      },
      "execution_count": null,
      "outputs": []
    },
    {
      "cell_type": "code",
      "source": [
        "from trafilatura import extract\n",
        "\n",
        "text = extract(document)\n",
        "print(text)"
      ],
      "metadata": {
        "colab": {
          "base_uri": "https://localhost:8080/"
        },
        "id": "Ym1moPVYKFDf",
        "outputId": "c1671762-64b8-4b9f-a6ee-f12c9f82514a"
      },
      "execution_count": null,
      "outputs": [
        {
          "output_type": "stream",
          "name": "stdout",
          "text": [
            "Tens of thousands of self-described “Manniacs” descended on the Raleigh Airport Hilton Thursday, as the seventh annual JuwannaCon kicked off, ready for a four-day series of conferences, cosplays and a rumored surprise appearance from “Juwanna Mann” star Miguel A. Núñez, Jr.’s top understudy.\n",
            "“‘Juwanna Mann’’s message is enduring and timeless,” said JuwannaCon organizer Terry Lieberstein, of the riotous 2002 gender-bending romantic comedy/sports-adventure romp. “Whether you’re in it for the hilarious antics that result from a man dressing up as a woman or for its powerful message about friendship, America lives and breathes ‘Juwanna Mann.’”\n",
            "“I’ve spent the whole year prepping for this,” said three-time conference attendee Harold Dawes. “I’ve been practicing my hoops, I’ve watched the movie two dozen times, and I’ve spent the last two days on all this blackface I’m wearing. The big talent show trophy is all mine.” Dawes was then drawn into a 20-minute argument with another attendee regarding the canonicity of a 2003 homeowner's insurance commercial featuring “Juwanna Mann” main character Jamal Jeffries, with Dawes arguing that the ad could in no way be reconciled with the broader continuity of the film.\n",
            "The film’s screenwriter and resident expert on African-American cultural norms, Bradley Allenstein, delivered the keynote address on Saturday night to the deafening cheers of thousands of adoring fans. “It is immensely gratifying to see you all here today,” said Allenstein. “Black or white, male or female, it doesn’t matter: ‘Juwanna Mann,’ more than any other film in the canon of American cinema, is universal.” Allenstein, however, was unable to explain why the conventioneers were overwhelmingly middle-aged white men.\n",
            "“‘Juwanna Mann’ profoundly affected the way I see the world,” said Dawes. “It just means so much to all of us. When Jamal realized he had to dress up as a woman to truly make it in professional basketball and help all those female athletes believe in themselves, well, something just clicked for me.”\n",
            "The convention’s programming was universally praised, with many attendees lauding the comprehensive workshops that delved deep into the subtext of the Vivica A. Fox vehicle. Particularly well attended were the showcase of “Juwanna Mann” fan-fiction (or “Mannfiction”), the panel on the role of referees in the film’s basketball scene, and an in-depth discussion with the producers on the moral clarity brought to the film by homosexual center Latisha Jansen, portrayed by Lil’ Kim.\n",
            "Some, however, believe that the convention may have grown too popular. “JuwannaCon used to be filled with real fans,” said convention boycotter Tyler Banks. “The guys who saw it twice a day in theatres, who memorized every line of the hilarious scene where Jamal pretends he’s getting his period. And look at it now. These Juwanna-come-latelies probably think Puff Smokey Smoke was played by Ginuwine.”\n",
            "Nevertheless, the mood in the hotel lobby was upbeat as the convention wrapped up. “What a weekend it’s been,” said attendee Jill Levinson, who has attended all seven JuwannaCons. “Hard to believe it’s going to be a whole year before the next one. Maybe I’ll check out SnowDogCon in July. I hear Cuba’s going to personally reenact the scene with the dogs.”\n"
          ]
        }
      ]
    },
    {
      "cell_type": "code",
      "source": [
        "from trafilatura import fetch_url\n",
        "\n",
        "document = fetch_url('http://thenoser.com/article/Why-Not-Nation-to-Give-Acupuncture-a-Shot')"
      ],
      "metadata": {
        "id": "5bU99uNKKSi-"
      },
      "execution_count": null,
      "outputs": []
    },
    {
      "cell_type": "code",
      "source": [
        "from trafilatura import extract\n",
        "\n",
        "text = extract(document)\n",
        "print(text)"
      ],
      "metadata": {
        "colab": {
          "base_uri": "https://localhost:8080/"
        },
        "id": "n0LfBnijKS8H",
        "outputId": "97cbf59a-4bc7-476e-f2a3-1c0b4114ba7d"
      },
      "execution_count": null,
      "outputs": [
        {
          "output_type": "stream",
          "name": "stdout",
          "text": [
            "Tens of thousands of self-described “Manniacs” descended on the Raleigh Airport Hilton Thursday, as the seventh annual JuwannaCon kicked off, ready for a four-day series of conferences, cosplays and a rumored surprise appearance from “Juwanna Mann” star Miguel A. Núñez, Jr.’s top understudy.\n",
            "“‘Juwanna Mann’’s message is enduring and timeless,” said JuwannaCon organizer Terry Lieberstein, of the riotous 2002 gender-bending romantic comedy/sports-adventure romp. “Whether you’re in it for the hilarious antics that result from a man dressing up as a woman or for its powerful message about friendship, America lives and breathes ‘Juwanna Mann.’”\n",
            "“I’ve spent the whole year prepping for this,” said three-time conference attendee Harold Dawes. “I’ve been practicing my hoops, I’ve watched the movie two dozen times, and I’ve spent the last two days on all this blackface I’m wearing. The big talent show trophy is all mine.” Dawes was then drawn into a 20-minute argument with another attendee regarding the canonicity of a 2003 homeowner's insurance commercial featuring “Juwanna Mann” main character Jamal Jeffries, with Dawes arguing that the ad could in no way be reconciled with the broader continuity of the film.\n",
            "The film’s screenwriter and resident expert on African-American cultural norms, Bradley Allenstein, delivered the keynote address on Saturday night to the deafening cheers of thousands of adoring fans. “It is immensely gratifying to see you all here today,” said Allenstein. “Black or white, male or female, it doesn’t matter: ‘Juwanna Mann,’ more than any other film in the canon of American cinema, is universal.” Allenstein, however, was unable to explain why the conventioneers were overwhelmingly middle-aged white men.\n",
            "“‘Juwanna Mann’ profoundly affected the way I see the world,” said Dawes. “It just means so much to all of us. When Jamal realized he had to dress up as a woman to truly make it in professional basketball and help all those female athletes believe in themselves, well, something just clicked for me.”\n",
            "The convention’s programming was universally praised, with many attendees lauding the comprehensive workshops that delved deep into the subtext of the Vivica A. Fox vehicle. Particularly well attended were the showcase of “Juwanna Mann” fan-fiction (or “Mannfiction”), the panel on the role of referees in the film’s basketball scene, and an in-depth discussion with the producers on the moral clarity brought to the film by homosexual center Latisha Jansen, portrayed by Lil’ Kim.\n",
            "Some, however, believe that the convention may have grown too popular. “JuwannaCon used to be filled with real fans,” said convention boycotter Tyler Banks. “The guys who saw it twice a day in theatres, who memorized every line of the hilarious scene where Jamal pretends he’s getting his period. And look at it now. These Juwanna-come-latelies probably think Puff Smokey Smoke was played by Ginuwine.”\n",
            "Nevertheless, the mood in the hotel lobby was upbeat as the convention wrapped up. “What a weekend it’s been,” said attendee Jill Levinson, who has attended all seven JuwannaCons. “Hard to believe it’s going to be a whole year before the next one. Maybe I’ll check out SnowDogCon in July. I hear Cuba’s going to personally reenact the scene with the dogs.”\n"
          ]
        }
      ]
    },
    {
      "cell_type": "code",
      "source": [
        "from trafilatura import fetch_url\n",
        "\n",
        "document = fetch_url('http://thenoser.com/article/War-Over-as-Terror-Admits-Defeat')"
      ],
      "metadata": {
        "id": "NRZosiFVKgR9"
      },
      "execution_count": null,
      "outputs": []
    },
    {
      "cell_type": "code",
      "source": [
        "from trafilatura import extract\n",
        "\n",
        "text = extract(document)\n",
        "print(text)\n",
        "\n",
        "import nltk\n",
        "nltk.download('punkt')\n",
        "nltk.download('wordnet')\n",
        "tokens = text.split()\n",
        "\n",
        "from nltk.tag import pos_tag\n",
        "print(pos_tag(tokens))\n",
        "\n",
        "from nltk.tag import pos_tag\n",
        "from nltk.stem.wordnet import WordNetLemmatizer\n",
        "\n",
        "def lemmatize_sentence(tokens):\n",
        "    lemmatizer = WordNetLemmatizer()\n",
        "    lemmatized_sentence = []\n",
        "    for word, tag in pos_tag(tokens):\n",
        "        if tag.startswith('NN'):\n",
        "            pos = 'n'\n",
        "        elif tag.startswith('VB'):\n",
        "            pos = 'v'\n",
        "        else:\n",
        "            pos = 'a'\n",
        "        lemmatized_sentence.append(lemmatizer.lemmatize(word, pos))\n",
        "    return lemmatized_sentence\n",
        "\n",
        "print(lemmatize_sentence(tokens))"
      ],
      "metadata": {
        "colab": {
          "base_uri": "https://localhost:8080/"
        },
        "id": "-9gA7XCEKgpi",
        "outputId": "39f43497-7cbf-4386-d43c-23273f73148b"
      },
      "execution_count": 24,
      "outputs": [
        {
          "output_type": "stream",
          "name": "stdout",
          "text": [
            "President Obama officially announced the end of the War on Terror early this morning, at a televised appearance in the East Room of the White House. Speaking before members of his cabinet and the White House press corps, Obama described Terror’s surrender as a “cathartic” moment for the U.S., and one that should “send a resounding message” to the international community.\n",
            "Following 11 years of extended conflict in both Iraq and Afghanistan, which claimed the lives of more than 8,000 U.S. and Coalition soldiers and cost the U.S. over $1.4 trillion, the War on Terror finally ended today as Terror admitted defeat.\n",
            "“We can now be assured of the prolonged safety of our children, our families, and our loved ones,” said Obama during his speech. “Terror has at long last been defeated.”\n",
            "The announcement prompted celebrations from citizens all across the country, as elated masses poured into the streets now confident in the security of their nation. “Terror is done,” said New Yorker Jane Fineman. “We’ve all been waiting for this moment and it’s finally here—the change is palpable.”\n",
            "However, some were not as quick to celebrate. Yale Professor of History Jonathan Goodman stressed that there is still work to be done. “It’s never too early to discuss war reparations,\" he said. \"How can we help that which we’ve been fighting rise from the ashes of defeat?”\n",
            "When asked about the potential for further diplomacy between the U.S. and Terror, President Obama was cautiously optimistic.\n",
            "“We can’t be too quick to forgive that which has perpetrated significant acts of violence against the United States,” the President said. “However, I have hope that, with a bit of work and a real humanitarian effort, we can bring Terror back to our side.”\n",
            "Obama added that he hopes Terror might even, in the future, be an asset to the United States.\n",
            "“In the coming years we can make Terror one of our greatest allies, both overseas and at home. I hope to see Terror come back bigger and better than before—and this time, it can be on the right side of history.”\n",
            "[('President', 'NNP'), ('Obama', 'NNP'), ('officially', 'RB'), ('announced', 'VBD'), ('the', 'DT'), ('end', 'NN'), ('of', 'IN'), ('the', 'DT'), ('War', 'NNP'), ('on', 'IN'), ('Terror', 'NNP'), ('early', 'RB'), ('this', 'DT'), ('morning,', 'NN'), ('at', 'IN'), ('a', 'DT'), ('televised', 'JJ'), ('appearance', 'NN'), ('in', 'IN'), ('the', 'DT'), ('East', 'NNP'), ('Room', 'NNP'), ('of', 'IN'), ('the', 'DT'), ('White', 'NNP'), ('House.', 'NNP'), ('Speaking', 'NNP'), ('before', 'IN'), ('members', 'NNS'), ('of', 'IN'), ('his', 'PRP$'), ('cabinet', 'NN'), ('and', 'CC'), ('the', 'DT'), ('White', 'NNP'), ('House', 'NNP'), ('press', 'NN'), ('corps,', 'NN'), ('Obama', 'NNP'), ('described', 'VBD'), ('Terror’s', 'NNP'), ('surrender', 'NN'), ('as', 'IN'), ('a', 'DT'), ('“cathartic”', 'JJ'), ('moment', 'NN'), ('for', 'IN'), ('the', 'DT'), ('U.S.,', 'NNP'), ('and', 'CC'), ('one', 'CD'), ('that', 'WDT'), ('should', 'MD'), ('“send', 'VB'), ('a', 'DT'), ('resounding', 'JJ'), ('message”', 'NN'), ('to', 'TO'), ('the', 'DT'), ('international', 'JJ'), ('community.', 'NN'), ('Following', 'VBG'), ('11', 'CD'), ('years', 'NNS'), ('of', 'IN'), ('extended', 'JJ'), ('conflict', 'NN'), ('in', 'IN'), ('both', 'DT'), ('Iraq', 'NNP'), ('and', 'CC'), ('Afghanistan,', 'NNP'), ('which', 'WDT'), ('claimed', 'VBD'), ('the', 'DT'), ('lives', 'NNS'), ('of', 'IN'), ('more', 'JJR'), ('than', 'IN'), ('8,000', 'CD'), ('U.S.', 'NNP'), ('and', 'CC'), ('Coalition', 'NNP'), ('soldiers', 'NNS'), ('and', 'CC'), ('cost', 'NN'), ('the', 'DT'), ('U.S.', 'NNP'), ('over', 'IN'), ('$1.4', 'NNP'), ('trillion,', 'VBD'), ('the', 'DT'), ('War', 'NNP'), ('on', 'IN'), ('Terror', 'NNP'), ('finally', 'RB'), ('ended', 'VBD'), ('today', 'NN'), ('as', 'IN'), ('Terror', 'NNP'), ('admitted', 'VBD'), ('defeat.', 'JJ'), ('“We', 'NNS'), ('can', 'MD'), ('now', 'RB'), ('be', 'VB'), ('assured', 'VBN'), ('of', 'IN'), ('the', 'DT'), ('prolonged', 'JJ'), ('safety', 'NN'), ('of', 'IN'), ('our', 'PRP$'), ('children,', 'NN'), ('our', 'PRP$'), ('families,', 'NN'), ('and', 'CC'), ('our', 'PRP$'), ('loved', 'JJ'), ('ones,”', 'NN'), ('said', 'VBD'), ('Obama', 'NNP'), ('during', 'IN'), ('his', 'PRP$'), ('speech.', 'NN'), ('“Terror', 'NN'), ('has', 'VBZ'), ('at', 'IN'), ('long', 'RB'), ('last', 'JJ'), ('been', 'VBN'), ('defeated.”', 'VBG'), ('The', 'DT'), ('announcement', 'NN'), ('prompted', 'VBD'), ('celebrations', 'NNS'), ('from', 'IN'), ('citizens', 'NNS'), ('all', 'DT'), ('across', 'IN'), ('the', 'DT'), ('country,', 'NN'), ('as', 'IN'), ('elated', 'JJ'), ('masses', 'NNS'), ('poured', 'VBD'), ('into', 'IN'), ('the', 'DT'), ('streets', 'NNS'), ('now', 'RB'), ('confident', 'VBP'), ('in', 'IN'), ('the', 'DT'), ('security', 'NN'), ('of', 'IN'), ('their', 'PRP$'), ('nation.', 'JJ'), ('“Terror', 'NN'), ('is', 'VBZ'), ('done,”', 'VBN'), ('said', 'VBD'), ('New', 'NNP'), ('Yorker', 'NNP'), ('Jane', 'NNP'), ('Fineman.', 'NNP'), ('“We’ve', 'NNP'), ('all', 'DT'), ('been', 'VBN'), ('waiting', 'VBG'), ('for', 'IN'), ('this', 'DT'), ('moment', 'NN'), ('and', 'CC'), ('it’s', 'VB'), ('finally', 'RB'), ('here—the', 'JJ'), ('change', 'NN'), ('is', 'VBZ'), ('palpable.”', 'JJ'), ('However,', 'NNP'), ('some', 'DT'), ('were', 'VBD'), ('not', 'RB'), ('as', 'IN'), ('quick', 'JJ'), ('to', 'TO'), ('celebrate.', 'VB'), ('Yale', 'NNP'), ('Professor', 'NNP'), ('of', 'IN'), ('History', 'NNP'), ('Jonathan', 'NNP'), ('Goodman', 'NNP'), ('stressed', 'VBD'), ('that', 'IN'), ('there', 'EX'), ('is', 'VBZ'), ('still', 'RB'), ('work', 'VB'), ('to', 'TO'), ('be', 'VB'), ('done.', 'JJ'), ('“It’s', 'JJ'), ('never', 'RB'), ('too', 'RB'), ('early', 'JJ'), ('to', 'TO'), ('discuss', 'VB'), ('war', 'NN'), ('reparations,\"', 'NN'), ('he', 'PRP'), ('said.', 'VBZ'), ('\"How', 'CC'), ('can', 'MD'), ('we', 'PRP'), ('help', 'VB'), ('that', 'DT'), ('which', 'WDT'), ('we’ve', 'VBP'), ('been', 'VBN'), ('fighting', 'VBG'), ('rise', 'NN'), ('from', 'IN'), ('the', 'DT'), ('ashes', 'NNS'), ('of', 'IN'), ('defeat?”', 'NN'), ('When', 'WRB'), ('asked', 'VBD'), ('about', 'IN'), ('the', 'DT'), ('potential', 'NN'), ('for', 'IN'), ('further', 'JJ'), ('diplomacy', 'NN'), ('between', 'IN'), ('the', 'DT'), ('U.S.', 'NNP'), ('and', 'CC'), ('Terror,', 'NNP'), ('President', 'NNP'), ('Obama', 'NNP'), ('was', 'VBD'), ('cautiously', 'RB'), ('optimistic.', 'JJ'), ('“We', 'NNP'), ('can’t', 'NN'), ('be', 'VB'), ('too', 'RB'), ('quick', 'JJ'), ('to', 'TO'), ('forgive', 'VB'), ('that', 'DT'), ('which', 'WDT'), ('has', 'VBZ'), ('perpetrated', 'VBN'), ('significant', 'JJ'), ('acts', 'NNS'), ('of', 'IN'), ('violence', 'NN'), ('against', 'IN'), ('the', 'DT'), ('United', 'NNP'), ('States,”', 'NNP'), ('the', 'DT'), ('President', 'NNP'), ('said.', 'VBD'), ('“However,', 'NNP'), ('I', 'PRP'), ('have', 'VBP'), ('hope', 'VBN'), ('that,', 'NNS'), ('with', 'IN'), ('a', 'DT'), ('bit', 'NN'), ('of', 'IN'), ('work', 'NN'), ('and', 'CC'), ('a', 'DT'), ('real', 'JJ'), ('humanitarian', 'JJ'), ('effort,', 'NN'), ('we', 'PRP'), ('can', 'MD'), ('bring', 'VB'), ('Terror', 'NNP'), ('back', 'RB'), ('to', 'TO'), ('our', 'PRP$'), ('side.”', 'JJ'), ('Obama', 'NNP'), ('added', 'VBD'), ('that', 'IN'), ('he', 'PRP'), ('hopes', 'VBZ'), ('Terror', 'NN'), ('might', 'MD'), ('even,', 'VB'), ('in', 'IN'), ('the', 'DT'), ('future,', 'NN'), ('be', 'VB'), ('an', 'DT'), ('asset', 'NN'), ('to', 'TO'), ('the', 'DT'), ('United', 'NNP'), ('States.', 'NNP'), ('“In', 'VBD'), ('the', 'DT'), ('coming', 'VBG'), ('years', 'NNS'), ('we', 'PRP'), ('can', 'MD'), ('make', 'VB'), ('Terror', 'NNP'), ('one', 'CD'), ('of', 'IN'), ('our', 'PRP$'), ('greatest', 'JJS'), ('allies,', 'JJ'), ('both', 'DT'), ('overseas', 'JJ'), ('and', 'CC'), ('at', 'IN'), ('home.', 'NN'), ('I', 'PRP'), ('hope', 'VBP'), ('to', 'TO'), ('see', 'VB'), ('Terror', 'NNP'), ('come', 'VB'), ('back', 'RB'), ('bigger', 'JJR'), ('and', 'CC'), ('better', 'JJR'), ('than', 'IN'), ('before—and', 'NN'), ('this', 'DT'), ('time,', 'VBZ'), ('it', 'PRP'), ('can', 'MD'), ('be', 'VB'), ('on', 'IN'), ('the', 'DT'), ('right', 'JJ'), ('side', 'NN'), ('of', 'IN'), ('history.”', 'NN')]\n"
          ]
        },
        {
          "output_type": "stream",
          "name": "stderr",
          "text": [
            "[nltk_data] Downloading package punkt to /root/nltk_data...\n",
            "[nltk_data]   Package punkt is already up-to-date!\n",
            "[nltk_data] Downloading package wordnet to /root/nltk_data...\n"
          ]
        },
        {
          "output_type": "stream",
          "name": "stdout",
          "text": [
            "['President', 'Obama', 'officially', 'announce', 'the', 'end', 'of', 'the', 'War', 'on', 'Terror', 'early', 'this', 'morning,', 'at', 'a', 'televised', 'appearance', 'in', 'the', 'East', 'Room', 'of', 'the', 'White', 'House.', 'Speaking', 'before', 'member', 'of', 'his', 'cabinet', 'and', 'the', 'White', 'House', 'press', 'corps,', 'Obama', 'describe', 'Terror’s', 'surrender', 'as', 'a', '“cathartic”', 'moment', 'for', 'the', 'U.S.,', 'and', 'one', 'that', 'should', '“send', 'a', 'resounding', 'message”', 'to', 'the', 'international', 'community.', 'Following', '11', 'year', 'of', 'extended', 'conflict', 'in', 'both', 'Iraq', 'and', 'Afghanistan,', 'which', 'claim', 'the', 'life', 'of', 'more', 'than', '8,000', 'U.S.', 'and', 'Coalition', 'soldier', 'and', 'cost', 'the', 'U.S.', 'over', '$1.4', 'trillion,', 'the', 'War', 'on', 'Terror', 'finally', 'end', 'today', 'as', 'Terror', 'admit', 'defeat.', '“We', 'can', 'now', 'be', 'assure', 'of', 'the', 'prolonged', 'safety', 'of', 'our', 'children,', 'our', 'families,', 'and', 'our', 'loved', 'ones,”', 'say', 'Obama', 'during', 'his', 'speech.', '“Terror', 'have', 'at', 'long', 'last', 'be', 'defeated.”', 'The', 'announcement', 'prompt', 'celebration', 'from', 'citizen', 'all', 'across', 'the', 'country,', 'as', 'elated', 'mass', 'pour', 'into', 'the', 'street', 'now', 'confident', 'in', 'the', 'security', 'of', 'their', 'nation.', '“Terror', 'be', 'done,”', 'say', 'New', 'Yorker', 'Jane', 'Fineman.', '“We’ve', 'all', 'be', 'wait', 'for', 'this', 'moment', 'and', 'it’s', 'finally', 'here—the', 'change', 'be', 'palpable.”', 'However,', 'some', 'be', 'not', 'as', 'quick', 'to', 'celebrate.', 'Yale', 'Professor', 'of', 'History', 'Jonathan', 'Goodman', 'stress', 'that', 'there', 'be', 'still', 'work', 'to', 'be', 'done.', '“It’s', 'never', 'too', 'early', 'to', 'discuss', 'war', 'reparations,\"', 'he', 'said.', '\"How', 'can', 'we', 'help', 'that', 'which', 'we’ve', 'be', 'fight', 'rise', 'from', 'the', 'ash', 'of', 'defeat?”', 'When', 'ask', 'about', 'the', 'potential', 'for', 'further', 'diplomacy', 'between', 'the', 'U.S.', 'and', 'Terror,', 'President', 'Obama', 'be', 'cautiously', 'optimistic.', '“We', 'can’t', 'be', 'too', 'quick', 'to', 'forgive', 'that', 'which', 'have', 'perpetrate', 'significant', 'act', 'of', 'violence', 'against', 'the', 'United', 'States,”', 'the', 'President', 'said.', '“However,', 'I', 'have', 'hope', 'that,', 'with', 'a', 'bit', 'of', 'work', 'and', 'a', 'real', 'humanitarian', 'effort,', 'we', 'can', 'bring', 'Terror', 'back', 'to', 'our', 'side.”', 'Obama', 'add', 'that', 'he', 'hop', 'Terror', 'might', 'even,', 'in', 'the', 'future,', 'be', 'an', 'asset', 'to', 'the', 'United', 'States.', '“In', 'the', 'come', 'year', 'we', 'can', 'make', 'Terror', 'one', 'of', 'our', 'great', 'allies,', 'both', 'overseas', 'and', 'at', 'home.', 'I', 'hope', 'to', 'see', 'Terror', 'come', 'back', 'big', 'and', 'good', 'than', 'before—and', 'this', 'time,', 'it', 'can', 'be', 'on', 'the', 'right', 'side', 'of', 'history.”']\n"
          ]
        }
      ]
    },
    {
      "cell_type": "code",
      "source": [],
      "metadata": {
        "id": "oj_G_fs0052w"
      },
      "execution_count": null,
      "outputs": []
    },
    {
      "cell_type": "code",
      "source": [
        "import nltk\n",
        "nltk.download('wordnet')\n",
        "nltk.download('averaged_perceptron_tagger')"
      ],
      "metadata": {
        "colab": {
          "base_uri": "https://localhost:8080/"
        },
        "id": "bOxhHppZx_gI",
        "outputId": "f0308ddf-bacb-4803-d91b-82e10af9d7c4"
      },
      "execution_count": null,
      "outputs": [
        {
          "output_type": "stream",
          "name": "stderr",
          "text": [
            "[nltk_data] Downloading package wordnet to /root/nltk_data...\n",
            "[nltk_data]   Package wordnet is already up-to-date!\n",
            "[nltk_data] Downloading package averaged_perceptron_tagger to\n",
            "[nltk_data]     /root/nltk_data...\n",
            "[nltk_data]   Package averaged_perceptron_tagger is already up-to-\n",
            "[nltk_data]       date!\n"
          ]
        },
        {
          "output_type": "execute_result",
          "data": {
            "text/plain": [
              "True"
            ]
          },
          "metadata": {},
          "execution_count": 9
        }
      ]
    },
    {
      "cell_type": "code",
      "source": [
        "...\n",
        "\n",
        "from nltk.tag import pos_tag\n",
        "from nltk.stem.wordnet import WordNetLemmatizer\n",
        "\n",
        "def lemmatize_sentence(tokens):\n",
        "    lemmatizer = WordNetLemmatizer()\n",
        "    lemmatized_sentence = []\n",
        "    for word, tag in pos_tag(tokens):\n",
        "        if tag.startswith('NN'):\n",
        "            pos = 'n'\n",
        "        elif tag.startswith('VB'):\n",
        "            pos = 'v'\n",
        "        else:\n",
        "            pos = 'a'\n",
        "        lemmatized_sentence.append(lemmatizer.lemmatize(word, pos))\n",
        "    return lemmatized_sentence\n",
        "\n",
        "print(lemmatize_sentence(tokens[0]))"
      ],
      "metadata": {
        "colab": {
          "base_uri": "https://localhost:8080/",
          "height": 391
        },
        "id": "zoxZuen9yfkZ",
        "outputId": "07cb27fd-6fbe-4aff-a3a2-350d06a6e7f4"
      },
      "execution_count": null,
      "outputs": [
        {
          "output_type": "stream",
          "name": "stdout",
          "text": [
            "[('President', 'NNP'), ('Obama', 'NNP'), ('officially', 'RB'), ('announced', 'VBD'), ('the', 'DT'), ('end', 'NN'), ('of', 'IN'), ('the', 'DT'), ('War', 'NNP'), ('on', 'IN'), ('Terror', 'NNP'), ('early', 'RB'), ('this', 'DT'), ('morning,', 'NN'), ('at', 'IN'), ('a', 'DT'), ('televised', 'JJ'), ('appearance', 'NN'), ('in', 'IN'), ('the', 'DT'), ('East', 'NNP'), ('Room', 'NNP'), ('of', 'IN'), ('the', 'DT'), ('White', 'NNP'), ('House.', 'NNP'), ('Speaking', 'NNP'), ('before', 'IN'), ('members', 'NNS'), ('of', 'IN'), ('his', 'PRP$'), ('cabinet', 'NN'), ('and', 'CC'), ('the', 'DT'), ('White', 'NNP'), ('House', 'NNP'), ('press', 'NN'), ('corps,', 'NN'), ('Obama', 'NNP'), ('described', 'VBD'), ('Terror’s', 'NNP'), ('surrender', 'NN'), ('as', 'IN'), ('a', 'DT'), ('“cathartic”', 'JJ'), ('moment', 'NN'), ('for', 'IN'), ('the', 'DT'), ('U.S.,', 'NNP'), ('and', 'CC'), ('one', 'CD'), ('that', 'WDT'), ('should', 'MD'), ('“send', 'VB'), ('a', 'DT'), ('resounding', 'JJ'), ('message”', 'NN'), ('to', 'TO'), ('the', 'DT'), ('international', 'JJ'), ('community.', 'NN'), ('Following', 'VBG'), ('11', 'CD'), ('years', 'NNS'), ('of', 'IN'), ('extended', 'JJ'), ('conflict', 'NN'), ('in', 'IN'), ('both', 'DT'), ('Iraq', 'NNP'), ('and', 'CC'), ('Afghanistan,', 'NNP'), ('which', 'WDT'), ('claimed', 'VBD'), ('the', 'DT'), ('lives', 'NNS'), ('of', 'IN'), ('more', 'JJR'), ('than', 'IN'), ('8,000', 'CD'), ('U.S.', 'NNP'), ('and', 'CC'), ('Coalition', 'NNP'), ('soldiers', 'NNS'), ('and', 'CC'), ('cost', 'NN'), ('the', 'DT'), ('U.S.', 'NNP'), ('over', 'IN'), ('$1.4', 'NNP'), ('trillion,', 'VBD'), ('the', 'DT'), ('War', 'NNP'), ('on', 'IN'), ('Terror', 'NNP'), ('finally', 'RB'), ('ended', 'VBD'), ('today', 'NN'), ('as', 'IN'), ('Terror', 'NNP'), ('admitted', 'VBD'), ('defeat.', 'JJ'), ('“We', 'NNS'), ('can', 'MD'), ('now', 'RB'), ('be', 'VB'), ('assured', 'VBN'), ('of', 'IN'), ('the', 'DT'), ('prolonged', 'JJ'), ('safety', 'NN'), ('of', 'IN'), ('our', 'PRP$'), ('children,', 'NN'), ('our', 'PRP$'), ('families,', 'NN'), ('and', 'CC'), ('our', 'PRP$'), ('loved', 'JJ'), ('ones,”', 'NN'), ('said', 'VBD'), ('Obama', 'NNP'), ('during', 'IN'), ('his', 'PRP$'), ('speech.', 'NN'), ('“Terror', 'NN'), ('has', 'VBZ'), ('at', 'IN'), ('long', 'RB'), ('last', 'JJ'), ('been', 'VBN'), ('defeated.”', 'VBG'), ('The', 'DT'), ('announcement', 'NN'), ('prompted', 'VBD'), ('celebrations', 'NNS'), ('from', 'IN'), ('citizens', 'NNS'), ('all', 'DT'), ('across', 'IN'), ('the', 'DT'), ('country,', 'NN'), ('as', 'IN'), ('elated', 'JJ'), ('masses', 'NNS'), ('poured', 'VBD'), ('into', 'IN'), ('the', 'DT'), ('streets', 'NNS'), ('now', 'RB'), ('confident', 'VBP'), ('in', 'IN'), ('the', 'DT'), ('security', 'NN'), ('of', 'IN'), ('their', 'PRP$'), ('nation.', 'JJ'), ('“Terror', 'NN'), ('is', 'VBZ'), ('done,”', 'VBN'), ('said', 'VBD'), ('New', 'NNP'), ('Yorker', 'NNP'), ('Jane', 'NNP'), ('Fineman.', 'NNP'), ('“We’ve', 'NNP'), ('all', 'DT'), ('been', 'VBN'), ('waiting', 'VBG'), ('for', 'IN'), ('this', 'DT'), ('moment', 'NN'), ('and', 'CC'), ('it’s', 'VB'), ('finally', 'RB'), ('here—the', 'JJ'), ('change', 'NN'), ('is', 'VBZ'), ('palpable.”', 'JJ'), ('However,', 'NNP'), ('some', 'DT'), ('were', 'VBD'), ('not', 'RB'), ('as', 'IN'), ('quick', 'JJ'), ('to', 'TO'), ('celebrate.', 'VB'), ('Yale', 'NNP'), ('Professor', 'NNP'), ('of', 'IN'), ('History', 'NNP'), ('Jonathan', 'NNP'), ('Goodman', 'NNP'), ('stressed', 'VBD'), ('that', 'IN'), ('there', 'EX'), ('is', 'VBZ'), ('still', 'RB'), ('work', 'VB'), ('to', 'TO'), ('be', 'VB'), ('done.', 'JJ'), ('“It’s', 'JJ'), ('never', 'RB'), ('too', 'RB'), ('early', 'JJ'), ('to', 'TO'), ('discuss', 'VB'), ('war', 'NN'), ('reparations,\"', 'NN'), ('he', 'PRP'), ('said.', 'VBZ'), ('\"How', 'CC'), ('can', 'MD'), ('we', 'PRP'), ('help', 'VB'), ('that', 'DT'), ('which', 'WDT'), ('we’ve', 'VBP'), ('been', 'VBN'), ('fighting', 'VBG'), ('rise', 'NN'), ('from', 'IN'), ('the', 'DT'), ('ashes', 'NNS'), ('of', 'IN'), ('defeat?”', 'NN'), ('When', 'WRB'), ('asked', 'VBD'), ('about', 'IN'), ('the', 'DT'), ('potential', 'NN'), ('for', 'IN'), ('further', 'JJ'), ('diplomacy', 'NN'), ('between', 'IN'), ('the', 'DT'), ('U.S.', 'NNP'), ('and', 'CC'), ('Terror,', 'NNP'), ('President', 'NNP'), ('Obama', 'NNP'), ('was', 'VBD'), ('cautiously', 'RB'), ('optimistic.', 'JJ'), ('“We', 'NNP'), ('can’t', 'NN'), ('be', 'VB'), ('too', 'RB'), ('quick', 'JJ'), ('to', 'TO'), ('forgive', 'VB'), ('that', 'DT'), ('which', 'WDT'), ('has', 'VBZ'), ('perpetrated', 'VBN'), ('significant', 'JJ'), ('acts', 'NNS'), ('of', 'IN'), ('violence', 'NN'), ('against', 'IN'), ('the', 'DT'), ('United', 'NNP'), ('States,”', 'NNP'), ('the', 'DT'), ('President', 'NNP'), ('said.', 'VBD'), ('“However,', 'NNP'), ('I', 'PRP'), ('have', 'VBP'), ('hope', 'VBN'), ('that,', 'NNS'), ('with', 'IN'), ('a', 'DT'), ('bit', 'NN'), ('of', 'IN'), ('work', 'NN'), ('and', 'CC'), ('a', 'DT'), ('real', 'JJ'), ('humanitarian', 'JJ'), ('effort,', 'NN'), ('we', 'PRP'), ('can', 'MD'), ('bring', 'VB'), ('Terror', 'NNP'), ('back', 'RB'), ('to', 'TO'), ('our', 'PRP$'), ('side.”', 'JJ'), ('Obama', 'NNP'), ('added', 'VBD'), ('that', 'IN'), ('he', 'PRP'), ('hopes', 'VBZ'), ('Terror', 'NN'), ('might', 'MD'), ('even,', 'VB'), ('in', 'IN'), ('the', 'DT'), ('future,', 'NN'), ('be', 'VB'), ('an', 'DT'), ('asset', 'NN'), ('to', 'TO'), ('the', 'DT'), ('United', 'NNP'), ('States.', 'NNP'), ('“In', 'VBD'), ('the', 'DT'), ('coming', 'VBG'), ('years', 'NNS'), ('we', 'PRP'), ('can', 'MD'), ('make', 'VB'), ('Terror', 'NNP'), ('one', 'CD'), ('of', 'IN'), ('our', 'PRP$'), ('greatest', 'JJS'), ('allies,', 'JJ'), ('both', 'DT'), ('overseas', 'JJ'), ('and', 'CC'), ('at', 'IN'), ('home.', 'NN'), ('I', 'PRP'), ('hope', 'VBP'), ('to', 'TO'), ('see', 'VB'), ('Terror', 'NNP'), ('come', 'VB'), ('back', 'RB'), ('bigger', 'JJR'), ('and', 'CC'), ('better', 'JJR'), ('than', 'IN'), ('before—and', 'NN'), ('this', 'DT'), ('time,', 'VBZ'), ('it', 'PRP'), ('can', 'MD'), ('be', 'VB'), ('on', 'IN'), ('the', 'DT'), ('right', 'JJ'), ('side', 'NN'), ('of', 'IN'), ('history.”', 'NN')]\n"
          ]
        },
        {
          "output_type": "error",
          "ename": "TypeError",
          "evalue": "ignored",
          "traceback": [
            "\u001b[0;31m---------------------------------------------------------------------------\u001b[0m",
            "\u001b[0;31mTypeError\u001b[0m                                 Traceback (most recent call last)",
            "\u001b[0;32m<ipython-input-13-92472dd326d6>\u001b[0m in \u001b[0;36m<cell line: 20>\u001b[0;34m()\u001b[0m\n\u001b[1;32m     18\u001b[0m     \u001b[0;32mreturn\u001b[0m \u001b[0mlemmatized_sentence\u001b[0m\u001b[0;34m\u001b[0m\u001b[0;34m\u001b[0m\u001b[0m\n\u001b[1;32m     19\u001b[0m \u001b[0;34m\u001b[0m\u001b[0m\n\u001b[0;32m---> 20\u001b[0;31m \u001b[0mprint\u001b[0m\u001b[0;34m(\u001b[0m\u001b[0mlemmatize_sentence\u001b[0m\u001b[0;34m(\u001b[0m\u001b[0mtokens\u001b[0m\u001b[0;34m[\u001b[0m\u001b[0;36m0\u001b[0m\u001b[0;34m]\u001b[0m\u001b[0;34m)\u001b[0m\u001b[0;34m)\u001b[0m\u001b[0;34m\u001b[0m\u001b[0;34m\u001b[0m\u001b[0m\n\u001b[0m",
            "\u001b[0;32m<ipython-input-13-92472dd326d6>\u001b[0m in \u001b[0;36mlemmatize_sentence\u001b[0;34m(tokens)\u001b[0m\n\u001b[1;32m      8\u001b[0m     \u001b[0mlemmatizer\u001b[0m \u001b[0;34m=\u001b[0m \u001b[0mWordNetLemmatizer\u001b[0m\u001b[0;34m(\u001b[0m\u001b[0;34m)\u001b[0m\u001b[0;34m\u001b[0m\u001b[0;34m\u001b[0m\u001b[0m\n\u001b[1;32m      9\u001b[0m     \u001b[0mlemmatized_sentence\u001b[0m \u001b[0;34m=\u001b[0m \u001b[0;34m[\u001b[0m\u001b[0;34m]\u001b[0m\u001b[0;34m\u001b[0m\u001b[0;34m\u001b[0m\u001b[0m\n\u001b[0;32m---> 10\u001b[0;31m     \u001b[0;32mfor\u001b[0m \u001b[0mword\u001b[0m\u001b[0;34m,\u001b[0m \u001b[0mtag\u001b[0m \u001b[0;32min\u001b[0m \u001b[0mpos_tag\u001b[0m\u001b[0;34m(\u001b[0m\u001b[0mtokens\u001b[0m\u001b[0;34m)\u001b[0m\u001b[0;34m:\u001b[0m\u001b[0;34m\u001b[0m\u001b[0;34m\u001b[0m\u001b[0m\n\u001b[0m\u001b[1;32m     11\u001b[0m         \u001b[0;32mif\u001b[0m \u001b[0mtag\u001b[0m\u001b[0;34m.\u001b[0m\u001b[0mstartswith\u001b[0m\u001b[0;34m(\u001b[0m\u001b[0;34m'NN'\u001b[0m\u001b[0;34m)\u001b[0m\u001b[0;34m:\u001b[0m\u001b[0;34m\u001b[0m\u001b[0;34m\u001b[0m\u001b[0m\n\u001b[1;32m     12\u001b[0m             \u001b[0mpos\u001b[0m \u001b[0;34m=\u001b[0m \u001b[0;34m'n'\u001b[0m\u001b[0;34m\u001b[0m\u001b[0;34m\u001b[0m\u001b[0m\n",
            "\u001b[0;32m/usr/local/lib/python3.10/dist-packages/nltk/tag/__init__.py\u001b[0m in \u001b[0;36mpos_tag\u001b[0;34m(tokens, tagset, lang)\u001b[0m\n\u001b[1;32m    164\u001b[0m     \"\"\"\n\u001b[1;32m    165\u001b[0m     \u001b[0mtagger\u001b[0m \u001b[0;34m=\u001b[0m \u001b[0m_get_tagger\u001b[0m\u001b[0;34m(\u001b[0m\u001b[0mlang\u001b[0m\u001b[0;34m)\u001b[0m\u001b[0;34m\u001b[0m\u001b[0;34m\u001b[0m\u001b[0m\n\u001b[0;32m--> 166\u001b[0;31m     \u001b[0;32mreturn\u001b[0m \u001b[0m_pos_tag\u001b[0m\u001b[0;34m(\u001b[0m\u001b[0mtokens\u001b[0m\u001b[0;34m,\u001b[0m \u001b[0mtagset\u001b[0m\u001b[0;34m,\u001b[0m \u001b[0mtagger\u001b[0m\u001b[0;34m,\u001b[0m \u001b[0mlang\u001b[0m\u001b[0;34m)\u001b[0m\u001b[0;34m\u001b[0m\u001b[0;34m\u001b[0m\u001b[0m\n\u001b[0m\u001b[1;32m    167\u001b[0m \u001b[0;34m\u001b[0m\u001b[0m\n\u001b[1;32m    168\u001b[0m \u001b[0;34m\u001b[0m\u001b[0m\n",
            "\u001b[0;32m/usr/local/lib/python3.10/dist-packages/nltk/tag/__init__.py\u001b[0m in \u001b[0;36m_pos_tag\u001b[0;34m(tokens, tagset, tagger, lang)\u001b[0m\n\u001b[1;32m    118\u001b[0m     \u001b[0;31m# Throws Error if tokens is of string type\u001b[0m\u001b[0;34m\u001b[0m\u001b[0;34m\u001b[0m\u001b[0m\n\u001b[1;32m    119\u001b[0m     \u001b[0;32melif\u001b[0m \u001b[0misinstance\u001b[0m\u001b[0;34m(\u001b[0m\u001b[0mtokens\u001b[0m\u001b[0;34m,\u001b[0m \u001b[0mstr\u001b[0m\u001b[0;34m)\u001b[0m\u001b[0;34m:\u001b[0m\u001b[0;34m\u001b[0m\u001b[0;34m\u001b[0m\u001b[0m\n\u001b[0;32m--> 120\u001b[0;31m         \u001b[0;32mraise\u001b[0m \u001b[0mTypeError\u001b[0m\u001b[0;34m(\u001b[0m\u001b[0;34m\"tokens: expected a list of strings, got a string\"\u001b[0m\u001b[0;34m)\u001b[0m\u001b[0;34m\u001b[0m\u001b[0;34m\u001b[0m\u001b[0m\n\u001b[0m\u001b[1;32m    121\u001b[0m \u001b[0;34m\u001b[0m\u001b[0m\n\u001b[1;32m    122\u001b[0m     \u001b[0;32melse\u001b[0m\u001b[0;34m:\u001b[0m\u001b[0;34m\u001b[0m\u001b[0;34m\u001b[0m\u001b[0m\n",
            "\u001b[0;31mTypeError\u001b[0m: tokens: expected a list of strings, got a string"
          ]
        }
      ]
    },
    {
      "cell_type": "code",
      "source": [
        "nl"
      ],
      "metadata": {
        "id": "xdluGCGS0NUO"
      },
      "execution_count": null,
      "outputs": []
    }
  ]
}