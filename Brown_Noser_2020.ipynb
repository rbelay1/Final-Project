{
  "nbformat": 4,
  "nbformat_minor": 0,
  "metadata": {
    "colab": {
      "provenance": [],
      "include_colab_link": true
    },
    "kernelspec": {
      "name": "python3",
      "display_name": "Python 3"
    },
    "language_info": {
      "name": "python"
    }
  },
  "cells": [
    {
      "cell_type": "markdown",
      "metadata": {
        "id": "view-in-github",
        "colab_type": "text"
      },
      "source": [
        "<a href=\"https://colab.research.google.com/github/rbelay1/Final-Project/blob/main/Brown_Noser_2020.ipynb\" target=\"_parent\"><img src=\"https://colab.research.google.com/assets/colab-badge.svg\" alt=\"Open In Colab\"/></a>"
      ]
    },
    {
      "cell_type": "code",
      "source": [
        "pip install trafilatura"
      ],
      "metadata": {
        "colab": {
          "base_uri": "https://localhost:8080/"
        },
        "id": "B2wkzY4Butrm",
        "outputId": "b3f4059e-d6f0-4684-b123-ee7a46d8eb5b"
      },
      "execution_count": null,
      "outputs": [
        {
          "output_type": "stream",
          "name": "stdout",
          "text": [
            "Looking in indexes: https://pypi.org/simple, https://us-python.pkg.dev/colab-wheels/public/simple/\n",
            "Collecting trafilatura\n",
            "  Downloading trafilatura-1.5.0-py3-none-any.whl (1.0 MB)\n",
            "\u001b[2K     \u001b[90m━━━━━━━━━━━━━━━━━━━━━━━━━━━━━━━━━━━━━━━━\u001b[0m \u001b[32m1.0/1.0 MB\u001b[0m \u001b[31m15.7 MB/s\u001b[0m eta \u001b[36m0:00:00\u001b[0m\n",
            "\u001b[?25hRequirement already satisfied: lxml>=4.9.2 in /usr/local/lib/python3.9/dist-packages (from trafilatura) (4.9.2)\n",
            "Collecting htmldate>=1.4.2\n",
            "  Downloading htmldate-1.4.2-py3-none-any.whl (33 kB)\n",
            "Requirement already satisfied: certifi in /usr/local/lib/python3.9/dist-packages (from trafilatura) (2022.12.7)\n",
            "Requirement already satisfied: urllib3<2,>=1.26 in /usr/local/lib/python3.9/dist-packages (from trafilatura) (1.26.15)\n",
            "Collecting courlan>=0.9.0\n",
            "  Downloading courlan-0.9.1-py3-none-any.whl (40 kB)\n",
            "\u001b[2K     \u001b[90m━━━━━━━━━━━━━━━━━━━━━━━━━━━━━━━━━━━━━━━━\u001b[0m \u001b[32m40.7/40.7 kB\u001b[0m \u001b[31m2.4 MB/s\u001b[0m eta \u001b[36m0:00:00\u001b[0m\n",
            "\u001b[?25hCollecting justext>=3.0.0\n",
            "  Downloading jusText-3.0.0-py2.py3-none-any.whl (837 kB)\n",
            "\u001b[2K     \u001b[90m━━━━━━━━━━━━━━━━━━━━━━━━━━━━━━━━━━━━━━\u001b[0m \u001b[32m837.8/837.8 kB\u001b[0m \u001b[31m54.7 MB/s\u001b[0m eta \u001b[36m0:00:00\u001b[0m\n",
            "\u001b[?25hCollecting charset-normalizer>=3.1.0\n",
            "  Downloading charset_normalizer-3.1.0-cp39-cp39-manylinux_2_17_x86_64.manylinux2014_x86_64.whl (199 kB)\n",
            "\u001b[2K     \u001b[90m━━━━━━━━━━━━━━━━━━━━━━━━━━━━━━━━━━━━━━\u001b[0m \u001b[32m199.2/199.2 kB\u001b[0m \u001b[31m15.0 MB/s\u001b[0m eta \u001b[36m0:00:00\u001b[0m\n",
            "\u001b[?25hRequirement already satisfied: langcodes>=3.3.0 in /usr/local/lib/python3.9/dist-packages (from courlan>=0.9.0->trafilatura) (3.3.0)\n",
            "Collecting tld>=0.13\n",
            "  Downloading tld-0.13-py2.py3-none-any.whl (263 kB)\n",
            "\u001b[2K     \u001b[90m━━━━━━━━━━━━━━━━━━━━━━━━━━━━━━━━━━━━━━\u001b[0m \u001b[32m263.8/263.8 kB\u001b[0m \u001b[31m18.8 MB/s\u001b[0m eta \u001b[36m0:00:00\u001b[0m\n",
            "\u001b[?25hRequirement already satisfied: python-dateutil>=2.8.2 in /usr/local/lib/python3.9/dist-packages (from htmldate>=1.4.2->trafilatura) (2.8.2)\n",
            "Collecting dateparser>=1.1.2\n",
            "  Downloading dateparser-1.1.8-py2.py3-none-any.whl (293 kB)\n",
            "\u001b[2K     \u001b[90m━━━━━━━━━━━━━━━━━━━━━━━━━━━━━━━━━━━━━━\u001b[0m \u001b[32m293.8/293.8 kB\u001b[0m \u001b[31m22.3 MB/s\u001b[0m eta \u001b[36m0:00:00\u001b[0m\n",
            "\u001b[?25hRequirement already satisfied: pytz in /usr/local/lib/python3.9/dist-packages (from dateparser>=1.1.2->htmldate>=1.4.2->trafilatura) (2022.7.1)\n",
            "Requirement already satisfied: tzlocal in /usr/local/lib/python3.9/dist-packages (from dateparser>=1.1.2->htmldate>=1.4.2->trafilatura) (4.3)\n",
            "Requirement already satisfied: regex!=2019.02.19,!=2021.8.27 in /usr/local/lib/python3.9/dist-packages (from dateparser>=1.1.2->htmldate>=1.4.2->trafilatura) (2022.10.31)\n",
            "Requirement already satisfied: six>=1.5 in /usr/local/lib/python3.9/dist-packages (from python-dateutil>=2.8.2->htmldate>=1.4.2->trafilatura) (1.16.0)\n",
            "Requirement already satisfied: pytz-deprecation-shim in /usr/local/lib/python3.9/dist-packages (from tzlocal->dateparser>=1.1.2->htmldate>=1.4.2->trafilatura) (0.1.0.post0)\n",
            "Requirement already satisfied: tzdata in /usr/local/lib/python3.9/dist-packages (from pytz-deprecation-shim->tzlocal->dateparser>=1.1.2->htmldate>=1.4.2->trafilatura) (2023.3)\n",
            "Installing collected packages: tld, justext, charset-normalizer, courlan, dateparser, htmldate, trafilatura\n",
            "  Attempting uninstall: charset-normalizer\n",
            "    Found existing installation: charset-normalizer 2.0.12\n",
            "    Uninstalling charset-normalizer-2.0.12:\n",
            "      Successfully uninstalled charset-normalizer-2.0.12\n",
            "\u001b[31mERROR: pip's dependency resolver does not currently take into account all the packages that are installed. This behaviour is the source of the following dependency conflicts.\n",
            "requests 2.27.1 requires charset-normalizer~=2.0.0; python_version >= \"3\", but you have charset-normalizer 3.1.0 which is incompatible.\u001b[0m\u001b[31m\n",
            "\u001b[0mSuccessfully installed charset-normalizer-3.1.0 courlan-0.9.1 dateparser-1.1.8 htmldate-1.4.2 justext-3.0.0 tld-0.13 trafilatura-1.5.0\n"
          ]
        }
      ]
    },
    {
      "cell_type": "code",
      "source": [
        "import requests\n",
        "from bs4 import BeautifulSoup\n",
        " \n",
        " \n",
        "url = 'http://thenoser.com/issue/107'\n",
        "reqs = requests.get(url)\n",
        "soup = BeautifulSoup(reqs.text, 'html.parser')\n",
        " \n",
        "urls = []\n",
        "for link in soup.find_all('a'):\n",
        "    print(link.get('href'))"
      ],
      "metadata": {
        "colab": {
          "base_uri": "https://localhost:8080/"
        },
        "id": "lhjA-Y2TDS65",
        "outputId": "77cb5cd4-6e7d-434f-ff68-ce57db493f77"
      },
      "execution_count": null,
      "outputs": [
        {
          "output_type": "stream",
          "name": "stdout",
          "text": [
            "/section/Campus-Life\n",
            "/section/Off-Campus\n",
            "/section/Opinion\n",
            "/section/Politics\n",
            "/section/Science-and-Technology\n",
            "/section/Sports\n",
            "/section/Cinema-Corner\n",
            "/section/Noser-For-Kids\n",
            "/section/Arts--Culture\n",
            "http://thenoser.com\n",
            "/article/Cast-Of-Student-Play-Generously-Treats-Audience-To\n",
            "/article/Cast-Of-Student-Play-Generously-Treats-Audience-To\n",
            "/article/Cast-Of-Student-Play-Generously-Treats-Audience-To\n",
            "/article/Local-Business-Going-To-Start-Pathetic-Little-Inst\n",
            "/article/Keep-Calm-And-Avoid-Homework-Cousins-T-shirt-Comma\n",
            "/article/Keep-Calm-And-Avoid-Homework-Cousins-T-shirt-Comma\n",
            "/article/Dad-Blowing-Dust-Off-Record-Like-He-Indiana-Jones\n",
            "/article/Dad-Blowing-Dust-Off-Record-Like-He-Indiana-Jones\n",
            "/article/Facebook-People-You-May-Know-List-Just-People-You-\n",
            "/article/Facebook-People-You-May-Know-List-Just-People-You-\n",
            "/article/Aunts-Dog-Not-One-Of-The-Cute-Ones\n",
            "/section/Off-Campus/107\n",
            "/article/I-Cannot-Support-Bernie-Sanders-Because-He-Was-Mea\n",
            "/article/Selling-My-Soul-To-A-Dark-Mage-In-Exchange-For-Com\n",
            "/section/Opinion/107\n",
            "/article/BDH-Begs-Brown-Community-To-Stop-Sending-So-Much-F\n",
            "/article/BDH-Begs-Brown-Community-To-Stop-Sending-So-Much-F\n",
            "/article/Dont-Worry-Its-The-Brown-Noser-Student-Handing-Out\n",
            "/article/Dont-Worry-Its-The-Brown-Noser-Student-Handing-Out\n",
            "/article/Editors-Note-Bringing-The-Noser-Into-The-_Future_\n",
            "/article/Madame-Clementines-Horoscopes-3\n",
            "/article/Madame-Clementines-Horoscopes-3\n",
            "/article/Indy-Trying-To-Redeem-Themselves-After-Recent-Issu\n",
            "/article/Indy-Trying-To-Redeem-Themselves-After-Recent-Issu\n",
            "/section/Campus-Life/107\n",
            "/article/Science-Reports-Correlation-Between-Amount-Of-Tiny\n",
            "/article/Science-Reports-Correlation-Between-Amount-Of-Tiny\n",
            "/article/New-iPhone-Ad-Just-Spits-In-Your-Face-And-Reads-Yo\n",
            "/article/New-iPhone-Ad-Just-Spits-In-Your-Face-And-Reads-Yo\n",
            "/article/New-Spotify-Update-Features-Are-You-Sure-Pop-Up-Be\n",
            "/section/Science-and-Technology/107\n",
            "#\n",
            "http://collegequill.com\n"
          ]
        }
      ]
    },
    {
      "cell_type": "code",
      "source": [
        "from trafilatura import fetch_url\n",
        "\n",
        "document = fetch_url('http://thenoser.com/article/Cast-Of-Student-Play-Generously-Treats-Audience-To')"
      ],
      "metadata": {
        "id": "VYz3f9Rlv4cl"
      },
      "execution_count": null,
      "outputs": []
    },
    {
      "cell_type": "code",
      "source": [
        "from trafilatura import extract\n",
        "\n",
        "text = extract(document)\n",
        "print(text)"
      ],
      "metadata": {
        "colab": {
          "base_uri": "https://localhost:8080/"
        },
        "id": "HGTdiImsv9CE",
        "outputId": "167ddeed-726a-4867-9a5f-d701a433d2c6"
      },
      "execution_count": null,
      "outputs": [
        {
          "output_type": "stream",
          "name": "stdout",
          "text": [
            "Assembling a line of folding chairs in the center of Leeds Theater last Sunday, the cast of Sock & Buskin’s recent play “My Country, My Time” was generous enough to treat its audience to a post-show talkback.\n",
            "“We really lucked out!” commented Charisse Bedford ’21 as the 4-person cast fielded questions from their rapt, lavishly-spoiled audience, shedding light on the one-act play that commented on a gamut of heavy topics from climate anxiety to the American dream. “It’s so selfless of them to grace us with such riveting and thought-provoking insights into this devised student play. God, what a thrill!”\n",
            "According to sources, the benevolent Q and A was the cherry on top of a spectacular night of theater that left the audience practically begging for an intense hour of post-show discussion — which, thanks to the kind deeds of the hard-working cast, they were lucky enough to receive.\n",
            "“It’s like Christmas came early,” Bedford continued giddily as the philanthropic cast was showered in queries from their engaged and eager fans. “The line to ask questions is nearly out the door. We can’t get enough!”\n",
            "“I hope they don’t run out of time before I get to ask how the script relates to the digital archive,” Bedford wondered aloud, eyeing the growing queue of spectators hoping to pick the cast’s genius and charitable brains. “If they answer that question for me… Well, that would be a priceless, extravagant gift.”\n",
            "At press time, despite the considerate aid offered by the cast, the audience was left deeply confused by the inexplicable motif of traffic cones in the play.\n"
          ]
        }
      ]
    },
    {
      "cell_type": "code",
      "source": [
        "from trafilatura import fetch_url\n",
        "\n",
        "document = fetch_url('http://thenoser.com/article/Local-Business-Going-To-Start-Pathetic-Little-Inst')"
      ],
      "metadata": {
        "id": "IfbNLJ6CwgDO"
      },
      "execution_count": null,
      "outputs": []
    },
    {
      "cell_type": "code",
      "source": [
        "from trafilatura import extract\n",
        "\n",
        "text = extract(document)\n",
        "print(text)"
      ],
      "metadata": {
        "colab": {
          "base_uri": "https://localhost:8080/"
        },
        "id": "O8RUnpLEDYgR",
        "outputId": "33f91a79-2df4-4e43-9427-bc39947d5ec9"
      },
      "execution_count": null,
      "outputs": [
        {
          "output_type": "stream",
          "name": "stdout",
          "text": [
            "Sources reported Sunday that local business Zephyr Pastries is planning to start a pathetic little Instagram account.\n",
            "“We’ve been trying to expand our business,” explained founder and manager Grant Andante, fiddling with the Instagram app on his phone. “What better way to do that than with a pathetic little Instagram page? We can reach upwards of 20, 30 people and show them what we’re all about, assuming they read our posts.”\n",
            "“I was thinking of cornering one of my 20-something cashiers and appointing them our Social Media Manager but not paying them any extra for it,” Andante continued. “Then they’ll just take care of the posts — something good would be a picture of some of our nicest pastries with a caption for a special promotion, but it gets 4 likes, no comments, and no one uses the promotion.”\n",
            "“This could really be a game changer,” Andante said excitedly. “I think 10, 15 pitiful posts on there would really generate some buzz. Nothing like excitement that barely conceals the quiet desperation of trying to make it in food service to attract customers!”\n",
            "At press time, Andante was brainstorming a dogshit, indecipherable username.\n"
          ]
        }
      ]
    },
    {
      "cell_type": "code",
      "source": [
        "from trafilatura import fetch_url\n",
        "\n",
        "document = fetch_url('http://thenoser.com/article/Keep-Calm-And-Avoid-Homework-Cousins-T-shirt-Comma')"
      ],
      "metadata": {
        "id": "2dgBhCI0DqFi"
      },
      "execution_count": null,
      "outputs": []
    },
    {
      "cell_type": "code",
      "source": [
        "from trafilatura import extract\n",
        "\n",
        "text = extract(document)\n",
        "print(text)"
      ],
      "metadata": {
        "colab": {
          "base_uri": "https://localhost:8080/"
        },
        "id": "03E3ysjGDqbP",
        "outputId": "c7e1a94f-12d1-4cff-b822-9d4f1a783d58"
      },
      "execution_count": null,
      "outputs": [
        {
          "output_type": "stream",
          "name": "stdout",
          "text": [
            "Thousands of trembling citizens began fiercely meditating while shredding algebra worksheets and copies of Lord of the Flies this past Tuesday after a command to “Keep Calm and Avoid Homework” was issued by local cousin Nicky Campbell’s neon orange graphic tee.\n",
            "“Citizens! Heed my command and this state of emergency will be over expediently,” announced Campbell’s t-shirt from the Warwick, RI Target, in a voice booming and terrible. “Remain composed. Do as I say and there will be no need to be afraid!”\n",
            "“Now, break all pencils over the knee until wood and graphite litter the Earth!” continued the t-shirt, which issued the mandate with a force so powerful it captivated and comforted all who heard it. “Burn your lab reports! Shun your annotated paperback of The Scarlet Letter! Throw your geometry textbook into the ash heap of history! A new dawn has arrived! Rejoice! Rejoice!”\n",
            "At press time, crowds of teary-eyed citizens waited with bated breath as Campbell changed into a new shirt which announced that a sarcastic comment was loading.\n"
          ]
        }
      ]
    },
    {
      "cell_type": "code",
      "source": [
        "from trafilatura import fetch_url\n",
        "\n",
        "document = fetch_url('http://thenoser.com/article/Dad-Blowing-Dust-Off-Record-Like-He-Indiana-Jones')\n"
      ],
      "metadata": {
        "id": "68VaGnnTD5Bm"
      },
      "execution_count": null,
      "outputs": []
    },
    {
      "cell_type": "code",
      "source": [
        "from trafilatura import extract\n",
        "\n",
        "text = extract(document)\n",
        "print(text)"
      ],
      "metadata": {
        "colab": {
          "base_uri": "https://localhost:8080/"
        },
        "id": "I9WwXSIPD5fF",
        "outputId": "ab1298af-30e6-454d-f378-997b4b203e58"
      },
      "execution_count": null,
      "outputs": [
        {
          "output_type": "stream",
          "name": "stdout",
          "text": [
            "Area dad Mark Babson is reportedly taking painstaking care to blow every speck off dust of his 1977 vinyl of Steely Dan’s Aja as if he were Indiana Jones, the intrepid archaeologist of classic 80s movie trilogy.\n",
            "“Man, it’s been forever since I played this,” said Babson as he pulled the album out of its yellowed, paper dust jacket. “This really takes me back to high school.”\n",
            "Babson handled the record as though he were unearthing a holy artifact from a long-lost civilization, embodying the spirit of a great archaeologist as he blew short, forceful streams of air onto the record, and then used a specialized felt brush to get the final particulates off the disc.\n",
            "“You just can’t get the same sound from a digital file. This is how music was always meant to be listened to,” explained Babson, beads of sweat dripping from his forehead as he attempted to perfectly align the record on the turntable. “The quality is worth a little extra effort.”\n",
            "Babson demanded complete silence as he lifted the needle and painstakingly lowered it onto the spinning record. “This is where a lot of people get it wrong. If I drop the needle here and scratch the record, it’s over. There’s no coming back from that. Years of conservation and work will be lost.” In a climactic moment, Steely Dan’s classic jazz rock began to play from Babson’s $400 speakers as he stood back and gave the grin of a true disciple of the archive.\n",
            "At press time, Babson had put on sterile cotton gloves and entered minute five of slowly sliding the record back into its cardboard sleeve.\n"
          ]
        }
      ]
    },
    {
      "cell_type": "code",
      "source": [
        "from trafilatura import fetch_url\n",
        "\n",
        "document = fetch_url('http://thenoser.com/article/Facebook-People-You-May-Know-List-Just-People-You-')\n"
      ],
      "metadata": {
        "id": "BHoxC2tREGNv"
      },
      "execution_count": null,
      "outputs": []
    },
    {
      "cell_type": "code",
      "source": [
        "from trafilatura import extract\n",
        "\n",
        "text = extract(document)\n",
        "print(text)"
      ],
      "metadata": {
        "colab": {
          "base_uri": "https://localhost:8080/"
        },
        "id": "rnmy2wmsEF5w",
        "outputId": "289c35b1-486a-4e70-e2b6-76d745860ff4"
      },
      "execution_count": null,
      "outputs": [
        {
          "output_type": "stream",
          "name": "stdout",
          "text": [
            "Recent investigations have indicated that Facebook’s “People You May Know” list consists entirely of people you avoid. “I do know them,” senior Madeleine Lu said of those on the list Facebook had generated for her. “But I generally try to avoid them. There’s the guy I went on one Tinder date with two years ago, the girl in my seminar I don’t really like, the guy who interviewed me for a club I didn’t get into, my weird cousin – no one who I have any desire to friend. Everyone on this list is someone I pretend not to see when I see them somewhere. Facebook really managed to find the people I least want to maintain relationships with.” Lu also confirmed that LinkedIn’s suggested connections are just people you openly despise.\n",
            "Facebook “People You May Know” List Just People You Avoid\n",
            "Published Friday, March 6th, 2020\n"
          ]
        }
      ]
    },
    {
      "cell_type": "code",
      "source": [
        "from trafilatura import fetch_url\n",
        "\n",
        "document = fetch_url('http://thenoser.com/article/Aunts-Dog-Not-One-Of-The-Cute-Ones')"
      ],
      "metadata": {
        "id": "HAQ2_sdnEWhE"
      },
      "execution_count": null,
      "outputs": []
    },
    {
      "cell_type": "code",
      "source": [
        "from trafilatura import extract\n",
        "\n",
        "text = extract(document)\n",
        "print(text)"
      ],
      "metadata": {
        "colab": {
          "base_uri": "https://localhost:8080/"
        },
        "id": "jrHcJJ7SEWUZ",
        "outputId": "2293c086-a898-4374-8184-1b4d39baaca4"
      },
      "execution_count": null,
      "outputs": [
        {
          "output_type": "stream",
          "name": "stdout",
          "text": [
            "Sources report that local Aunt Ada Dickens has gotten a dog, but it’s not one of the cute ones. “When I heard Auntie Ada got a new dog, I was pretty excited,” explained nephew Pete Monroe, expressing frustration that his Aunt had for some reason opted for a dinky breed with beady eyes, gangly legs, and a baseball-sized head. “She really could have gone with a labrador or a corgi, but nope, she went with one of the little, unpleasant ones.” At press time, the ugly little creature would just not stop yipping.\n",
            "Aunt's Dog Not One Of The Cute Ones\n",
            "Published Friday, March 6th, 2020\n"
          ]
        }
      ]
    }
  ]
}