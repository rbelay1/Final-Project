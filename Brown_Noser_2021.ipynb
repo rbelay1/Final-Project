{
  "nbformat": 4,
  "nbformat_minor": 0,
  "metadata": {
    "colab": {
      "provenance": [],
      "include_colab_link": true
    },
    "kernelspec": {
      "name": "python3",
      "display_name": "Python 3"
    },
    "language_info": {
      "name": "python"
    }
  },
  "cells": [
    {
      "cell_type": "markdown",
      "metadata": {
        "id": "view-in-github",
        "colab_type": "text"
      },
      "source": [
        "<a href=\"https://colab.research.google.com/github/rbelay1/Final-Project/blob/main/Brown_Noser_2021.ipynb\" target=\"_parent\"><img src=\"https://colab.research.google.com/assets/colab-badge.svg\" alt=\"Open In Colab\"/></a>"
      ]
    },
    {
      "cell_type": "code",
      "source": [
        "pip install trafilatura"
      ],
      "metadata": {
        "colab": {
          "base_uri": "https://localhost:8080/"
        },
        "id": "B2wkzY4Butrm",
        "outputId": "f6f314ed-c00f-466c-ebca-c7095a002d3f"
      },
      "execution_count": null,
      "outputs": [
        {
          "output_type": "stream",
          "name": "stdout",
          "text": [
            "Looking in indexes: https://pypi.org/simple, https://us-python.pkg.dev/colab-wheels/public/simple/\n",
            "Collecting trafilatura\n",
            "  Downloading trafilatura-1.5.0-py3-none-any.whl (1.0 MB)\n",
            "\u001b[2K     \u001b[90m━━━━━━━━━━━━━━━━━━━━━━━━━━━━━━━━━━━━━━━━\u001b[0m \u001b[32m1.0/1.0 MB\u001b[0m \u001b[31m17.7 MB/s\u001b[0m eta \u001b[36m0:00:00\u001b[0m\n",
            "\u001b[?25hRequirement already satisfied: lxml>=4.9.2 in /usr/local/lib/python3.9/dist-packages (from trafilatura) (4.9.2)\n",
            "Collecting courlan>=0.9.0\n",
            "  Downloading courlan-0.9.1-py3-none-any.whl (40 kB)\n",
            "\u001b[2K     \u001b[90m━━━━━━━━━━━━━━━━━━━━━━━━━━━━━━━━━━━━━━━━\u001b[0m \u001b[32m40.7/40.7 kB\u001b[0m \u001b[31m2.2 MB/s\u001b[0m eta \u001b[36m0:00:00\u001b[0m\n",
            "\u001b[?25hCollecting htmldate>=1.4.2\n",
            "  Downloading htmldate-1.4.2-py3-none-any.whl (33 kB)\n",
            "Requirement already satisfied: certifi in /usr/local/lib/python3.9/dist-packages (from trafilatura) (2022.12.7)\n",
            "Requirement already satisfied: urllib3<2,>=1.26 in /usr/local/lib/python3.9/dist-packages (from trafilatura) (1.26.15)\n",
            "Collecting justext>=3.0.0\n",
            "  Downloading jusText-3.0.0-py2.py3-none-any.whl (837 kB)\n",
            "\u001b[2K     \u001b[90m━━━━━━━━━━━━━━━━━━━━━━━━━━━━━━━━━━━━━━\u001b[0m \u001b[32m837.8/837.8 kB\u001b[0m \u001b[31m16.6 MB/s\u001b[0m eta \u001b[36m0:00:00\u001b[0m\n",
            "\u001b[?25hCollecting charset-normalizer>=3.1.0\n",
            "  Downloading charset_normalizer-3.1.0-cp39-cp39-manylinux_2_17_x86_64.manylinux2014_x86_64.whl (199 kB)\n",
            "\u001b[2K     \u001b[90m━━━━━━━━━━━━━━━━━━━━━━━━━━━━━━━━━━━━━━\u001b[0m \u001b[32m199.2/199.2 kB\u001b[0m \u001b[31m10.5 MB/s\u001b[0m eta \u001b[36m0:00:00\u001b[0m\n",
            "\u001b[?25hCollecting tld>=0.13\n",
            "  Downloading tld-0.13-py2.py3-none-any.whl (263 kB)\n",
            "\u001b[2K     \u001b[90m━━━━━━━━━━━━━━━━━━━━━━━━━━━━━━━━━━━━━━\u001b[0m \u001b[32m263.8/263.8 kB\u001b[0m \u001b[31m14.6 MB/s\u001b[0m eta \u001b[36m0:00:00\u001b[0m\n",
            "\u001b[?25hRequirement already satisfied: langcodes>=3.3.0 in /usr/local/lib/python3.9/dist-packages (from courlan>=0.9.0->trafilatura) (3.3.0)\n",
            "Requirement already satisfied: python-dateutil>=2.8.2 in /usr/local/lib/python3.9/dist-packages (from htmldate>=1.4.2->trafilatura) (2.8.2)\n",
            "Collecting dateparser>=1.1.2\n",
            "  Downloading dateparser-1.1.8-py2.py3-none-any.whl (293 kB)\n",
            "\u001b[2K     \u001b[90m━━━━━━━━━━━━━━━━━━━━━━━━━━━━━━━━━━━━━━\u001b[0m \u001b[32m293.8/293.8 kB\u001b[0m \u001b[31m18.2 MB/s\u001b[0m eta \u001b[36m0:00:00\u001b[0m\n",
            "\u001b[?25hRequirement already satisfied: regex!=2019.02.19,!=2021.8.27 in /usr/local/lib/python3.9/dist-packages (from dateparser>=1.1.2->htmldate>=1.4.2->trafilatura) (2022.10.31)\n",
            "Requirement already satisfied: pytz in /usr/local/lib/python3.9/dist-packages (from dateparser>=1.1.2->htmldate>=1.4.2->trafilatura) (2022.7.1)\n",
            "Requirement already satisfied: tzlocal in /usr/local/lib/python3.9/dist-packages (from dateparser>=1.1.2->htmldate>=1.4.2->trafilatura) (4.3)\n",
            "Requirement already satisfied: six>=1.5 in /usr/local/lib/python3.9/dist-packages (from python-dateutil>=2.8.2->htmldate>=1.4.2->trafilatura) (1.16.0)\n",
            "Requirement already satisfied: pytz-deprecation-shim in /usr/local/lib/python3.9/dist-packages (from tzlocal->dateparser>=1.1.2->htmldate>=1.4.2->trafilatura) (0.1.0.post0)\n",
            "Requirement already satisfied: tzdata in /usr/local/lib/python3.9/dist-packages (from pytz-deprecation-shim->tzlocal->dateparser>=1.1.2->htmldate>=1.4.2->trafilatura) (2023.3)\n",
            "Installing collected packages: tld, justext, charset-normalizer, courlan, dateparser, htmldate, trafilatura\n",
            "  Attempting uninstall: charset-normalizer\n",
            "    Found existing installation: charset-normalizer 2.0.12\n",
            "    Uninstalling charset-normalizer-2.0.12:\n",
            "      Successfully uninstalled charset-normalizer-2.0.12\n",
            "\u001b[31mERROR: pip's dependency resolver does not currently take into account all the packages that are installed. This behaviour is the source of the following dependency conflicts.\n",
            "requests 2.27.1 requires charset-normalizer~=2.0.0; python_version >= \"3\", but you have charset-normalizer 3.1.0 which is incompatible.\u001b[0m\u001b[31m\n",
            "\u001b[0mSuccessfully installed charset-normalizer-3.1.0 courlan-0.9.1 dateparser-1.1.8 htmldate-1.4.2 justext-3.0.0 tld-0.13 trafilatura-1.5.0\n"
          ]
        }
      ]
    },
    {
      "cell_type": "code",
      "source": [
        "import requests\n",
        "from bs4 import BeautifulSoup\n",
        " \n",
        " \n",
        "url = 'http://thenoser.com/issue/112'\n",
        "reqs = requests.get(url)\n",
        "soup = BeautifulSoup(reqs.text, 'html.parser')\n",
        " \n",
        "urls = []\n",
        "for link in soup.find_all('a'):\n",
        "    print(link.get('href'))"
      ],
      "metadata": {
        "colab": {
          "base_uri": "https://localhost:8080/"
        },
        "id": "lhjA-Y2TDS65",
        "outputId": "b7b7fc65-0951-4130-cf99-f10605d5f625"
      },
      "execution_count": null,
      "outputs": [
        {
          "output_type": "stream",
          "name": "stdout",
          "text": [
            "/section/Campus-Life\n",
            "/section/Off-Campus\n",
            "/section/Opinion\n",
            "/section/Politics\n",
            "/section/Science-and-Technology\n",
            "/section/Sports\n",
            "/section/Cinema-Corner\n",
            "/section/Noser-For-Kids\n",
            "/section/Arts--Culture\n",
            "http://thenoser.com\n",
            "/article/Medieval-Studies-Dept-Recommends-Alchemizing-Own-V\n",
            "/article/Medieval-Studies-Dept-Recommends-Alchemizing-Own-V\n",
            "/article/Medieval-Studies-Dept-Recommends-Alchemizing-Own-V\n",
            "/article/White-Family-Gives-Dog-Only-Normal-Name-In-Househo\n",
            "/article/White-Family-Gives-Dog-Only-Normal-Name-In-Househo\n",
            "/article/Hunter-Gives-Off-Major-Gatherer-Vibes\n",
            "/article/Hunter-Gives-Off-Major-Gatherer-Vibes\n",
            "/article/Superhero-With-Gun-Really-Upstaging-Rest-Of-Supert\n",
            "/article/Report-Multiple-Puppets-Have-Star-On-Hollywood-Wal\n",
            "/article/Report-Multiple-Puppets-Have-Star-On-Hollywood-Wal\n",
            "/article/Actor-In-Shakespeare-Play-Excited-to-Air-Hump-At-A\n",
            "/article/Actor-In-Shakespeare-Play-Excited-to-Air-Hump-At-A\n",
            "/section/Off-Campus/112\n",
            "/article/Brown-Can-Pry-My-Kanopy-Account-From-My-Cold-Dead-\n",
            "/article/It-Would-Probably-Be-A-Public-Health-Hazard-If-We-\n",
            "/section/Opinion/112\n",
            "/article/Student-Choking-On-Chicken-Bone-Cant-Wait-For-Ratt\n",
            "/article/19th-Century-Japanese-Ukiyo-e-Master-Always-Hoped-\n",
            "/article/19th-Century-Japanese-Ukiyo-e-Master-Always-Hoped-\n",
            "/article/From-The-Archives-This-Day-In-History\n",
            "/article/From-The-Archives-This-Day-In-History\n",
            "/article/Animated-Conversation-With-Worker-At-COVID-Testing\n",
            "/article/BDH-Articles-Stock-Photo-Great-Reminder-Of-What-Br\n",
            "/article/BDH-Articles-Stock-Photo-Great-Reminder-Of-What-Br\n",
            "/section/Campus-Life/112\n",
            "/article/Man-With-Scar-Arrives-To-Collect-Firstborn-Child-A\n",
            "/article/Man-With-Scar-Arrives-To-Collect-Firstborn-Child-A\n",
            "/article/Nation-Marks-Anniversary-Of-Shutdown-With-Commemor\n",
            "/article/Nation-Marks-Anniversary-Of-Shutdown-With-Commemor\n",
            "/article/New-Zoom-For-Business-Service-Automatically-Mutes-\n",
            "/section/Science-and-Technology/112\n",
            "#\n",
            "http://collegequill.com\n"
          ]
        }
      ]
    },
    {
      "cell_type": "code",
      "source": [
        "from trafilatura import fetch_url\n",
        "\n",
        "document = fetch_url('http://thenoser.com/article/Medieval-Studies-Dept-Recommends-Alchemizing-Own-V')"
      ],
      "metadata": {
        "id": "VYz3f9Rlv4cl"
      },
      "execution_count": null,
      "outputs": []
    },
    {
      "cell_type": "code",
      "source": [
        "from trafilatura import extract\n",
        "\n",
        "text = extract(document)\n",
        "print(text)"
      ],
      "metadata": {
        "colab": {
          "base_uri": "https://localhost:8080/"
        },
        "id": "HGTdiImsv9CE",
        "outputId": "195bd8f5-b7c4-44c6-e164-1940bc95b865"
      },
      "execution_count": null,
      "outputs": [
        {
          "output_type": "stream",
          "name": "stdout",
          "text": [
            "In an effort to facilitate vaccine distribution, Brown’s Department of Medieval Studies recommended last Tuesday that students alchemize their own vaccines using household eye of newt, thoroughwort elixir, and myrrh.\n",
            "“Shoulde herd immunitee bee what thee seeke, into thine own alchemical laboratoree thee must peeke,” said chair of Medieval Studies Peter Antwerp, urging students to harness the power of alchemical transmutation in the fight against COVID-19. “Just followwe mine steppes three, and in but a fortnyghte’s tyme COVID-safe shall thee bee.”\n",
            "“Prithee cracke open thy medicyne chest and behold thy commone householde eye of newt, syphon three hogsheads’ worthe within thy cauldron and beginn to transmute,” said Antwerp, explaining the ease of concocting one’s own vaccine. “Chante thy spell to the heavenns after thyne toil, and simply waite until thyne potion reaches a rollinge boyle!”\n",
            "“Forsoothe, mayhaps thyne medycyne cheste a bandit attacks! — Perchance homemayde thoroughwort bee somethinge thou lacks! — Aye, any such elixir purchysesd from thy locall potion wench is fyne,” Antwerp assured, offering a reasonable substitute should students run out of thoroughwort elixir. “Mine secrett ingreedyent be myrrh from yonderr hills, for just a smalle pynche dropped in thy mixture fulfills!”\n",
            "At press time, Antwerp reminded students that, “whilst thou shallst anon ne’er fear said plaguee and its curse, thou mustn’t ev’r forgetts to bloodlette fyrst.”\n"
          ]
        }
      ]
    },
    {
      "cell_type": "code",
      "source": [
        "from trafilatura import fetch_url\n",
        "\n",
        "document = fetch_url('http://thenoser.com/article/White-Family-Gives-Dog-Only-Normal-Name-In-Househo')"
      ],
      "metadata": {
        "id": "IfbNLJ6CwgDO"
      },
      "execution_count": null,
      "outputs": []
    },
    {
      "cell_type": "code",
      "source": [
        "from trafilatura import extract\n",
        "\n",
        "text = extract(document)\n",
        "print(text)"
      ],
      "metadata": {
        "colab": {
          "base_uri": "https://localhost:8080/"
        },
        "id": "O8RUnpLEDYgR",
        "outputId": "36ae3823-375d-4c0d-94d5-8d8a02fbf5bf"
      },
      "execution_count": null,
      "outputs": [
        {
          "output_type": "stream",
          "name": "stdout",
          "text": [
            "Sources report that local white family the McKinnons have given Ryan, their German Shepherd, the only normal name in the household.\n",
            "“Ryan has been and always will be a source of love and happiness in this family,” said Kennaugh McKinnon, who, with his wife Oaklynn, named his children using strings of nonsense syllables. “Adopting him was Oaklynn’s idea, and I was initially against it. Now, seeing how much joy he brings to our kids, Aaden, Paisleigh, Kellyynn, and Parkyr, I can’t imagine Ryan not being here.”\n",
            "“Ryan is just the most adorable thing!” said Paisleigh McKinnon, oblivious to the fact that her dog has the only name in the family that can be easily pronounced. “He’s such a sweetie!”\n",
            "At press time, the McKinnons were heard repeatedly mispronouncing the name Kamala.\n"
          ]
        }
      ]
    },
    {
      "cell_type": "code",
      "source": [
        "from trafilatura import fetch_url\n",
        "\n",
        "document = fetch_url('http://thenoser.com/article/Hunter-Gives-Off-Major-Gatherer-Vibes')"
      ],
      "metadata": {
        "id": "2dgBhCI0DqFi"
      },
      "execution_count": null,
      "outputs": []
    },
    {
      "cell_type": "code",
      "source": [
        "from trafilatura import extract\n",
        "\n",
        "text = extract(document)\n",
        "print(text)"
      ],
      "metadata": {
        "colab": {
          "base_uri": "https://localhost:8080/"
        },
        "id": "03E3ysjGDqbP",
        "outputId": "09a8b5e1-43a5-4d4e-eaef-767fc4678dcb"
      },
      "execution_count": null,
      "outputs": [
        {
          "output_type": "stream",
          "name": "stdout",
          "text": [
            "According to other members of his prehistoric tribe of early hominids, Khork — a skilled hunter — really gives off major gatherer vibes. “It so hilarious! Cavepeople stay thinking Khork gatherer! Maybe it the pattern on Khork loincloth?” grunted Khork with a tone of voice that to other cavepeople totally makes it seem like he enjoys scavenging for seeds and nuts. “It like, Khork fully have nothing against making collecting berry for feed tribe, but that just not for Khork. Khork love run and shoot arrow into mammoth for make bring back to fire. That where Khork feel most like Khork!” At press time, Khork had painted tons of mammoths on to the wall of his cave in a transparent attempt to assert his hunter status.\n",
            "Hunter Gives Off Major Gatherer Vibes\n",
            "Published Friday, March 12th, 2021\n"
          ]
        }
      ]
    },
    {
      "cell_type": "code",
      "source": [
        "from trafilatura import fetch_url\n",
        "\n",
        "document = fetch_url('http://thenoser.com/article/Superhero-With-Gun-Really-Upstaging-Rest-Of-Supert')\n"
      ],
      "metadata": {
        "id": "68VaGnnTD5Bm"
      },
      "execution_count": null,
      "outputs": []
    },
    {
      "cell_type": "code",
      "source": [
        "from trafilatura import extract\n",
        "\n",
        "text = extract(document)\n",
        "print(text)"
      ],
      "metadata": {
        "colab": {
          "base_uri": "https://localhost:8080/"
        },
        "id": "I9WwXSIPD5fF",
        "outputId": "84a72448-ad55-45a4-de6b-d81f8feccd40"
      },
      "execution_count": null,
      "outputs": [
        {
          "output_type": "stream",
          "name": "stdout",
          "text": [
            "Helpless bystanders reported Thursday that Glock Brandish, a superhero whose power is using a gun, is really upstaging the rest of his superteam.\n",
            "“The Necronomic Order has been terrorizing New Metropolis for months now, and the Anointed Gauntlet superteam keeps coming to our city’s defense,” commented citizen and terrified bystander Philip Spacek as he glanced nervously between surrounding skyscrapers. “But Glock Brandish has really been doing the lion’s share of the saving. There’s usually not even a chance for villains to give nasty monologues or set up elaborate hostage situations because Glock just pulls out his gun and kills them.”\n",
            "“It’s really nice to have the Anointed Gauntlet protecting our city, but I kinda wish I could see the rest of the team in action,” Spacek continued. “There’s a woman who floats around in a glowing purple orb, and I don’t even know what her name is or what she does. But whatever it is, it’s probably a little more exciting than Glock demonstrating his marksmanship skills on Necronomic Order peons.”\n",
            "“If we have to be constantly terrorized by the forces of evil, I at least want to find out what the rest of the Anointed Gauntlet can do,” Spacek explained, kicking at empty bullet casings on the pavement. “I’m sure the guy with six arms who’s made of red goop and the half-bear, half-gorilla person would love to get in on the action, rather than just watching Glock Brandish spend less than a minute shooting villains every time.”\n",
            "At press time, Glock Brandish fled the city to confront his nemesis Target Man after seeing a glowing gun projected in the sky.\n"
          ]
        }
      ]
    },
    {
      "cell_type": "code",
      "source": [
        "from trafilatura import fetch_url\n",
        "\n",
        "document = fetch_url('http://thenoser.com/article/Report-Multiple-Puppets-Have-Star-On-Hollywood-Wal')\n"
      ],
      "metadata": {
        "id": "BHoxC2tREGNv"
      },
      "execution_count": null,
      "outputs": []
    },
    {
      "cell_type": "code",
      "source": [
        "from trafilatura import extract\n",
        "\n",
        "text = extract(document)\n",
        "print(text)"
      ],
      "metadata": {
        "colab": {
          "base_uri": "https://localhost:8080/"
        },
        "id": "rnmy2wmsEF5w",
        "outputId": "2247b253-59f6-41f5-8d88-33080e7c3372"
      },
      "execution_count": null,
      "outputs": [
        {
          "output_type": "stream",
          "name": "stdout",
          "text": [
            "According to a press release from The Hollywood Chamber of Commerce, multiple puppets have a star on the Hollywood Walk of Fame while you, a human, do not.\n",
            "“It’s pretty insane when you think about it,” the release said, highlighting the fact that your achievements are apparently not as impressive as those of multiple puppets. “You’ve spent years trying to be successful. Big Bird is honored forever with a star on the Walk of Fame, and he doesn’t even know it, because he’s a 16-pound body puppet made of feathers and high-quality felt.”\n",
            "“You pour so much time, effort, and money into achieving your dreams,” the statement continued, relentlessly hammering in the fact that Kermit the Frog received a ceremony marking his induction into the Walk of Fame that was televised and attended by actor David Arquette, while you are toiling away at career goals that will never come to fruition. “Kermit is a fictional personality assigned to a puppet, and Hollywood will honor him forever. How does it feel?”\n",
            "“If none of this made you feel like a failure, remember that all of The Muppets were presented with a star back in 2010, implying that the achievements of literally hundreds of whimsical puppets outshine everything you have ever worked for in your life.”\n",
            "At press time, multiple cartoon mice were honored with Hollywood stars, while you — a human — can’t even get a job interview.\n"
          ]
        }
      ]
    },
    {
      "cell_type": "code",
      "source": [
        "from trafilatura import fetch_url\n",
        "\n",
        "document = fetch_url('http://thenoser.com/article/Actor-In-Shakespeare-Play-Excited-to-Air-Hump-At-A')"
      ],
      "metadata": {
        "id": "HAQ2_sdnEWhE"
      },
      "execution_count": null,
      "outputs": []
    },
    {
      "cell_type": "code",
      "source": [
        "from trafilatura import extract\n",
        "\n",
        "text = extract(document)\n",
        "print(text)"
      ],
      "metadata": {
        "colab": {
          "base_uri": "https://localhost:8080/"
        },
        "id": "jrHcJJ7SEWUZ",
        "outputId": "944d8203-7bda-4796-8c2e-811616e6880a"
      },
      "execution_count": null,
      "outputs": [
        {
          "output_type": "stream",
          "name": "stdout",
          "text": [
            "Gil Caribou, an actor in a Providence-based Shakespeare company, is excited to make the material feel modern by air-humping at all the sex lines.\n",
            "“I’m really looking forward to making some bold choices this season,” said Caribou of his choice do some gross body movements whenever a character refers to sex. “Not everyone knows that when Othello’s Iago says ‘The beast with two backs,’ he is referring to sex. I’m going to make these racy words feel electric by thrusting into the air while repeatedly cocking my eyebrows.”\n",
            "Caribou also plans to do a smarmy little tiger roar at the end of the line, even though his director specifically told him not to.\n",
            "“Later in the season, as Benedick in Much Ado About Nothing, I get to say the line ‘I will live in thy heart, die in thy lap, and be buried in thy eyes,’\" Caribou said of the line, which he will make wholly uncomfortable for everyone. “Not many people know that at the time, ‘die’ was Elizabethan slang for orgasm, but I’m going to make the audience know. That’s why when I say the line, I’m going to let out a show-stopping sex moan. And I’ll do it while air-humping of course!”\n",
            "At press time, Caribou put on a jingly clown hat to let the audience know his character is supposed to be funny.\n"
          ]
        }
      ]
    }
  ]
}