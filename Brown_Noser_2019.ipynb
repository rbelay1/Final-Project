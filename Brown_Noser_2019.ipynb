{
  "nbformat": 4,
  "nbformat_minor": 0,
  "metadata": {
    "colab": {
      "provenance": [],
      "include_colab_link": true
    },
    "kernelspec": {
      "name": "python3",
      "display_name": "Python 3"
    },
    "language_info": {
      "name": "python"
    }
  },
  "cells": [
    {
      "cell_type": "markdown",
      "metadata": {
        "id": "view-in-github",
        "colab_type": "text"
      },
      "source": [
        "<a href=\"https://colab.research.google.com/github/rbelay1/Final-Project/blob/main/Brown_Noser_2019.ipynb\" target=\"_parent\"><img src=\"https://colab.research.google.com/assets/colab-badge.svg\" alt=\"Open In Colab\"/></a>"
      ]
    },
    {
      "cell_type": "code",
      "source": [
        "pip install trafilatura"
      ],
      "metadata": {
        "colab": {
          "base_uri": "https://localhost:8080/"
        },
        "id": "B2wkzY4Butrm",
        "outputId": "05dd40d2-ee51-4927-ddc4-054b38fcd806"
      },
      "execution_count": null,
      "outputs": [
        {
          "output_type": "stream",
          "name": "stdout",
          "text": [
            "Looking in indexes: https://pypi.org/simple, https://us-python.pkg.dev/colab-wheels/public/simple/\n",
            "Collecting trafilatura\n",
            "  Downloading trafilatura-1.5.0-py3-none-any.whl (1.0 MB)\n",
            "\u001b[2K     \u001b[90m━━━━━━━━━━━━━━━━━━━━━━━━━━━━━━━━━━━━━━━━\u001b[0m \u001b[32m1.0/1.0 MB\u001b[0m \u001b[31m12.4 MB/s\u001b[0m eta \u001b[36m0:00:00\u001b[0m\n",
            "\u001b[?25hRequirement already satisfied: urllib3<2,>=1.26 in /usr/local/lib/python3.9/dist-packages (from trafilatura) (1.26.15)\n",
            "Collecting courlan>=0.9.0\n",
            "  Downloading courlan-0.9.1-py3-none-any.whl (40 kB)\n",
            "\u001b[2K     \u001b[90m━━━━━━━━━━━━━━━━━━━━━━━━━━━━━━━━━━━━━━━━\u001b[0m \u001b[32m40.7/40.7 kB\u001b[0m \u001b[31m2.2 MB/s\u001b[0m eta \u001b[36m0:00:00\u001b[0m\n",
            "\u001b[?25hRequirement already satisfied: lxml>=4.9.2 in /usr/local/lib/python3.9/dist-packages (from trafilatura) (4.9.2)\n",
            "Collecting justext>=3.0.0\n",
            "  Downloading jusText-3.0.0-py2.py3-none-any.whl (837 kB)\n",
            "\u001b[2K     \u001b[90m━━━━━━━━━━━━━━━━━━━━━━━━━━━━━━━━━━━━━━\u001b[0m \u001b[32m837.8/837.8 kB\u001b[0m \u001b[31m40.9 MB/s\u001b[0m eta \u001b[36m0:00:00\u001b[0m\n",
            "\u001b[?25hCollecting charset-normalizer>=3.1.0\n",
            "  Downloading charset_normalizer-3.1.0-cp39-cp39-manylinux_2_17_x86_64.manylinux2014_x86_64.whl (199 kB)\n",
            "\u001b[2K     \u001b[90m━━━━━━━━━━━━━━━━━━━━━━━━━━━━━━━━━━━━━━\u001b[0m \u001b[32m199.2/199.2 kB\u001b[0m \u001b[31m11.0 MB/s\u001b[0m eta \u001b[36m0:00:00\u001b[0m\n",
            "\u001b[?25hRequirement already satisfied: certifi in /usr/local/lib/python3.9/dist-packages (from trafilatura) (2022.12.7)\n",
            "Collecting htmldate>=1.4.2\n",
            "  Downloading htmldate-1.4.2-py3-none-any.whl (33 kB)\n",
            "Collecting tld>=0.13\n",
            "  Downloading tld-0.13-py2.py3-none-any.whl (263 kB)\n",
            "\u001b[2K     \u001b[90m━━━━━━━━━━━━━━━━━━━━━━━━━━━━━━━━━━━━━━\u001b[0m \u001b[32m263.8/263.8 kB\u001b[0m \u001b[31m16.3 MB/s\u001b[0m eta \u001b[36m0:00:00\u001b[0m\n",
            "\u001b[?25hRequirement already satisfied: langcodes>=3.3.0 in /usr/local/lib/python3.9/dist-packages (from courlan>=0.9.0->trafilatura) (3.3.0)\n",
            "Collecting dateparser>=1.1.2\n",
            "  Downloading dateparser-1.1.8-py2.py3-none-any.whl (293 kB)\n",
            "\u001b[2K     \u001b[90m━━━━━━━━━━━━━━━━━━━━━━━━━━━━━━━━━━━━━━\u001b[0m \u001b[32m293.8/293.8 kB\u001b[0m \u001b[31m17.9 MB/s\u001b[0m eta \u001b[36m0:00:00\u001b[0m\n",
            "\u001b[?25hRequirement already satisfied: python-dateutil>=2.8.2 in /usr/local/lib/python3.9/dist-packages (from htmldate>=1.4.2->trafilatura) (2.8.2)\n",
            "Requirement already satisfied: tzlocal in /usr/local/lib/python3.9/dist-packages (from dateparser>=1.1.2->htmldate>=1.4.2->trafilatura) (4.3)\n",
            "Requirement already satisfied: pytz in /usr/local/lib/python3.9/dist-packages (from dateparser>=1.1.2->htmldate>=1.4.2->trafilatura) (2022.7.1)\n",
            "Requirement already satisfied: regex!=2019.02.19,!=2021.8.27 in /usr/local/lib/python3.9/dist-packages (from dateparser>=1.1.2->htmldate>=1.4.2->trafilatura) (2022.10.31)\n",
            "Requirement already satisfied: six>=1.5 in /usr/local/lib/python3.9/dist-packages (from python-dateutil>=2.8.2->htmldate>=1.4.2->trafilatura) (1.16.0)\n",
            "Requirement already satisfied: pytz-deprecation-shim in /usr/local/lib/python3.9/dist-packages (from tzlocal->dateparser>=1.1.2->htmldate>=1.4.2->trafilatura) (0.1.0.post0)\n",
            "Requirement already satisfied: tzdata in /usr/local/lib/python3.9/dist-packages (from pytz-deprecation-shim->tzlocal->dateparser>=1.1.2->htmldate>=1.4.2->trafilatura) (2023.3)\n",
            "Installing collected packages: tld, justext, charset-normalizer, courlan, dateparser, htmldate, trafilatura\n",
            "  Attempting uninstall: charset-normalizer\n",
            "    Found existing installation: charset-normalizer 2.0.12\n",
            "    Uninstalling charset-normalizer-2.0.12:\n",
            "      Successfully uninstalled charset-normalizer-2.0.12\n",
            "\u001b[31mERROR: pip's dependency resolver does not currently take into account all the packages that are installed. This behaviour is the source of the following dependency conflicts.\n",
            "requests 2.27.1 requires charset-normalizer~=2.0.0; python_version >= \"3\", but you have charset-normalizer 3.1.0 which is incompatible.\u001b[0m\u001b[31m\n",
            "\u001b[0mSuccessfully installed charset-normalizer-3.1.0 courlan-0.9.1 dateparser-1.1.8 htmldate-1.4.2 justext-3.0.0 tld-0.13 trafilatura-1.5.0\n"
          ]
        }
      ]
    },
    {
      "cell_type": "code",
      "source": [
        "import requests\n",
        "from bs4 import BeautifulSoup\n",
        " \n",
        " \n",
        "url = 'http://thenoser.com/issue/100'\n",
        "reqs = requests.get(url)\n",
        "soup = BeautifulSoup(reqs.text, 'html.parser')\n",
        " \n",
        "urls = []\n",
        "for link in soup.find_all('a'):\n",
        "    print(link.get('href'))"
      ],
      "metadata": {
        "colab": {
          "base_uri": "https://localhost:8080/"
        },
        "id": "lhjA-Y2TDS65",
        "outputId": "4418a9f0-e45f-457a-de7c-bf6345fe46ad"
      },
      "execution_count": null,
      "outputs": [
        {
          "output_type": "stream",
          "name": "stdout",
          "text": [
            "/section/Campus-Life\n",
            "/section/Off-Campus\n",
            "/section/Opinion\n",
            "/section/Politics\n",
            "/section/Science-and-Technology\n",
            "/section/Sports\n",
            "/section/Cinema-Corner\n",
            "/section/Noser-For-Kids\n",
            "/section/Arts--Culture\n",
            "http://thenoser.com\n",
            "/article/Exclusive-Dinner-For-Browns-Middle-Class-Students-\n",
            "/article/Exclusive-Dinner-For-Browns-Middle-Class-Students-\n",
            "/article/Exclusive-Dinner-For-Browns-Middle-Class-Students-\n",
            "/article/Scientists-Report-Horse-Would-Be-Much-Faster-with-\n",
            "/article/Scientists-Report-Horse-Would-Be-Much-Faster-with-\n",
            "/article/New-Climate-Report-Just-GIF-of-Earth-Exploding\n",
            "/article/New-Climate-Report-Just-GIF-of-Earth-Exploding\n",
            "/article/Report-Old-Man-in-New-Movie-Was-Once-Young-Man-in--2\n",
            "/article/President-Trump-Resigns-Following-Brutal-Tweet-Fro\n",
            "/article/Lin-Manuel-Miranda-Tweeting-in-Own-Made-Up-Nonsens\n",
            "/section/Off-Campus/100\n",
            "/article/Even-I-Think-That-PETA-Is-Really-Obnoxious-by-Fact\n",
            "/article/I-Cant-Help-Being-A-Horse-Girl-Because-My-Mom-Is-A\n",
            "/section/Opinion/100\n",
            "/article/Weve-Been-Shitting-in-Your-Romaine-This-Whole-Time\n",
            "/article/Weve-Been-Shitting-in-Your-Romaine-This-Whole-Time\n",
            "/article/Anonymous-Admin-Creates-New-Admirers-Page-Where-Pe\n",
            "/article/Anonymous-Admin-Creates-New-Admirers-Page-Where-Pe\n",
            "/article/Freshman-Planning-to-Try-Human-Flesh-For-the-First\n",
            "/article/Freshman-Planning-to-Try-Human-Flesh-For-the-First\n",
            "/article/CareerLab-Hosting-Workshop-On-How-Not-To-Blame-Car\n",
            "/article/CareerLab-Hosting-Workshop-On-How-Not-To-Blame-Car\n",
            "/article/Kid-in-Back-of-Lecture-Straight-Up-Working-on-Oil-\n",
            "/article/Kid-in-Back-of-Lecture-Straight-Up-Working-on-Oil-\n",
            "/section/Campus-Life/100\n",
            "/article/Guilty-Environmental-Scientist-Just-A-Little-Bit-G\n",
            "/article/Guilty-Environmental-Scientist-Just-A-Little-Bit-G\n",
            "/article/New-Amazon-Prime-Service-Sends-Coffin-To-Your-Door\n",
            "/article/New-Amazon-Prime-Service-Sends-Coffin-To-Your-Door\n",
            "/article/Prominent-Antivaxxer-Actually-Just-Three-Flu-Virus\n",
            "/article/Prominent-Antivaxxer-Actually-Just-Three-Flu-Virus\n",
            "/section/Science-and-Technology/100\n",
            "#\n",
            "http://collegequill.com\n"
          ]
        }
      ]
    },
    {
      "cell_type": "code",
      "source": [
        "from trafilatura import fetch_url\n",
        "\n",
        "document = fetch_url('http://thenoser.com/article/Exclusive-Dinner-For-Browns-Middle-Class-Students-')"
      ],
      "metadata": {
        "id": "VYz3f9Rlv4cl"
      },
      "execution_count": null,
      "outputs": []
    },
    {
      "cell_type": "code",
      "source": [
        "from trafilatura import extract\n",
        "\n",
        "text = extract(document)\n",
        "print(text)"
      ],
      "metadata": {
        "colab": {
          "base_uri": "https://localhost:8080/"
        },
        "id": "HGTdiImsv9CE",
        "outputId": "a972ad7e-c23a-4f5c-b5ef-365729d9c6f1"
      },
      "execution_count": null,
      "outputs": [
        {
          "output_type": "stream",
          "name": "stdout",
          "text": [
            "According to an exposé published in the Providence Journal this morning, Brown’s administration has been sanctioning an exclusive, annual dinner for the University’s middle-class students. Sources report the dinner consists of two room temperature cheese pizzas in the Kasper Multipurpose Room.\n",
            "The exposé, drawing on reports from two anonymous student journalists, revealed that the dinner is hosted every year by Helen Gilbert ’92, a Brown alum who otherwise donates no money to the university.\n",
            "“There’s this Granoff Dinner thing so I figured it’d be nice to do something similar for students who aren’t in the top 1%,” Gilbert said. “I got cheese because I figured everyone would like it. Everyone should be able to get at least one slice, but we’ll have to see if there’s enough for seconds. I’m also bringing a bag of tortilla chips and a can of salsa, though, so it should be fine.”\n",
            "“I also got some two-liter bottles of Sprite and Diet Coke and one of those plastic boxes of sugar cookies from the grocery store,” Gilbert reported as she furnished the tables with white, plastic tablecloths and loose handfuls of Tootsie Rolls. “I just want everyone to be happy.”\n",
            "At press time, Gilbert was telling attendees that, if they were able to, they could Venmo her $5, but it’s totally fine if they can’t.\n"
          ]
        }
      ]
    },
    {
      "cell_type": "code",
      "source": [
        "from trafilatura import fetch_url\n",
        "\n",
        "document = fetch_url('http://thenoser.com/article/Scientists-Report-Horse-Would-Be-Much-Faster-with-')"
      ],
      "metadata": {
        "id": "IfbNLJ6CwgDO"
      },
      "execution_count": null,
      "outputs": []
    },
    {
      "cell_type": "code",
      "source": [
        "from trafilatura import extract\n",
        "\n",
        "text = extract(document)\n",
        "print(text)"
      ],
      "metadata": {
        "colab": {
          "base_uri": "https://localhost:8080/"
        },
        "id": "O8RUnpLEDYgR",
        "outputId": "3c22ce33-b0bf-44f1-f94f-1661ffc6dc8f"
      },
      "execution_count": null,
      "outputs": [
        {
          "output_type": "stream",
          "name": "stdout",
          "text": [
            "In a press conference held by the International Consortium of Zoologists on Tuesday, scientists reported that horses would be much faster if they had wheels.\n",
            "“A horse can gallop at 25 or 30 miles per hour,” said Greg Beckham, the head scientist on the project. “But as soon as you replace those legs with wheels, you start to see the horse hit speeds of 70 or even 80 miles per hour. It’s really incredible.”\n",
            "“We tried to improve the speed of the horses by adding motors, sneakers, and even extra legs,” Beckham continued, presenting the results of failed experiments. “In the end, nothing made the horses speedier than a good old-fashioned set of wheels.”\n",
            "“In the 21st century, horses are normally perceived as a slow and outdated mode of transportation,” added Beckham, showing reporters video footage of scientists riding their horses on the highway. “But with wheels, the horse becomes a quick and convenient mode of transportation for errands, long trips, or even street racing.”\n",
            "Later in the press conference, Beckham mentioned research which found bees would be faster with jet engines.\n"
          ]
        }
      ]
    },
    {
      "cell_type": "code",
      "source": [
        "from trafilatura import fetch_url\n",
        "\n",
        "document = fetch_url('http://thenoser.com/article/New-Climate-Report-Just-GIF-of-Earth-Exploding')"
      ],
      "metadata": {
        "id": "2dgBhCI0DqFi"
      },
      "execution_count": null,
      "outputs": []
    },
    {
      "cell_type": "code",
      "source": [
        "from trafilatura import extract\n",
        "\n",
        "text = extract(document)\n",
        "print(text)"
      ],
      "metadata": {
        "colab": {
          "base_uri": "https://localhost:8080/"
        },
        "id": "03E3ysjGDqbP",
        "outputId": "7b444e3a-f9f8-44a8-fe09-b99d3a75473f"
      },
      "execution_count": null,
      "outputs": [
        {
          "output_type": "stream",
          "name": "stdout",
          "text": [
            "A new report by the UN Intergovernmental Panel on Climate Change (IPCC) is just a single GIF of the Earth disintegrating into billions of pieces.\n",
            "“This report is the result of a six-month multidisciplinary effort,” stated Dr. Rona Humphrey, one of the authors of the report. “Veteran climatologists, oceanographers, and agriculturalists worked in close collaboration on this comprehensive study of world-wide climate change. We used rigorous predictive models but, when we plugged everything in, we just ended up with this incredibly detailed GIF of the Earth detonating.”\n",
            "“Usually, these IPCC reports are hundreds of pages long,\" Humphrey continued. \"They contain detailed analyses of climate trends, examine their implications, and list appropriate steps for policy-makers. Remarkably, this time we managed to fit all of our findings into a single animated loop!”\n",
            "As of press time, no one had read the report, and the scientists involved with the project were seen loading provisions onto a rocket ship.\n"
          ]
        }
      ]
    },
    {
      "cell_type": "code",
      "source": [
        "from trafilatura import fetch_url\n",
        "\n",
        "document = fetch_url('http://thenoser.com/article/Report-Old-Man-in-New-Movie-Was-Once-Young-Man-in--2')\n"
      ],
      "metadata": {
        "id": "68VaGnnTD5Bm"
      },
      "execution_count": null,
      "outputs": []
    },
    {
      "cell_type": "code",
      "source": [
        "from trafilatura import extract\n",
        "\n",
        "text = extract(document)\n",
        "print(text)"
      ],
      "metadata": {
        "colab": {
          "base_uri": "https://localhost:8080/"
        },
        "id": "I9WwXSIPD5fF",
        "outputId": "595c61ae-3c7a-4c4c-bb77-7c6f1b6e88c8"
      },
      "execution_count": null,
      "outputs": [
        {
          "output_type": "stream",
          "name": "stdout",
          "text": [
            "Sources report that an old man in a new movie was once a young man in an old movie. “That man is definitely old,” film analysts reported, referring to the new movie. “But if you take a look at this old movie, you’ll find that the same man is young. It’s hard to believe since he is so wrinkly now, but in the old movie he is fresh-faced and handsome. In one he plays a wise professor, and the other a star quarterback, but the evidence doesn’t lie—this is the same man.” At press time, experts reported that the young dog in the old movie is now dead.\n",
            "Report: Old Man in New Movie Was Once Young Man in Old Movie\n",
            "Published Friday, March 8th, 2019\n"
          ]
        }
      ]
    },
    {
      "cell_type": "code",
      "source": [
        "from trafilatura import fetch_url\n",
        "\n",
        "document = fetch_url('http://thenoser.com/article/President-Trump-Resigns-Following-Brutal-Tweet-Fro')\n"
      ],
      "metadata": {
        "id": "BHoxC2tREGNv"
      },
      "execution_count": null,
      "outputs": []
    },
    {
      "cell_type": "code",
      "source": [
        "from trafilatura import extract\n",
        "\n",
        "text = extract(document)\n",
        "print(text)"
      ],
      "metadata": {
        "colab": {
          "base_uri": "https://localhost:8080/"
        },
        "id": "rnmy2wmsEF5w",
        "outputId": "63c98874-f207-463b-97ea-90b8df4fc970"
      },
      "execution_count": null,
      "outputs": [
        {
          "output_type": "stream",
          "name": "stdout",
          "text": [
            "President Donald Trump stepped down from office this Wednesday following a brutal tweet from your aunt. “In light of the recent tweet from @BlueWaveMartha67 calling me, among other things, ‘mango Mussolini’ and ‘tiny hands,’ I have decided to resign from the presidency of the United States,” a visibly shaken Trump announced to a fully packed press room, reading from a prepared statement. “The incisive, devastating, and completely original points made in @BlueWaveMartha67’s tweet left me no choice but to step down from the presidency and from public life in general.” At press time, your aunt was drafting a tweet that will send the Koch brothers into bankruptcy.\n",
            "President Trump Resigns Following Brutal Tweet From Your Aunt\n",
            "Published Friday, March 8th, 2019\n"
          ]
        }
      ]
    },
    {
      "cell_type": "code",
      "source": [
        "from trafilatura import fetch_url\n",
        "\n",
        "document = fetch_url('http://thenoser.com/article/Lin-Manuel-Miranda-Tweeting-in-Own-Made-Up-Nonsens')"
      ],
      "metadata": {
        "id": "HAQ2_sdnEWhE"
      },
      "execution_count": null,
      "outputs": []
    },
    {
      "cell_type": "code",
      "source": [
        "from trafilatura import extract\n",
        "\n",
        "text = extract(document)\n",
        "print(text)"
      ],
      "metadata": {
        "colab": {
          "base_uri": "https://localhost:8080/"
        },
        "id": "jrHcJJ7SEWUZ",
        "outputId": "874be7e8-34f6-4011-a086-678bddf2e5ad"
      },
      "execution_count": null,
      "outputs": [
        {
          "output_type": "stream",
          "name": "stdout",
          "text": [
            "Following a series of meaningless tweets, Lin-Manuel Miranda’s Twitter followers reported that the Hamilton star is tweeting in his own made-up nonsense language at this point.\n",
            "“I used to like Lin’s tweets,” follower Trey Montagne explained. “But wow, he’s really gone off the rails. He tweets constantly and it seems like he’s just ran out of things to say. Yesterday he tweeted ‘Shorp du bop—hamilthought be boop.’ Except there was a break between every line like it was a haiku. What does that mean? Am I missing something?”\n",
            "“On Monday he tweeted a picture of him and his son in matching shirts, and the caption was just ‘Baaaaaaaaaby wee woo!’ followed by a series of unrelated emojis. I love Lin, but I’m a little lost. Is he okay?”\n",
            "At press time, Miranda still had 2.5 million followers, somehow.\n"
          ]
        }
      ]
    }
  ]
}