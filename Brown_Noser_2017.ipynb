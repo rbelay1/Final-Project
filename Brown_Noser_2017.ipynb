{
  "nbformat": 4,
  "nbformat_minor": 0,
  "metadata": {
    "colab": {
      "provenance": [],
      "include_colab_link": true
    },
    "kernelspec": {
      "name": "python3",
      "display_name": "Python 3"
    },
    "language_info": {
      "name": "python"
    }
  },
  "cells": [
    {
      "cell_type": "markdown",
      "metadata": {
        "id": "view-in-github",
        "colab_type": "text"
      },
      "source": [
        "<a href=\"https://colab.research.google.com/github/rbelay1/Final-Project/blob/main/Brown_Noser_2017.ipynb\" target=\"_parent\"><img src=\"https://colab.research.google.com/assets/colab-badge.svg\" alt=\"Open In Colab\"/></a>"
      ]
    },
    {
      "cell_type": "code",
      "source": [
        "pip install trafilatura"
      ],
      "metadata": {
        "colab": {
          "base_uri": "https://localhost:8080/"
        },
        "id": "B2wkzY4Butrm",
        "outputId": "8f01a3da-bc95-4bae-b6d5-3f5a465a351f"
      },
      "execution_count": null,
      "outputs": [
        {
          "output_type": "stream",
          "name": "stdout",
          "text": [
            "Looking in indexes: https://pypi.org/simple, https://us-python.pkg.dev/colab-wheels/public/simple/\n",
            "Collecting trafilatura\n",
            "  Downloading trafilatura-1.5.0-py3-none-any.whl (1.0 MB)\n",
            "\u001b[2K     \u001b[90m━━━━━━━━━━━━━━━━━━━━━━━━━━━━━━━━━━━━━━━━\u001b[0m \u001b[32m1.0/1.0 MB\u001b[0m \u001b[31m17.0 MB/s\u001b[0m eta \u001b[36m0:00:00\u001b[0m\n",
            "\u001b[?25hCollecting courlan>=0.9.0\n",
            "  Downloading courlan-0.9.1-py3-none-any.whl (40 kB)\n",
            "\u001b[2K     \u001b[90m━━━━━━━━━━━━━━━━━━━━━━━━━━━━━━━━━━━━━━━━\u001b[0m \u001b[32m40.7/40.7 kB\u001b[0m \u001b[31m3.1 MB/s\u001b[0m eta \u001b[36m0:00:00\u001b[0m\n",
            "\u001b[?25hCollecting charset-normalizer>=3.1.0\n",
            "  Downloading charset_normalizer-3.1.0-cp39-cp39-manylinux_2_17_x86_64.manylinux2014_x86_64.whl (199 kB)\n",
            "\u001b[2K     \u001b[90m━━━━━━━━━━━━━━━━━━━━━━━━━━━━━━━━━━━━━━\u001b[0m \u001b[32m199.2/199.2 kB\u001b[0m \u001b[31m13.1 MB/s\u001b[0m eta \u001b[36m0:00:00\u001b[0m\n",
            "\u001b[?25hRequirement already satisfied: certifi in /usr/local/lib/python3.9/dist-packages (from trafilatura) (2022.12.7)\n",
            "Requirement already satisfied: lxml>=4.9.2 in /usr/local/lib/python3.9/dist-packages (from trafilatura) (4.9.2)\n",
            "Collecting htmldate>=1.4.2\n",
            "  Downloading htmldate-1.4.2-py3-none-any.whl (33 kB)\n",
            "Collecting justext>=3.0.0\n",
            "  Downloading jusText-3.0.0-py2.py3-none-any.whl (837 kB)\n",
            "\u001b[2K     \u001b[90m━━━━━━━━━━━━━━━━━━━━━━━━━━━━━━━━━━━━━━\u001b[0m \u001b[32m837.8/837.8 kB\u001b[0m \u001b[31m41.2 MB/s\u001b[0m eta \u001b[36m0:00:00\u001b[0m\n",
            "\u001b[?25hRequirement already satisfied: urllib3<2,>=1.26 in /usr/local/lib/python3.9/dist-packages (from trafilatura) (1.26.15)\n",
            "Requirement already satisfied: langcodes>=3.3.0 in /usr/local/lib/python3.9/dist-packages (from courlan>=0.9.0->trafilatura) (3.3.0)\n",
            "Collecting tld>=0.13\n",
            "  Downloading tld-0.13-py2.py3-none-any.whl (263 kB)\n",
            "\u001b[2K     \u001b[90m━━━━━━━━━━━━━━━━━━━━━━━━━━━━━━━━━━━━━━\u001b[0m \u001b[32m263.8/263.8 kB\u001b[0m \u001b[31m16.7 MB/s\u001b[0m eta \u001b[36m0:00:00\u001b[0m\n",
            "\u001b[?25hCollecting dateparser>=1.1.2\n",
            "  Downloading dateparser-1.1.8-py2.py3-none-any.whl (293 kB)\n",
            "\u001b[2K     \u001b[90m━━━━━━━━━━━━━━━━━━━━━━━━━━━━━━━━━━━━━━\u001b[0m \u001b[32m293.8/293.8 kB\u001b[0m \u001b[31m20.5 MB/s\u001b[0m eta \u001b[36m0:00:00\u001b[0m\n",
            "\u001b[?25hRequirement already satisfied: python-dateutil>=2.8.2 in /usr/local/lib/python3.9/dist-packages (from htmldate>=1.4.2->trafilatura) (2.8.2)\n",
            "Requirement already satisfied: regex!=2019.02.19,!=2021.8.27 in /usr/local/lib/python3.9/dist-packages (from dateparser>=1.1.2->htmldate>=1.4.2->trafilatura) (2022.10.31)\n",
            "Requirement already satisfied: tzlocal in /usr/local/lib/python3.9/dist-packages (from dateparser>=1.1.2->htmldate>=1.4.2->trafilatura) (4.3)\n",
            "Requirement already satisfied: pytz in /usr/local/lib/python3.9/dist-packages (from dateparser>=1.1.2->htmldate>=1.4.2->trafilatura) (2022.7.1)\n",
            "Requirement already satisfied: six>=1.5 in /usr/local/lib/python3.9/dist-packages (from python-dateutil>=2.8.2->htmldate>=1.4.2->trafilatura) (1.16.0)\n",
            "Requirement already satisfied: pytz-deprecation-shim in /usr/local/lib/python3.9/dist-packages (from tzlocal->dateparser>=1.1.2->htmldate>=1.4.2->trafilatura) (0.1.0.post0)\n",
            "Requirement already satisfied: tzdata in /usr/local/lib/python3.9/dist-packages (from pytz-deprecation-shim->tzlocal->dateparser>=1.1.2->htmldate>=1.4.2->trafilatura) (2023.3)\n",
            "Installing collected packages: tld, justext, charset-normalizer, courlan, dateparser, htmldate, trafilatura\n",
            "  Attempting uninstall: charset-normalizer\n",
            "    Found existing installation: charset-normalizer 2.0.12\n",
            "    Uninstalling charset-normalizer-2.0.12:\n",
            "      Successfully uninstalled charset-normalizer-2.0.12\n",
            "\u001b[31mERROR: pip's dependency resolver does not currently take into account all the packages that are installed. This behaviour is the source of the following dependency conflicts.\n",
            "requests 2.27.1 requires charset-normalizer~=2.0.0; python_version >= \"3\", but you have charset-normalizer 3.1.0 which is incompatible.\u001b[0m\u001b[31m\n",
            "\u001b[0mSuccessfully installed charset-normalizer-3.1.0 courlan-0.9.1 dateparser-1.1.8 htmldate-1.4.2 justext-3.0.0 tld-0.13 trafilatura-1.5.0\n"
          ]
        }
      ]
    },
    {
      "cell_type": "code",
      "source": [
        "import requests\n",
        "from bs4 import BeautifulSoup\n",
        " \n",
        " \n",
        "url = 'http://thenoser.com/issue/90'\n",
        "reqs = requests.get(url)\n",
        "soup = BeautifulSoup(reqs.text, 'html.parser')\n",
        " \n",
        "urls = []\n",
        "for link in soup.find_all('a'):\n",
        "    print(link.get('href'))"
      ],
      "metadata": {
        "colab": {
          "base_uri": "https://localhost:8080/"
        },
        "id": "lhjA-Y2TDS65",
        "outputId": "2b805137-db43-4590-f57b-f3cd9225a294"
      },
      "execution_count": null,
      "outputs": [
        {
          "output_type": "stream",
          "name": "stdout",
          "text": [
            "/section/Campus-Life\n",
            "/section/Off-Campus\n",
            "/section/Opinion\n",
            "/section/Politics\n",
            "/section/Science-and-Technology\n",
            "/section/Sports\n",
            "/section/Cinema-Corner\n",
            "/section/Noser-For-Kids\n",
            "/section/Arts--Culture\n",
            "http://thenoser.com\n",
            "/article/Guy-Preparing-To-Share-In-Creative-Writing-Class-P\n",
            "/article/Guy-Preparing-To-Share-In-Creative-Writing-Class-P\n",
            "/article/Guy-Preparing-To-Share-In-Creative-Writing-Class-P\n",
            "/article/Older-Brother-Set-Bar-Pretty-Low-For-What-Mom-Will\n",
            "/article/Older-Brother-Set-Bar-Pretty-Low-For-What-Mom-Will\n",
            "/article/Guy-Who-Said-Joke-Too-Quietly-Watches-Helplessly-A\n",
            "/article/High-School-Drama-Teacher-Stresses-Over-Whether-To\n",
            "/article/High-School-Drama-Teacher-Stresses-Over-Whether-To\n",
            "/article/REPORT-Boba-Perfect-Solution-For-People-Who-Want-O\n",
            "/article/REPORT-Boba-Perfect-Solution-For-People-Who-Want-O\n",
            "/article/Area-Mans-Day-Ruined-After-Accidentally-Seeing-Own\n",
            "/article/Area-Mans-Day-Ruined-After-Accidentally-Seeing-Own\n",
            "/section/Off-Campus/90\n",
            "/article/It-Would-Be-Funny-If-Peyton-Manning-Stole-A-Police\n",
            "/article/Im-Pretty-Sure-Puppets-Will-Never-Become-Sentient-\n",
            "/section/Opinion/90\n",
            "/article/Confused-Freshman-Still-Waiting-To-Be-Told-Its-Bat\n",
            "/article/Confused-Freshman-Still-Waiting-To-Be-Told-Its-Bat\n",
            "/article/Creepy-Professor-Keeps-Smiling-Directly-At-Camera-\n",
            "/article/Mike-Pence-Blowing-Off-Some-Steam-By-Rolling-Hoop-\n",
            "/article/Brown-Admirers-Post-Clearly-Written-By-Subject\n",
            "/article/Brown-Admirers-Post-Clearly-Written-By-Subject\n",
            "/article/Brown-Senior-Looking-Forward-to-Leaving-Liberal-Co\n",
            "/article/Brown-Senior-Looking-Forward-to-Leaving-Liberal-Co\n",
            "/section/Campus-Life/90\n",
            "/article/Study-Shows-Concertgoers-Show-Up-Just-As-High-To-T\n",
            "/article/Study-Shows-Concertgoers-Show-Up-Just-As-High-To-T\n",
            "/article/Sleazy-Butterfly-Hits-On-All-The-Caterpillars\n",
            "/article/Ear-Nose-Throat-Doctor-Confident-In-His-Ability-To\n",
            "/section/Science-and-Technology/90\n",
            "#\n",
            "http://collegequill.com\n"
          ]
        }
      ]
    },
    {
      "cell_type": "code",
      "source": [
        "from trafilatura import fetch_url\n",
        "\n",
        "document = fetch_url('http://thenoser.com/article/Guy-Preparing-To-Share-In-Creative-Writing-Class-P')"
      ],
      "metadata": {
        "id": "VYz3f9Rlv4cl"
      },
      "execution_count": null,
      "outputs": []
    },
    {
      "cell_type": "code",
      "source": [
        "from trafilatura import extract\n",
        "\n",
        "text = extract(document)\n",
        "print(text)"
      ],
      "metadata": {
        "colab": {
          "base_uri": "https://localhost:8080/"
        },
        "id": "HGTdiImsv9CE",
        "outputId": "1d955630-eca4-4d49-e0e9-2cd93430ff3a"
      },
      "execution_count": null,
      "outputs": [
        {
          "output_type": "stream",
          "name": "stdout",
          "text": [
            "Frantically spewing excuses and desperately avoiding the inevitable, sophomore Bryan Carroll prefaced sharing his creative writing in a workshop class with 500 caveats.\n",
            "“I just want everyone to know that I didn’t know the deadline for this assignment was today so I just wrote this really fast before class started,” said Carroll, hoping that his classmates would not see through his paper-thin excuse. “I know what I wrote is bad, so I don’t really need notes about how bad it is, because I already hate it.”\n",
            "“It’s like he doesn’t realize that every second he drags this out it puts way more pressure on whatever he shares,” said Stacey Dickenson, a classmate of Carrol’s. “Now I’m just as nervous for him to share as he is, because he’s making this a way bigger deal than it needs to be.”\n",
            "“There’s a part in the middle that just explicitly does not make sense and I am totally aware of that,” said Carroll, staring down at his paper. “So I certainly don’t need notes on that part because I’m going to rewrite it literally the second class ends. I just haven’t had time to yet.”\n",
            "Before sharing, Carroll repeatedly mentioned that he had misunderstood the assignment and written something totally off-base. Upon reassurance from his professor he proceeded to take a deep breath, act as though he was about to read his work, stop, and explain that he had been sick for a couple of days so his mind wasn’t working at full speed when he wrote the piece.\n",
            "At press time Carroll had read one sentence of the piece out loud before launching into a prolonged explanation of why the second sentence was about to be even worse than the first.\n"
          ]
        }
      ]
    },
    {
      "cell_type": "code",
      "source": [
        "from trafilatura import fetch_url\n",
        "\n",
        "document = fetch_url('http://thenoser.com/article/Older-Brother-Set-Bar-Pretty-Low-For-What-Mom-Will')"
      ],
      "metadata": {
        "id": "IfbNLJ6CwgDO"
      },
      "execution_count": null,
      "outputs": []
    },
    {
      "cell_type": "code",
      "source": [
        "from trafilatura import extract\n",
        "\n",
        "text = extract(document)\n",
        "print(text)"
      ],
      "metadata": {
        "colab": {
          "base_uri": "https://localhost:8080/"
        },
        "id": "O8RUnpLEDYgR",
        "outputId": "26d000b0-301d-4689-b1c3-050c1592e052"
      },
      "execution_count": null,
      "outputs": [
        {
          "output_type": "stream",
          "name": "stdout",
          "text": [
            "Eyeing her older brother’s subpar fourth grade report card, second grader Anna Keenan came to the conclusion that the bar is set pretty low for what her mom will hang up on the fridge.\n",
            "“I have a spelling test this Friday, but I’m pretty sure I can just phone this one in,” said Anna, explaining that her mom’s policy with her brother Jason has just been to hang up anything he brings home from school. “He’s set an example and by his standard, I don’t even need to get a ‘check plus’ on this test. I’ll just scrape out a ‘check’, and up on the fridge it’ll go.\"\n",
            "“The quality of the artwork I’ve seen hung up has been especially poor,” said Anna, adding that often it’s not even anything Jason’s drawn himself but just a page from a coloring book he’s colored in. “Sometimes, I think about trying to draw real bodies, not just stick figures. But then I think to myself, why even bother? It doesn’t have to be stellar to get Mom’s seal of approval.”\n",
            "At press time, Mrs. Keenan was trying to find a magnet to hang up one of the ungraded worksheets Anna had done for homework.\n"
          ]
        }
      ]
    },
    {
      "cell_type": "code",
      "source": [
        "from trafilatura import fetch_url\n",
        "\n",
        "document = fetch_url('http://thenoser.com/article/Guy-Who-Said-Joke-Too-Quietly-Watches-Helplessly-A')"
      ],
      "metadata": {
        "id": "2dgBhCI0DqFi"
      },
      "execution_count": null,
      "outputs": []
    },
    {
      "cell_type": "code",
      "source": [
        "from trafilatura import extract\n",
        "\n",
        "text = extract(document)\n",
        "print(text)"
      ],
      "metadata": {
        "colab": {
          "base_uri": "https://localhost:8080/"
        },
        "id": "03E3ysjGDqbP",
        "outputId": "028b1b1c-c7a8-4ba2-9c7a-6275399038df"
      },
      "execution_count": null,
      "outputs": [
        {
          "output_type": "stream",
          "name": "stdout",
          "text": [
            "Silently staring at the ground and kicking himself for not asserting himself, local man Stan Leonard watched powerlessly as the guy who repeated his joke louder and more confidently got all the credit. “I knew it was funny,” said Leonard about his joke commenting on the current political climate. “I didn’t have the guts to say it outright, so I just said it in a really small voice. I didn’t realize I was just making myself prey. The other guy didn’t even get the delivery right, but they still ate it up. His timing was all wrong and he still had everyone in stitches. Imagine what I could’ve done.” At press time, Leonard was seen cursing himself after saying “bless you” when his friend didn’t actually sneeze.\n",
            "Guy Who Said Joke Too Quietly Watches Helplessly As Guy Who Repeated It Louder Gets All The Credit\n",
            "Published Friday, March 17th, 2017\n"
          ]
        }
      ]
    },
    {
      "cell_type": "code",
      "source": [
        "from trafilatura import fetch_url\n",
        "\n",
        "document = fetch_url('http://thenoser.com/article/High-School-Drama-Teacher-Stresses-Over-Whether-To')"
      ],
      "metadata": {
        "id": "68VaGnnTD5Bm"
      },
      "execution_count": null,
      "outputs": []
    },
    {
      "cell_type": "code",
      "source": [
        "from trafilatura import extract\n",
        "\n",
        "text = extract(document)\n",
        "print(text)"
      ],
      "metadata": {
        "colab": {
          "base_uri": "https://localhost:8080/"
        },
        "id": "I9WwXSIPD5fF",
        "outputId": "75551ba5-8ea3-43ec-8e68-c50673853d60"
      },
      "execution_count": null,
      "outputs": [
        {
          "output_type": "stream",
          "name": "stdout",
          "text": [
            "Changing his mind over and over again and weighing all of the pros and cons, high school drama teacher Ken Lassen stressed over whether to cast Cameron or Matt C. in the Hamilton Preparatory High School production of Grease.\n",
            "“Matt C. has an amazing singing voice, but Cameron has gone to dance camp at the local community college for three consecutive summers,” Lassen said, gazing at makeshift headshots of the boys that he took in the school’s cafeteria. “Cameron is clearly the safe pick, but Matt C. has this raw talent that you just can’t teach. I know Cameron could hit every note and perform the choreography impeccably, but I really think Matt C. could add a layer to Danny Zuko that audiences have never seen before.”\n",
            "Sources report that the night of callbacks, Lassen didn’t get any sleep and instead sat up in his bed, worrying that whichever boy he didn’t cast would be getting picked up from school Friday with a broken heart.\n",
            "“I still regret casting Michelle as Adelaide in Guys and Dolls last year,” said Lassen, pulling at his hair from the stress. “She had just moved here, and I thought the theater community could be her home. Let’s just say, calling it a ‘fiasco’ would be an understatement.”\n",
            "Lassen also took pains to explain to all two of his acting classes that casting is the hardest part of a director’s job, conveniently leaving out the fact that he cast Danielle as Sandy immediately.\n",
            "“It was just a no-brainer. Danielle has star power, no two ways about it,” Lassen added.\n",
            "“I also need to consider the fact that Cameron is on the JV lacrosse team,” said Lassen, rewatching the Grease Lightening scene from Grease the movie for inspiration. “So he would have to miss some of our tech rehearsals for practice. At the same time, Matt C. is on mock trial and if they qualify for state that’s a week of choreo thrown out the window.”\n",
            "At press time, Lassen announced that Cameron would be playing Danny Zuko, while Matt C. would be stuck with the part of the Angel who sings “Beauty School Dropout,” then flies away, and doesn’t appear again for the rest of the musical.\n"
          ]
        }
      ]
    },
    {
      "cell_type": "code",
      "source": [
        "from trafilatura import fetch_url\n",
        "\n",
        "document = fetch_url('http://thenoser.com/article/REPORT-Boba-Perfect-Solution-For-People-Who-Want-O')"
      ],
      "metadata": {
        "id": "BHoxC2tREGNv"
      },
      "execution_count": null,
      "outputs": []
    },
    {
      "cell_type": "code",
      "source": [
        "from trafilatura import extract\n",
        "\n",
        "text = extract(document)\n",
        "print(text)"
      ],
      "metadata": {
        "colab": {
          "base_uri": "https://localhost:8080/"
        },
        "id": "rnmy2wmsEF5w",
        "outputId": "1ad6237b-58cc-47da-b293-b97edf5a903a"
      },
      "execution_count": null,
      "outputs": [
        {
          "output_type": "stream",
          "name": "stdout",
          "text": [
            "A report released by the US Department of Agriculture on Wednesday concluded that boba is the perfect solution for consumers interested in having one hundred little balls of slime in their tea. “The demand for slime balls has never been higher and boba is the only viable solution,” reads the introduction of the report, which goes on to explain that people will actually pay extra for the slime balls to avoid drinking a normal cup of tea. “When push comes to shove, there aren’t many tiny, edible, slime balls on the market. Especially if you’re narrowing it down to those that you can put in your tea and sucked up through a big straw stabbed through a plastic vacuum sealed lid.” The report concluded by providing a list of the best boba places in each major U.S. city.\n",
            "Report: Boba Perfect Solution For People Who Want One Hundred Slime Balls In Their Tea\n",
            "Published Friday, March 17th, 2017\n"
          ]
        }
      ]
    },
    {
      "cell_type": "code",
      "source": [
        "from trafilatura import fetch_url\n",
        "\n",
        "document = fetch_url('http://thenoser.com/article/Area-Mans-Day-Ruined-After-Accidentally-Seeing-Own')"
      ],
      "metadata": {
        "id": "HAQ2_sdnEWhE"
      },
      "execution_count": null,
      "outputs": []
    },
    {
      "cell_type": "code",
      "source": [
        "from trafilatura import extract\n",
        "\n",
        "text = extract(document)\n",
        "print(text)"
      ],
      "metadata": {
        "colab": {
          "base_uri": "https://localhost:8080/"
        },
        "id": "jrHcJJ7SEWUZ",
        "outputId": "fe82fd88-3945-4b43-8afb-b36f572fb360"
      },
      "execution_count": null,
      "outputs": [
        {
          "output_type": "stream",
          "name": "stdout",
          "text": [
            "Accidentally glancing at his own reflection in a store window, local man Paul Gregory’s day was immediately ruined. “Usually I do a lot of psyching myself up before looking in the mirror,” said Gregory, sitting on a park bench with his head in his hands. “I know my angles and can do a quick suck in of my stomach. The combination of lowering my expectations while doing everything I can to make my appearance as palatable as possible normally keeps my day humming along just fine. When I saw my reflection without meaning to it was like I saw past my body and into my soul and I hated both.” At press time, Gregory’s day was ruined further upon realizing it’s only going to get worse from here.\n",
            "Area Man's Day Ruined After Accidentally Seeing Own Reflection\n",
            "Published Friday, March 17th, 2017\n"
          ]
        }
      ]
    }
  ]
}