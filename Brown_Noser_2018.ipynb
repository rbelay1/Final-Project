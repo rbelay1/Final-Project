{
  "nbformat": 4,
  "nbformat_minor": 0,
  "metadata": {
    "colab": {
      "provenance": [],
      "include_colab_link": true
    },
    "kernelspec": {
      "name": "python3",
      "display_name": "Python 3"
    },
    "language_info": {
      "name": "python"
    }
  },
  "cells": [
    {
      "cell_type": "markdown",
      "metadata": {
        "id": "view-in-github",
        "colab_type": "text"
      },
      "source": [
        "<a href=\"https://colab.research.google.com/github/rbelay1/Final-Project/blob/main/Brown_Noser_2018.ipynb\" target=\"_parent\"><img src=\"https://colab.research.google.com/assets/colab-badge.svg\" alt=\"Open In Colab\"/></a>"
      ]
    },
    {
      "cell_type": "code",
      "source": [
        "pip install trafilatura"
      ],
      "metadata": {
        "colab": {
          "base_uri": "https://localhost:8080/"
        },
        "id": "B2wkzY4Butrm",
        "outputId": "360f5050-2868-4ea0-f62b-87fc300fa00f"
      },
      "execution_count": null,
      "outputs": [
        {
          "output_type": "stream",
          "name": "stdout",
          "text": [
            "Looking in indexes: https://pypi.org/simple, https://us-python.pkg.dev/colab-wheels/public/simple/\n",
            "Collecting trafilatura\n",
            "  Downloading trafilatura-1.5.0-py3-none-any.whl (1.0 MB)\n",
            "\u001b[2K     \u001b[90m━━━━━━━━━━━━━━━━━━━━━━━━━━━━━━━━━━━━━━━━\u001b[0m \u001b[32m1.0/1.0 MB\u001b[0m \u001b[31m16.6 MB/s\u001b[0m eta \u001b[36m0:00:00\u001b[0m\n",
            "\u001b[?25hRequirement already satisfied: urllib3<2,>=1.26 in /usr/local/lib/python3.9/dist-packages (from trafilatura) (1.26.15)\n",
            "Collecting charset-normalizer>=3.1.0\n",
            "  Downloading charset_normalizer-3.1.0-cp39-cp39-manylinux_2_17_x86_64.manylinux2014_x86_64.whl (199 kB)\n",
            "\u001b[2K     \u001b[90m━━━━━━━━━━━━━━━━━━━━━━━━━━━━━━━━━━━━━━━\u001b[0m \u001b[32m199.2/199.2 kB\u001b[0m \u001b[31m9.8 MB/s\u001b[0m eta \u001b[36m0:00:00\u001b[0m\n",
            "\u001b[?25hCollecting courlan>=0.9.0\n",
            "  Downloading courlan-0.9.1-py3-none-any.whl (40 kB)\n",
            "\u001b[2K     \u001b[90m━━━━━━━━━━━━━━━━━━━━━━━━━━━━━━━━━━━━━━━━\u001b[0m \u001b[32m40.7/40.7 kB\u001b[0m \u001b[31m2.6 MB/s\u001b[0m eta \u001b[36m0:00:00\u001b[0m\n",
            "\u001b[?25hCollecting htmldate>=1.4.2\n",
            "  Downloading htmldate-1.4.2-py3-none-any.whl (33 kB)\n",
            "Collecting justext>=3.0.0\n",
            "  Downloading jusText-3.0.0-py2.py3-none-any.whl (837 kB)\n",
            "\u001b[2K     \u001b[90m━━━━━━━━━━━━━━━━━━━━━━━━━━━━━━━━━━━━━━━\u001b[0m \u001b[32m837.8/837.8 kB\u001b[0m \u001b[31m9.6 MB/s\u001b[0m eta \u001b[36m0:00:00\u001b[0m\n",
            "\u001b[?25hRequirement already satisfied: certifi in /usr/local/lib/python3.9/dist-packages (from trafilatura) (2022.12.7)\n",
            "Requirement already satisfied: lxml>=4.9.2 in /usr/local/lib/python3.9/dist-packages (from trafilatura) (4.9.2)\n",
            "Collecting tld>=0.13\n",
            "  Downloading tld-0.13-py2.py3-none-any.whl (263 kB)\n",
            "\u001b[2K     \u001b[90m━━━━━━━━━━━━━━━━━━━━━━━━━━━━━━━━━━━━━━\u001b[0m \u001b[32m263.8/263.8 kB\u001b[0m \u001b[31m15.3 MB/s\u001b[0m eta \u001b[36m0:00:00\u001b[0m\n",
            "\u001b[?25hRequirement already satisfied: langcodes>=3.3.0 in /usr/local/lib/python3.9/dist-packages (from courlan>=0.9.0->trafilatura) (3.3.0)\n",
            "Collecting dateparser>=1.1.2\n",
            "  Downloading dateparser-1.1.8-py2.py3-none-any.whl (293 kB)\n",
            "\u001b[2K     \u001b[90m━━━━━━━━━━━━━━━━━━━━━━━━━━━━━━━━━━━━━━\u001b[0m \u001b[32m293.8/293.8 kB\u001b[0m \u001b[31m20.4 MB/s\u001b[0m eta \u001b[36m0:00:00\u001b[0m\n",
            "\u001b[?25hRequirement already satisfied: python-dateutil>=2.8.2 in /usr/local/lib/python3.9/dist-packages (from htmldate>=1.4.2->trafilatura) (2.8.2)\n",
            "Requirement already satisfied: pytz in /usr/local/lib/python3.9/dist-packages (from dateparser>=1.1.2->htmldate>=1.4.2->trafilatura) (2022.7.1)\n",
            "Requirement already satisfied: regex!=2019.02.19,!=2021.8.27 in /usr/local/lib/python3.9/dist-packages (from dateparser>=1.1.2->htmldate>=1.4.2->trafilatura) (2022.10.31)\n",
            "Requirement already satisfied: tzlocal in /usr/local/lib/python3.9/dist-packages (from dateparser>=1.1.2->htmldate>=1.4.2->trafilatura) (4.3)\n",
            "Requirement already satisfied: six>=1.5 in /usr/local/lib/python3.9/dist-packages (from python-dateutil>=2.8.2->htmldate>=1.4.2->trafilatura) (1.16.0)\n",
            "Requirement already satisfied: pytz-deprecation-shim in /usr/local/lib/python3.9/dist-packages (from tzlocal->dateparser>=1.1.2->htmldate>=1.4.2->trafilatura) (0.1.0.post0)\n",
            "Requirement already satisfied: tzdata in /usr/local/lib/python3.9/dist-packages (from pytz-deprecation-shim->tzlocal->dateparser>=1.1.2->htmldate>=1.4.2->trafilatura) (2023.3)\n",
            "Installing collected packages: tld, justext, charset-normalizer, courlan, dateparser, htmldate, trafilatura\n",
            "  Attempting uninstall: charset-normalizer\n",
            "    Found existing installation: charset-normalizer 2.0.12\n",
            "    Uninstalling charset-normalizer-2.0.12:\n",
            "      Successfully uninstalled charset-normalizer-2.0.12\n",
            "\u001b[31mERROR: pip's dependency resolver does not currently take into account all the packages that are installed. This behaviour is the source of the following dependency conflicts.\n",
            "requests 2.27.1 requires charset-normalizer~=2.0.0; python_version >= \"3\", but you have charset-normalizer 3.1.0 which is incompatible.\u001b[0m\u001b[31m\n",
            "\u001b[0mSuccessfully installed charset-normalizer-3.1.0 courlan-0.9.1 dateparser-1.1.8 htmldate-1.4.2 justext-3.0.0 tld-0.13 trafilatura-1.5.0\n"
          ]
        }
      ]
    },
    {
      "cell_type": "code",
      "source": [],
      "metadata": {
        "id": "zKJst1_Mxmvp"
      },
      "execution_count": null,
      "outputs": []
    },
    {
      "cell_type": "code",
      "source": [
        "import requests\n",
        "from bs4 import BeautifulSoup\n",
        " \n",
        " \n",
        "url = 'http://thenoser.com/issue/95'\n",
        "reqs = requests.get(url)\n",
        "soup = BeautifulSoup(reqs.text, 'html.parser')\n",
        " \n",
        "urls = []\n",
        "for link in soup.find_all('a'):\n",
        "    print(link.get('href'))"
      ],
      "metadata": {
        "colab": {
          "base_uri": "https://localhost:8080/"
        },
        "id": "lhjA-Y2TDS65",
        "outputId": "d69da583-504d-4c50-ddef-c7d4daa18c3c"
      },
      "execution_count": null,
      "outputs": [
        {
          "output_type": "stream",
          "name": "stdout",
          "text": [
            "/section/Campus-Life\n",
            "/section/Off-Campus\n",
            "/section/Opinion\n",
            "/section/Politics\n",
            "/section/Science-and-Technology\n",
            "/section/Sports\n",
            "/section/Cinema-Corner\n",
            "/section/Noser-For-Kids\n",
            "/section/Arts--Culture\n",
            "http://thenoser.com\n",
            "/article/Yellow-SciLi-Discovered-In-Dubai-Airport\n",
            "/article/Yellow-SciLi-Discovered-In-Dubai-Airport\n",
            "/article/Yellow-SciLi-Discovered-In-Dubai-Airport\n",
            "/article/You-Gotta-Try-Putting-Pesto-On-Your-Pasta-FDA-Repo\n",
            "/article/You-Gotta-Try-Putting-Pesto-On-Your-Pasta-FDA-Repo\n",
            "/article/Hungover-Priest-Just-Showing-Movie-For-Homily-Toda\n",
            "/article/Hungover-Priest-Just-Showing-Movie-For-Homily-Toda\n",
            "/article/Guy-Wearing-Shorts-in-Snow-Must-be-Tough-Rugged-In\n",
            "/article/Guy-Wearing-Shorts-in-Snow-Must-be-Tough-Rugged-In\n",
            "/article/Shitty-Grandma-Doesnt-Even-Know-How-To-Knit\n",
            "/article/Shitty-Grandma-Doesnt-Even-Know-How-To-Knit\n",
            "/article/Recent-NPR-News-Hour-Just-60-Minutes-of-Jazzy-Clar\n",
            "/section/Off-Campus/95\n",
            "/article/Call-Me-By-Your-Name-Would-Have-Been-Perfect-If-Ou\n",
            "/article/Why-Do-Brown-Bears-Admirers-Posts-Keep-Getting-My-\n",
            "/section/Opinion/95\n",
            "/article/Everyone-In-First-Floor-of-Rock-Taking-A-Break-to-\n",
            "/article/Everyone-In-First-Floor-of-Rock-Taking-A-Break-to-\n",
            "/article/Student-Wonders-if-Whispering-Bless-You-In-Lecture\n",
            "/article/Student-Wonders-if-Whispering-Bless-You-In-Lecture\n",
            "/article/Elon-Musk-Hiring-Noser-Staffers-To-Make-New-Slight\n",
            "/article/Elon-Musk-Hiring-Noser-Staffers-To-Make-New-Slight\n",
            "/article/New-BPR-Issue-Just-Incredibly-Glossy-Cover-\n",
            "/article/New-BPR-Issue-Just-Incredibly-Glossy-Cover-\n",
            "/article/Open-Minded-College-Student-Eager-to-Explain-Why-E\n",
            "/article/Open-Minded-College-Student-Eager-to-Explain-Why-E\n",
            "/section/Campus-Life/95\n",
            "/article/Facebook-Admits-That-if-you-Get-the-Password-Close\n",
            "/article/Facebook-Admits-That-if-you-Get-the-Password-Close\n",
            "/article/Children-Eschew-Gadgets-For-The-Enthralling-Fun-of\n",
            "/section/Science-and-Technology/95\n",
            "#\n",
            "http://collegequill.com\n"
          ]
        }
      ]
    },
    {
      "cell_type": "code",
      "source": [
        "from trafilatura import fetch_url\n",
        "\n",
        "document = fetch_url('http://thenoser.com/article/Yellow-SciLi-Discovered-In-Dubai-Airport')"
      ],
      "metadata": {
        "id": "VYz3f9Rlv4cl"
      },
      "execution_count": null,
      "outputs": []
    },
    {
      "cell_type": "code",
      "source": [
        "from trafilatura import extract\n",
        "\n",
        "text = extract(document)\n",
        "print(text)"
      ],
      "metadata": {
        "colab": {
          "base_uri": "https://localhost:8080/"
        },
        "id": "HGTdiImsv9CE",
        "outputId": "f174327e-0d67-4dca-9fee-5d37b85fe672"
      },
      "execution_count": null,
      "outputs": [
        {
          "output_type": "stream",
          "name": "stdout",
          "text": [
            "According to Brown students and alumni traveling through the Middle Eastern city, the SciLi has a twin in the Dubai airport.\n",
            "“I had a connection through Dubai while visiting home over break,” said Senior Ariana Chu. “And I saw this huge, yellow, brutalist building. I realized right away that it looked just like the SciLi.” Reportedly, the SciLi duplicate had 15 identical floors, 3 elevators, and even a cafe in the lobby. “The only difference between the two,” said Chu, “is that the one in Dubai is bright yellow.”\n",
            "“At the start I thought people were joking,” said Freshman Max Harris, voicing the opinion of many Brown students who questioned the Dubai’s SciLi existence at first, “But over break one of my friends connected through Dubai and posted a photo on their Snapstory. I still don’t understand why anyone would want another SciLi in the first place. It definitely looks weird painted yellow, though.”\n",
            "According to firsthand accounts from Dubai International Airport, the SciLi twin is difficult to miss. Located between a Duty Free store and a massage kiosk, many patrons look twice at the hulking library. Some have even gone out of their way to catch a glimpse of the library duplicate, making the trek to Terminal 4 just to tell their friends back home what they saw.\n",
            "At Brown, some students seemed disappointed at the presence of another SciLi. “It definitely makes ours feel less special,” said Harris. “But if I’m in Dubai, I guarantee you I’ll go and check it out.”\n"
          ]
        }
      ]
    },
    {
      "cell_type": "code",
      "source": [
        "from trafilatura import fetch_url\n",
        "\n",
        "document = fetch_url('http://thenoser.com/article/You-Gotta-Try-Putting-Pesto-On-Your-Pasta-FDA-Repo')"
      ],
      "metadata": {
        "id": "IfbNLJ6CwgDO"
      },
      "execution_count": null,
      "outputs": []
    },
    {
      "cell_type": "code",
      "source": [
        "from trafilatura import extract\n",
        "\n",
        "text = extract(document)\n",
        "print(text)"
      ],
      "metadata": {
        "colab": {
          "base_uri": "https://localhost:8080/"
        },
        "id": "O8RUnpLEDYgR",
        "outputId": "bc20be47-0b28-44a4-a13b-80212816f264"
      },
      "execution_count": null,
      "outputs": [
        {
          "output_type": "stream",
          "name": "stdout",
          "text": [
            "A study released by the Food and Drug Administration on Monday revealed that you gotta try putting pesto on your pasta. The study which included FDA scientists testing the basil based sauce on various types of pasta concluded that, yup, it’s a good combination.\n",
            "“Not only is pesto safe for consumption,” said lead scientist Karen Drake, “It can be very yummy on pasta. Research showed that the pesto does not even need to be home-made; throwing a dollop of store-bought pesto will do the trick.”\n",
            "“We’ve done a series of randomized-control trials and across the board we saw that plain old pasta just doesn’t hold a candle to pasta with a little bit of pesto mixed through it,” continued Drake, referencing a chart that showed that, yeah, just about everyone can enjoy a bowl of pesto pasta. “It doesn’t have to be a lot of pesto. Just a spoonful or two. You want it to get that green color but not be too overpowering.”\n",
            "The report stated that even if you think pesto is not your thing because you tried it on other food, like crackers or pizza or something, you need to give it a try on pasta.\n",
            "“It’s so easy,\" said Drake. \"All you have to do is throw a tiny scoop in there and mix it up.”\n",
            "The study went on to conclude that you should definitely throw a little cheese on top of that pesto pasta but warned that some pestos might already contain cheese and you don’t want to go overboard with the cheese.\n",
            "At press time, the FDA confirmed that if you have any red sauce lying around definitely use that first because why mess with a good thing?\n"
          ]
        }
      ]
    },
    {
      "cell_type": "code",
      "source": [
        "from trafilatura import fetch_url\n",
        "\n",
        "document = fetch_url('http://thenoser.com/article/Hungover-Priest-Just-Showing-Movie-For-Homily-Toda')"
      ],
      "metadata": {
        "id": "2dgBhCI0DqFi"
      },
      "execution_count": null,
      "outputs": []
    },
    {
      "cell_type": "code",
      "source": [
        "from trafilatura import extract\n",
        "\n",
        "text = extract(document)\n",
        "print(text)"
      ],
      "metadata": {
        "colab": {
          "base_uri": "https://localhost:8080/"
        },
        "id": "03E3ysjGDqbP",
        "outputId": "f2101c3e-c8da-4fe6-c1f7-473bcd4c3645"
      },
      "execution_count": null,
      "outputs": [
        {
          "output_type": "stream",
          "name": "stdout",
          "text": [
            "Looking a little sick after a long night out, hungover priest Father Gregory Flynn announced that he will show a movie instead of giving a homily in today’s 10 o’clock mass.\n",
            "“This gospel passage is best shown by an old film I saw in the seminary,” Father Flynn said in a raspy voice after taking a sip of ginger ale. “This sums it up pretty clearly. I’ll let it do the talking today.”\n",
            "Father Flynn then rolled an old T.V. in front of the altar and started an animated V.C.R.film about Jesus in the garden of Gethsemane. He gave a thumbs up to the congregants before rubbing his temples and walking to his chair.\n",
            "“Deacon Cantoli, please turn down the lights,” he added.\n",
            "Father Flynn then sat back in his chair and dozed in and out of sleep while pretending to pray.\n"
          ]
        }
      ]
    },
    {
      "cell_type": "code",
      "source": [
        "from trafilatura import fetch_url\n",
        "\n",
        "document = fetch_url('http://thenoser.com/article/Guy-Wearing-Shorts-in-Snow-Must-be-Tough-Rugged-In')\n"
      ],
      "metadata": {
        "id": "68VaGnnTD5Bm"
      },
      "execution_count": null,
      "outputs": []
    },
    {
      "cell_type": "code",
      "source": [
        "from trafilatura import extract\n",
        "\n",
        "text = extract(document)\n",
        "print(text)"
      ],
      "metadata": {
        "colab": {
          "base_uri": "https://localhost:8080/"
        },
        "id": "I9WwXSIPD5fF",
        "outputId": "eaf85743-8782-4a86-c4f7-c70f2edabe87"
      },
      "execution_count": null,
      "outputs": [
        {
          "output_type": "stream",
          "name": "stdout",
          "text": [
            "Sources report that local man Al Nicco, who wears shorts even when it’s snowing, must be a tough and rugged individual.\n",
            "Nicco, who has never been sighted wearing long pants in the winter, has been touted by strangers as a shining example of resilience and self-reliance. “Even during the snow day he was wearing shorts,” explained onlooker Kris Huang, pointing out that despite Nicco’s constant shivering, “he’s clearly a self-made man who pulls himself up by his bootstraps.”\n",
            "In fact, Nicco has gained a reputation throughout campus of being unbreakable. “He really plays by his own rules and isn’t afraid to do something different from everyone else,” elaborated Huang. “I respect that maverick spirit.”\n",
            "According to other students, Nicco’s chattering teeth and shallow breathing after he eats lunch on the steps of Faunce in below-freezing weather are not symptoms of hypothermia, but instead are signs of his robust masculinity. “Sure, he occasionally gets mild frostbite on his calves,” added Huang. “But Al is the beacon of rugged individualism that our millennial generation is missing.”\n"
          ]
        }
      ]
    },
    {
      "cell_type": "code",
      "source": [
        "from trafilatura import fetch_url\n",
        "\n",
        "document = fetch_url('http://thenoser.com/article/Shitty-Grandma-Doesnt-Even-Know-How-To-Knit')\n"
      ],
      "metadata": {
        "id": "BHoxC2tREGNv"
      },
      "execution_count": null,
      "outputs": []
    },
    {
      "cell_type": "code",
      "source": [
        "from trafilatura import extract\n",
        "\n",
        "text = extract(document)\n",
        "print(text)"
      ],
      "metadata": {
        "colab": {
          "base_uri": "https://localhost:8080/"
        },
        "id": "rnmy2wmsEF5w",
        "outputId": "c94ccc55-215d-47a7-981c-782325ffdeed"
      },
      "execution_count": null,
      "outputs": [
        {
          "output_type": "stream",
          "name": "stdout",
          "text": [
            "According to her grandchildren, Pawtucket grandmother Lindsey Trent doesn’t even know how to knit.\n",
            "“You expect certain things from a grandmother,” said her grandson Malik, “And one of those things is that she knits. She knits a lot. Sure, Grandma loves tea and buys us really generous Christmas gifts. But the not being able to knit thing is a big red flag.”\n",
            "Malik went on to report that what he found disappointing was that his grandmother had time to knit over the course of her life, but never did.\n",
            "“I’m not even her first grandchild,” he reported. “You would have think she would’ve pulled it together by the time I came around.”\n",
            "“She just should have known what she was getting into when she got into the whole grandmother gig,” he continued. “If I can’t count on being able to see my grandma cozied up in big armchair, working away on a half finished mitten, then what is there that I can count on?”\n",
            "At press time, Trent was learning how to crochet as if that was that was the same thing.\n"
          ]
        }
      ]
    },
    {
      "cell_type": "code",
      "source": [
        "from trafilatura import fetch_url\n",
        "\n",
        "document = fetch_url('http://thenoser.com/article/Recent-NPR-News-Hour-Just-60-Minutes-of-Jazzy-Clar')"
      ],
      "metadata": {
        "id": "HAQ2_sdnEWhE"
      },
      "execution_count": null,
      "outputs": []
    },
    {
      "cell_type": "code",
      "source": [
        "from trafilatura import extract\n",
        "\n",
        "text = extract(document)\n",
        "print(text)"
      ],
      "metadata": {
        "colab": {
          "base_uri": "https://localhost:8080/"
        },
        "id": "jrHcJJ7SEWUZ",
        "outputId": "ef68477f-9b7d-4a07-ca80-946617077742"
      },
      "execution_count": null,
      "outputs": [
        {
          "output_type": "stream",
          "name": "stdout",
          "text": [
            "NPR’s “Morning Edition” skipped the news today in favor of a uninterrupted hour of jazzy clarinet interludes, listeners report. Although the popular radio program touts itself as a leader in world news, this morning it delivered obscure jazz in lieu of hard-hitting stories right up until “Morning Concert” took the air at 9:00.\n",
            "“I love the little snippets of music they throw in between segments,” said listener Molly Koehler, “and this morning it took me a while to realize they actually weren’t gonna do the news, just a bunch of 4-second clarinet solos they appear to have found on the Jazz & Blues page of Soundcloud.”\n",
            "Although Koehler found the format unconventional, she was unfazed by the journalistic choice. “I can’t say I’m surprised. Those interludes are the highlight of the hour, so why beat around the bush?”\n",
            "At press time, producers were queuing up an hour of classical guitar riffs for this afternoon’s edition of “Fresh Air.”\n"
          ]
        }
      ]
    }
  ]
}