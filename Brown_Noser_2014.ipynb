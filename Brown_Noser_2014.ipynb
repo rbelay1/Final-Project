{
  "nbformat": 4,
  "nbformat_minor": 0,
  "metadata": {
    "colab": {
      "provenance": [],
      "include_colab_link": true
    },
    "kernelspec": {
      "name": "python3",
      "display_name": "Python 3"
    },
    "language_info": {
      "name": "python"
    }
  },
  "cells": [
    {
      "cell_type": "markdown",
      "metadata": {
        "id": "view-in-github",
        "colab_type": "text"
      },
      "source": [
        "<a href=\"https://colab.research.google.com/github/rbelay1/Final-Project/blob/main/Brown_Noser_2014.ipynb\" target=\"_parent\"><img src=\"https://colab.research.google.com/assets/colab-badge.svg\" alt=\"Open In Colab\"/></a>"
      ]
    },
    {
      "cell_type": "code",
      "source": [
        "pip install trafilatura"
      ],
      "metadata": {
        "colab": {
          "base_uri": "https://localhost:8080/"
        },
        "id": "B2wkzY4Butrm",
        "outputId": "65944823-d909-4407-dcbd-82f713135c35"
      },
      "execution_count": null,
      "outputs": [
        {
          "output_type": "stream",
          "name": "stdout",
          "text": [
            "Looking in indexes: https://pypi.org/simple, https://us-python.pkg.dev/colab-wheels/public/simple/\n",
            "Collecting trafilatura\n",
            "  Downloading trafilatura-1.5.0-py3-none-any.whl (1.0 MB)\n",
            "\u001b[2K     \u001b[90m━━━━━━━━━━━━━━━━━━━━━━━━━━━━━━━━━━━━━━━━\u001b[0m \u001b[32m1.0/1.0 MB\u001b[0m \u001b[31m25.9 MB/s\u001b[0m eta \u001b[36m0:00:00\u001b[0m\n",
            "\u001b[?25hRequirement already satisfied: certifi in /usr/local/lib/python3.9/dist-packages (from trafilatura) (2022.12.7)\n",
            "Requirement already satisfied: urllib3<2,>=1.26 in /usr/local/lib/python3.9/dist-packages (from trafilatura) (1.26.15)\n",
            "Collecting justext>=3.0.0\n",
            "  Downloading jusText-3.0.0-py2.py3-none-any.whl (837 kB)\n",
            "\u001b[2K     \u001b[90m━━━━━━━━━━━━━━━━━━━━━━━━━━━━━━━━━━━━━━\u001b[0m \u001b[32m837.8/837.8 kB\u001b[0m \u001b[31m56.6 MB/s\u001b[0m eta \u001b[36m0:00:00\u001b[0m\n",
            "\u001b[?25hCollecting htmldate>=1.4.2\n",
            "  Downloading htmldate-1.4.2-py3-none-any.whl (33 kB)\n",
            "Requirement already satisfied: lxml>=4.9.2 in /usr/local/lib/python3.9/dist-packages (from trafilatura) (4.9.2)\n",
            "Collecting charset-normalizer>=3.1.0\n",
            "  Downloading charset_normalizer-3.1.0-cp39-cp39-manylinux_2_17_x86_64.manylinux2014_x86_64.whl (199 kB)\n",
            "\u001b[2K     \u001b[90m━━━━━━━━━━━━━━━━━━━━━━━━━━━━━━━━━━━━━━\u001b[0m \u001b[32m199.2/199.2 kB\u001b[0m \u001b[31m20.0 MB/s\u001b[0m eta \u001b[36m0:00:00\u001b[0m\n",
            "\u001b[?25hCollecting courlan>=0.9.0\n",
            "  Downloading courlan-0.9.1-py3-none-any.whl (40 kB)\n",
            "\u001b[2K     \u001b[90m━━━━━━━━━━━━━━━━━━━━━━━━━━━━━━━━━━━━━━━━\u001b[0m \u001b[32m40.7/40.7 kB\u001b[0m \u001b[31m4.4 MB/s\u001b[0m eta \u001b[36m0:00:00\u001b[0m\n",
            "\u001b[?25hRequirement already satisfied: langcodes>=3.3.0 in /usr/local/lib/python3.9/dist-packages (from courlan>=0.9.0->trafilatura) (3.3.0)\n",
            "Collecting tld>=0.13\n",
            "  Downloading tld-0.13-py2.py3-none-any.whl (263 kB)\n",
            "\u001b[2K     \u001b[90m━━━━━━━━━━━━━━━━━━━━━━━━━━━━━━━━━━━━━━\u001b[0m \u001b[32m263.8/263.8 kB\u001b[0m \u001b[31m26.4 MB/s\u001b[0m eta \u001b[36m0:00:00\u001b[0m\n",
            "\u001b[?25hCollecting dateparser>=1.1.2\n",
            "  Downloading dateparser-1.1.8-py2.py3-none-any.whl (293 kB)\n",
            "\u001b[2K     \u001b[90m━━━━━━━━━━━━━━━━━━━━━━━━━━━━━━━━━━━━━━\u001b[0m \u001b[32m293.8/293.8 kB\u001b[0m \u001b[31m30.2 MB/s\u001b[0m eta \u001b[36m0:00:00\u001b[0m\n",
            "\u001b[?25hRequirement already satisfied: python-dateutil>=2.8.2 in /usr/local/lib/python3.9/dist-packages (from htmldate>=1.4.2->trafilatura) (2.8.2)\n",
            "Requirement already satisfied: pytz in /usr/local/lib/python3.9/dist-packages (from dateparser>=1.1.2->htmldate>=1.4.2->trafilatura) (2022.7.1)\n",
            "Requirement already satisfied: regex!=2019.02.19,!=2021.8.27 in /usr/local/lib/python3.9/dist-packages (from dateparser>=1.1.2->htmldate>=1.4.2->trafilatura) (2022.10.31)\n",
            "Requirement already satisfied: tzlocal in /usr/local/lib/python3.9/dist-packages (from dateparser>=1.1.2->htmldate>=1.4.2->trafilatura) (4.3)\n",
            "Requirement already satisfied: six>=1.5 in /usr/local/lib/python3.9/dist-packages (from python-dateutil>=2.8.2->htmldate>=1.4.2->trafilatura) (1.16.0)\n",
            "Requirement already satisfied: pytz-deprecation-shim in /usr/local/lib/python3.9/dist-packages (from tzlocal->dateparser>=1.1.2->htmldate>=1.4.2->trafilatura) (0.1.0.post0)\n",
            "Requirement already satisfied: tzdata in /usr/local/lib/python3.9/dist-packages (from pytz-deprecation-shim->tzlocal->dateparser>=1.1.2->htmldate>=1.4.2->trafilatura) (2023.3)\n",
            "Installing collected packages: tld, justext, charset-normalizer, courlan, dateparser, htmldate, trafilatura\n",
            "  Attempting uninstall: charset-normalizer\n",
            "    Found existing installation: charset-normalizer 2.0.12\n",
            "    Uninstalling charset-normalizer-2.0.12:\n",
            "      Successfully uninstalled charset-normalizer-2.0.12\n",
            "\u001b[31mERROR: pip's dependency resolver does not currently take into account all the packages that are installed. This behaviour is the source of the following dependency conflicts.\n",
            "requests 2.27.1 requires charset-normalizer~=2.0.0; python_version >= \"3\", but you have charset-normalizer 3.1.0 which is incompatible.\u001b[0m\u001b[31m\n",
            "\u001b[0mSuccessfully installed charset-normalizer-3.1.0 courlan-0.9.1 dateparser-1.1.8 htmldate-1.4.2 justext-3.0.0 tld-0.13 trafilatura-1.5.0\n"
          ]
        }
      ]
    },
    {
      "cell_type": "code",
      "source": [
        "import requests\n",
        "from bs4 import BeautifulSoup\n",
        " \n",
        " \n",
        "url = 'http://thenoser.com/issue/72'\n",
        "reqs = requests.get(url)\n",
        "soup = BeautifulSoup(reqs.text, 'html.parser')\n",
        " \n",
        "urls = []\n",
        "for link in soup.find_all('a'):\n",
        "    print(link.get('href'))"
      ],
      "metadata": {
        "colab": {
          "base_uri": "https://localhost:8080/"
        },
        "id": "lhjA-Y2TDS65",
        "outputId": "ed9251f2-36c3-4fd5-839e-06f8998b42dc"
      },
      "execution_count": null,
      "outputs": [
        {
          "output_type": "stream",
          "name": "stdout",
          "text": [
            "/section/Campus-Life\n",
            "/section/Off-Campus\n",
            "/section/Opinion\n",
            "/section/Politics\n",
            "/section/Science-and-Technology\n",
            "/section/Sports\n",
            "/section/Cinema-Corner\n",
            "/section/Noser-For-Kids\n",
            "/section/Arts--Culture\n",
            "http://thenoser.com\n",
            "/article/University-Found-Dead-At-249\n",
            "/article/University-Found-Dead-At-249\n",
            "/article/University-Found-Dead-At-249\n",
            "/article/Community-Gathers-To-Vaguely-Remember-Victim\n",
            "/article/Community-Gathers-To-Vaguely-Remember-Victim\n",
            "/article/Cops-Arrest-Russian-Army-For-Breaking-The-Law\n",
            "/article/Department-Of-Defense-Adopts-Man-To-Man-Coverage\n",
            "/article/Department-Of-Defense-Adopts-Man-To-Man-Coverage\n",
            "/article/Mayor-Vows-To-Investigate-Who-Spent-The-Pension-Fu\n",
            "/article/Mayor-Vows-To-Investigate-Who-Spent-The-Pension-Fu\n",
            "/article/New-Revlon-Concealer-Covers-Up-Blemishes-All-The-B\n",
            "/section/Off-Campus/72\n",
            "/article/GOP-Racism-Will-Set-Us-Back-60-Years-Unless-We-Des\n",
            "/article/I-Am-But-A-Weary-Traveler-Hoping-To-Gain-Shelter-F\n",
            "/section/Opinion/72\n",
            "/article/White-Man-Fantasizes-About-Being-A-Black-Woman-Who\n",
            "/article/White-Man-Fantasizes-About-Being-A-Black-Woman-Who\n",
            "/article/Comp-Lit-Concentrator-Still-Calls-Them-Chapter-Boo\n",
            "/article/Comp-Lit-Concentrator-Still-Calls-Them-Chapter-Boo\n",
            "/article/Area-Woman-Unabashedly-Using-Exs-Netflix-Account\n",
            "/article/Area-Woman-Unabashedly-Using-Exs-Netflix-Account\n",
            "/article/5-Year-Old-Hasnt-Been-Drawing-Dad-In-Family-Pictur\n",
            "/article/5-Year-Old-Hasnt-Been-Drawing-Dad-In-Family-Pictur\n",
            "/article/Guy-Paying-With-50-Bill-Must-Think-Whole-World-A-F\n",
            "/section/Campus-Life/72\n",
            "/article/Toyota-Executives-Unveil-Car-With-Loudest-Vroom-Ca\n",
            "/article/Toyota-Executives-Unveil-Car-With-Loudest-Vroom-Ca\n",
            "/article/Archaeologists-Think-Early-Man-May-Have-Lived-Comp\n",
            "/article/Archaeologists-Think-Early-Man-May-Have-Lived-Comp\n",
            "/article/Report-You-Could-Be-On-A-Roller-Coaster-Right-Now-\n",
            "/article/Report-You-Could-Be-On-A-Roller-Coaster-Right-Now-\n",
            "/section/Science-and-Technology/72\n",
            "#\n",
            "http://collegequill.com\n"
          ]
        }
      ]
    },
    {
      "cell_type": "code",
      "source": [
        "from trafilatura import fetch_url\n",
        "\n",
        "document = fetch_url('http://thenoser.com/article/University-Found-Dead-At-249')"
      ],
      "metadata": {
        "id": "VYz3f9Rlv4cl"
      },
      "execution_count": null,
      "outputs": []
    },
    {
      "cell_type": "code",
      "source": [
        "from trafilatura import extract\n",
        "\n",
        "text = extract(document)\n",
        "print(text)"
      ],
      "metadata": {
        "colab": {
          "base_uri": "https://localhost:8080/"
        },
        "id": "HGTdiImsv9CE",
        "outputId": "20e7792f-03db-4a0c-8579-89ef0b875cfd"
      },
      "execution_count": null,
      "outputs": [
        {
          "output_type": "stream",
          "name": "stdout",
          "text": [
            "Officials with the Providence Police Department announced this afternoon that local institution of higher learning, Brown University, passed away yesterday at the age of 249.\n",
            "“Though information is still trickling in, we can confirm that the University was found dead Thursday morning on a plot of land in Providence, R.I., on the eve of its semiquincentenary,” Chief Sheriff David M.\n",
            "According to the account of grief-stricken residents, the town of Dalton, Ga. gathered together as a community on Sunday to vaguely remember Rachel Milliner, the teenage victim of last week’s hit-and-run car accident.\n",
            "“Rachel never, so far as I can recall, had a mean word to say to anybody,” recounted classmate Alex Johnston, who sat behind Rachel last year in Algebra—unless it was the Rachel that sat in front of him the year before in Geometry.\n",
            "In the wake of Russia’s illegal incursion into Crimea, the cops moved swiftly to bring to justice all involved. President Putin, Parliamentary leaders, and the entire higher command of the Russian Army were peacefully subdued and brought directly to prison.\n",
            "Secretary of Defense Chuck Hagel announced on Friday that the United States Department of Defense would be switching its national security strategy to man-to-man coverage. “Upon weighing the comparative merits of a conventional policy combining military and contractor resources versus one based on a stripped down, man-to-man approach,\" Hagel explained, \"the Joint Chiefs of Staff and I decided it would be best to change up our playbook.”\n",
            "“Each ‘X’ stands for one of our personnel.\n",
            "Clad in a bathing suit, flippies and a tank top reading, “Keep Calm and Pool Party: Birthday Bash at the Mayor’s House,” Mayor Tad Buckles vowed at a press conference yesterday to get to the bottom of just who approved blowing the entire pension fund on snacks, brews and an impromptu performance by the mayor’s best friend’s band.\n",
            "According to a recent press release, the new CoverClear Concealer from Revlon is “chemically proven to erase signs of aging like blemishes, wrinkles, and all of these bodies oh my God there are so many.” The directions on the back of the product’s packaging instruct the user to \"simply apply a small drop of Revlon CoverClear and watch as it elegantly masks unflattering sunspots and the severed heads of all the victims what have I done there is so much blood.” The new line of concealer from Revlon hits stores this month, with a new series of television spots to air during primetime programming.\n",
            "Turn on your television and it’s like looking into the 1950s. And I’m not just referring to the specially modified televisions that Time Sheriffs used to monitor the various streams of space and time. No, I’m referring to a Republican Party intent on sending this country back to segregationist times, both through hateful, race-baiting rhetoric and the secret temporal vortex they have created under the Positron Caves.\n",
            "Good evenin’, sir. Many thanks indeed for answering the door on such a stormy night, when the wind’s a-blowing and the snow’s a-swirling. It’s on nights like this that I must rely on the kindness of magnanimous souls such as yourself. For I am but a weary traveler hoping to gain shelter for the night and bury my pee pee around your house while you sleep.\n"
          ]
        }
      ]
    },
    {
      "cell_type": "code",
      "source": [
        "from trafilatura import fetch_url\n",
        "\n",
        "document = fetch_url('http://thenoser.com/article/Community-Gathers-To-Vaguely-Remember-Victim')"
      ],
      "metadata": {
        "id": "IfbNLJ6CwgDO"
      },
      "execution_count": null,
      "outputs": []
    },
    {
      "cell_type": "code",
      "source": [
        "from trafilatura import extract\n",
        "\n",
        "text = extract(document)\n",
        "print(text)"
      ],
      "metadata": {
        "colab": {
          "base_uri": "https://localhost:8080/"
        },
        "id": "O8RUnpLEDYgR",
        "outputId": "e3f809f0-e740-409f-d61b-3852977f93cf"
      },
      "execution_count": null,
      "outputs": [
        {
          "output_type": "stream",
          "name": "stdout",
          "text": [
            "According to the account of grief-stricken residents, the town of Dalton, Ga. gathered together as a community on Sunday to vaguely remember Rachel Milliner, the teenage victim of last week’s hit-and-run car accident.\n",
            "“Rachel never, so far as I can recall, had a mean word to say to anybody,” recounted classmate Alex Johnston, who sat behind Rachel last year in Algebra—unless it was the Rachel that sat in front of him the year before in Geometry. “She will be missed. I think.”\n",
            "Friends and community members expressed feelings of sorrow at the loss of young life, heartache in the fact of this senseless killing, and frustration at not quite being able to remember what Rachel looked like. Some figured that Rachel was the girl who was always talking about horses. Others contended that Rachel was the girl whose family owned a speedboat. All, however, reported only being able to remember Rachel and her life as a sort of blur, as if seen in soft-focus or underwater.\n",
            "“The candlelight service was very tasteful,” Johnston said. “From what I can remember about her, I guess Rachel would have liked that.”\n",
            "The memorial featured a series of eulogies from familiar-enough town figures presumably close to the deceased, a series of family videos from her early childhood, and a picture slideshow set to Rachel’s favorite songs—all of which helped to place Rachel loosely within the social reality of the town, though not bring her to clear and distinct recall.\n",
            "“Rachel may be gone, but her memory lives on, however hazy and malformed,\" said Ashton Barkley, principal of the high school that Rachel attended, at least according to some people who had a vague memory of Rachel going there.\n",
            "A monument will be erected at the site of Milliner’s death in the next months, featuring a local sculptor’s rendering of that girl with the red hair who everyone is pretty sure might have been Rachel Milliner.\n"
          ]
        }
      ]
    },
    {
      "cell_type": "code",
      "source": [
        "from trafilatura import fetch_url\n",
        "\n",
        "document = fetch_url('http://thenoser.com/article/Cops-Arrest-Russian-Army-For-Breaking-The-Law')"
      ],
      "metadata": {
        "id": "2dgBhCI0DqFi"
      },
      "execution_count": null,
      "outputs": []
    },
    {
      "cell_type": "code",
      "source": [
        "from trafilatura import extract\n",
        "\n",
        "text = extract(document)\n",
        "print(text)"
      ],
      "metadata": {
        "colab": {
          "base_uri": "https://localhost:8080/"
        },
        "id": "03E3ysjGDqbP",
        "outputId": "acdf0957-3846-47fc-8c01-7275cba722e7"
      },
      "execution_count": null,
      "outputs": [
        {
          "output_type": "stream",
          "name": "stdout",
          "text": [
            "In the wake of Russia’s illegal incursion into Crimea, the cops moved swiftly to bring to justice all involved. President Putin, Parliamentary leaders, and the entire higher command of the Russian Army were peacefully subdued and brought directly to prison.\n",
            "“Invading Ukraine is a clear violation of the law,” said Sheriff Patty O’Brian. “We had no choice but to place everyone involved under arrest.”\n",
            "Added O’Brian, “Everyone here is going to jail.”\n",
            "International observers applauded the arrest. “Thank goodness we were able to quickly resolve this whole situation without bloodshed,” said United Nations Secretary General Ban Ki-moon. “I can’t imagine what would have happened if the cops hadn’t shown up.”\n",
            "Said relieved Ukrainian Prime Minster Arseniy Yatsenyuk, “This is exactly why we have cops.”\n",
            "The incident immediately called to mind the 2003 arrest of President Bush for the unauthorized invasion of Iraq, along with arrest of Bashar al-Assad for attacking his own citizens and the capture of President Obama for his blatantly illegal drone program. Al-Assad and the entire cabinets of both presidents are currently serving 12-year terms in a maximum security prison, thus deterring anyone else from violating international law ever again.\n",
            "“Today, we have sent a clear message to the world’s leaders,” said Police Chief Jimmy Callahan. “You cannot simply invade countries and put civilian lives at risk whenever you want. It’s illegal.”\n",
            "“If you do,” he added, “you will go to jail.”\n"
          ]
        }
      ]
    },
    {
      "cell_type": "code",
      "source": [
        "from trafilatura import fetch_url\n",
        "\n",
        "document = fetch_url('http://thenoser.com/article/Department-Of-Defense-Adopts-Man-To-Man-Coverage')"
      ],
      "metadata": {
        "id": "68VaGnnTD5Bm"
      },
      "execution_count": null,
      "outputs": []
    },
    {
      "cell_type": "code",
      "source": [
        "from trafilatura import extract\n",
        "\n",
        "text = extract(document)\n",
        "print(text)"
      ],
      "metadata": {
        "colab": {
          "base_uri": "https://localhost:8080/"
        },
        "id": "I9WwXSIPD5fF",
        "outputId": "c65154c0-3400-4e02-97e9-29946f3f518e"
      },
      "execution_count": null,
      "outputs": [
        {
          "output_type": "stream",
          "name": "stdout",
          "text": [
            "Secretary of Defense Chuck Hagel announced on Friday that the United States Department of Defense would be switching its national security strategy to man-to-man coverage. “Upon weighing the comparative merits of a conventional policy combining military and contractor resources versus one based on a stripped down, man-to-man approach,\" Hagel explained, \"the Joint Chiefs of Staff and I decided it would be best to change up our playbook.”\n",
            "“Each ‘X’ stands for one of our personnel. Each ‘O’ is a real or potential danger to our domestic and foreign interests,” Hagel said, pointing to a world-map chalkboard.\n",
            "The Defense Secretary explained that, rather than dealing with terrorist organizations and other hostile forces through first detection by the U.S. intelligence network and then elimination of high-value targets, the department will now be deploying a single federal agent to guard each enemy belligerent.\n",
            "“This is a more aggressive game plan than our previous tactics. Our soldiers, strategists, and intelligence analysts are now going to be expected to stay on an assigned threat, box out that threat, and—where necessary—eliminate said threat.”\n",
            "Responding to criticism that such coverage might leave the U.S. more open to certain offensive maneuvers, Hagel assured press that no comprehensive defense policy is perfect and that, of course, his first priority is keeping Americans safe. He also went on to dismiss proponents of a strategy geared more towards focus on maintaining regional, zone-oriented stabilities as part of international cooperative efforts.\n",
            "“I say now with total confidence that a man-to-man allocation of funds and staffers is the best possible solution going forward,\" Hagel said. \"We’ve got to catch America’s enemies off-balance. We’ve got to get in their faces. We’ve got to rattle their cages a little bit.”\n",
            "Hagel closed with a demonstration of the defensive stance all agents are now to be trained in: feet planted wide, eyes up, with shoulders over the knees so that they will be harder to knock down.\n"
          ]
        }
      ]
    },
    {
      "cell_type": "code",
      "source": [
        "from trafilatura import fetch_url\n",
        "\n",
        "document = fetch_url('http://thenoser.com/article/Mayor-Vows-To-Investigate-Who-Spent-The-Pension-Fu')"
      ],
      "metadata": {
        "id": "BHoxC2tREGNv"
      },
      "execution_count": null,
      "outputs": []
    },
    {
      "cell_type": "code",
      "source": [
        "from trafilatura import extract\n",
        "\n",
        "text = extract(document)\n",
        "print(text)"
      ],
      "metadata": {
        "colab": {
          "base_uri": "https://localhost:8080/"
        },
        "id": "rnmy2wmsEF5w",
        "outputId": "648452fe-42de-4f4a-ca02-12d2d8c8c4a9"
      },
      "execution_count": null,
      "outputs": [
        {
          "output_type": "stream",
          "name": "stdout",
          "text": [
            "Clad in a bathing suit, flippies and a tank top reading, “Keep Calm and Pool Party: Birthday Bash at the Mayor’s House,” Mayor Tad Buckles vowed at a press conference yesterday to get to the bottom of just who approved blowing the entire pension fund on snacks, brews and an impromptu performance by the mayor’s best friend’s band. “We will not rest until we discover who thought handing out free cash to all the babes who showed was a good use of taxpayer dollars,” said Buckles, hurriedly tipping a pool boy and several magicians from out of town. “I’d like to apologize to our city’s workers who will likely be forced to delay their retirement by years, especially the ones who didn’t get an invite to this sick unrelated pool party last week.” As of press time, Buckles and his entire senior staff were embarking on a fact-finding mission to the district attorney’s beach house in Key West.\n",
            "Mayor Vows To Investigate Who Spent The Pension Fund On Awesome Pool Party At The Mayor's House\n",
            "Published Friday, March 7th, 2014\n"
          ]
        }
      ]
    },
    {
      "cell_type": "code",
      "source": [
        "from trafilatura import fetch_url\n",
        "\n",
        "document = fetch_url('http://thenoser.com/article/New-Revlon-Concealer-Covers-Up-Blemishes-All-The-B')"
      ],
      "metadata": {
        "id": "HAQ2_sdnEWhE"
      },
      "execution_count": null,
      "outputs": []
    },
    {
      "cell_type": "code",
      "source": [
        "from trafilatura import extract\n",
        "\n",
        "text = extract(document)\n",
        "print(text)"
      ],
      "metadata": {
        "colab": {
          "base_uri": "https://localhost:8080/"
        },
        "id": "jrHcJJ7SEWUZ",
        "outputId": "6f64c2fd-1eff-4cce-9126-bb7b2cf4e1f9"
      },
      "execution_count": null,
      "outputs": [
        {
          "output_type": "stream",
          "name": "stdout",
          "text": [
            "According to a recent press release, the new CoverClear Concealer from Revlon is “chemically proven to erase signs of aging like blemishes, wrinkles, and all of these bodies oh my God there are so many.” The directions on the back of the product’s packaging instruct the user to \"simply apply a small drop of Revlon CoverClear and watch as it elegantly masks unflattering sunspots and the severed heads of all the victims what have I done there is so much blood.” The new line of concealer from Revlon hits stores this month, with a new series of television spots to air during primetime programming. “Revlon CoverClear keeps me young,” says a spokesperson in a commercial for the new product. “And I’m not going back to jail, do you hear me? No way in Hell. I’ll die before that happens. Who told you where the bodies were? Was it Harvey? Give me names! Names, Goddammit!”\n",
            "New Revlon Concealer Covers Up Blemishes, All The Bodies\n",
            "Published Friday, March 7th, 2014\n"
          ]
        }
      ]
    }
  ]
}