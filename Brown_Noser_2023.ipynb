{
  "nbformat": 4,
  "nbformat_minor": 0,
  "metadata": {
    "colab": {
      "provenance": [],
      "include_colab_link": true
    },
    "kernelspec": {
      "name": "python3",
      "display_name": "Python 3"
    },
    "language_info": {
      "name": "python"
    }
  },
  "cells": [
    {
      "cell_type": "markdown",
      "metadata": {
        "id": "view-in-github",
        "colab_type": "text"
      },
      "source": [
        "<a href=\"https://colab.research.google.com/github/rbelay1/Final-Project/blob/main/Brown_Noser_2023.ipynb\" target=\"_parent\"><img src=\"https://colab.research.google.com/assets/colab-badge.svg\" alt=\"Open In Colab\"/></a>"
      ]
    },
    {
      "cell_type": "code",
      "source": [
        "pip install trafilatura"
      ],
      "metadata": {
        "colab": {
          "base_uri": "https://localhost:8080/"
        },
        "id": "B2wkzY4Butrm",
        "outputId": "faa11a01-e754-43cd-aa45-a2246f034380"
      },
      "execution_count": null,
      "outputs": [
        {
          "output_type": "stream",
          "name": "stdout",
          "text": [
            "Looking in indexes: https://pypi.org/simple, https://us-python.pkg.dev/colab-wheels/public/simple/\n",
            "Collecting trafilatura\n",
            "  Downloading trafilatura-1.5.0-py3-none-any.whl (1.0 MB)\n",
            "\u001b[2K     \u001b[90m━━━━━━━━━━━━━━━━━━━━━━━━━━━━━━━━━━━━━━━━\u001b[0m \u001b[32m1.0/1.0 MB\u001b[0m \u001b[31m15.2 MB/s\u001b[0m eta \u001b[36m0:00:00\u001b[0m\n",
            "\u001b[?25hCollecting justext>=3.0.0\n",
            "  Downloading jusText-3.0.0-py2.py3-none-any.whl (837 kB)\n",
            "\u001b[2K     \u001b[90m━━━━━━━━━━━━━━━━━━━━━━━━━━━━━━━━━━━━━━\u001b[0m \u001b[32m837.8/837.8 kB\u001b[0m \u001b[31m39.6 MB/s\u001b[0m eta \u001b[36m0:00:00\u001b[0m\n",
            "\u001b[?25hCollecting charset-normalizer>=3.1.0\n",
            "  Downloading charset_normalizer-3.1.0-cp39-cp39-manylinux_2_17_x86_64.manylinux2014_x86_64.whl (199 kB)\n",
            "\u001b[2K     \u001b[90m━━━━━━━━━━━━━━━━━━━━━━━━━━━━━━━━━━━━━━\u001b[0m \u001b[32m199.2/199.2 kB\u001b[0m \u001b[31m11.0 MB/s\u001b[0m eta \u001b[36m0:00:00\u001b[0m\n",
            "\u001b[?25hCollecting courlan>=0.9.0\n",
            "  Downloading courlan-0.9.1-py3-none-any.whl (40 kB)\n",
            "\u001b[2K     \u001b[90m━━━━━━━━━━━━━━━━━━━━━━━━━━━━━━━━━━━━━━━━\u001b[0m \u001b[32m40.7/40.7 kB\u001b[0m \u001b[31m3.1 MB/s\u001b[0m eta \u001b[36m0:00:00\u001b[0m\n",
            "\u001b[?25hCollecting htmldate>=1.4.2\n",
            "  Downloading htmldate-1.4.2-py3-none-any.whl (33 kB)\n",
            "Requirement already satisfied: certifi in /usr/local/lib/python3.9/dist-packages (from trafilatura) (2022.12.7)\n",
            "Requirement already satisfied: urllib3<2,>=1.26 in /usr/local/lib/python3.9/dist-packages (from trafilatura) (1.26.15)\n",
            "Requirement already satisfied: lxml>=4.9.2 in /usr/local/lib/python3.9/dist-packages (from trafilatura) (4.9.2)\n",
            "Requirement already satisfied: langcodes>=3.3.0 in /usr/local/lib/python3.9/dist-packages (from courlan>=0.9.0->trafilatura) (3.3.0)\n",
            "Collecting tld>=0.13\n",
            "  Downloading tld-0.13-py2.py3-none-any.whl (263 kB)\n",
            "\u001b[2K     \u001b[90m━━━━━━━━━━━━━━━━━━━━━━━━━━━━━━━━━━━━━━━\u001b[0m \u001b[32m263.8/263.8 kB\u001b[0m \u001b[31m9.3 MB/s\u001b[0m eta \u001b[36m0:00:00\u001b[0m\n",
            "\u001b[?25hCollecting dateparser>=1.1.2\n",
            "  Downloading dateparser-1.1.8-py2.py3-none-any.whl (293 kB)\n",
            "\u001b[2K     \u001b[90m━━━━━━━━━━━━━━━━━━━━━━━━━━━━━━━━━━━━━━\u001b[0m \u001b[32m293.8/293.8 kB\u001b[0m \u001b[31m21.0 MB/s\u001b[0m eta \u001b[36m0:00:00\u001b[0m\n",
            "\u001b[?25hRequirement already satisfied: python-dateutil>=2.8.2 in /usr/local/lib/python3.9/dist-packages (from htmldate>=1.4.2->trafilatura) (2.8.2)\n",
            "Requirement already satisfied: regex!=2019.02.19,!=2021.8.27 in /usr/local/lib/python3.9/dist-packages (from dateparser>=1.1.2->htmldate>=1.4.2->trafilatura) (2022.10.31)\n",
            "Requirement already satisfied: pytz in /usr/local/lib/python3.9/dist-packages (from dateparser>=1.1.2->htmldate>=1.4.2->trafilatura) (2022.7.1)\n",
            "Requirement already satisfied: tzlocal in /usr/local/lib/python3.9/dist-packages (from dateparser>=1.1.2->htmldate>=1.4.2->trafilatura) (4.3)\n",
            "Requirement already satisfied: six>=1.5 in /usr/local/lib/python3.9/dist-packages (from python-dateutil>=2.8.2->htmldate>=1.4.2->trafilatura) (1.16.0)\n",
            "Requirement already satisfied: pytz-deprecation-shim in /usr/local/lib/python3.9/dist-packages (from tzlocal->dateparser>=1.1.2->htmldate>=1.4.2->trafilatura) (0.1.0.post0)\n",
            "Requirement already satisfied: tzdata in /usr/local/lib/python3.9/dist-packages (from pytz-deprecation-shim->tzlocal->dateparser>=1.1.2->htmldate>=1.4.2->trafilatura) (2023.3)\n",
            "Installing collected packages: tld, justext, charset-normalizer, courlan, dateparser, htmldate, trafilatura\n",
            "  Attempting uninstall: charset-normalizer\n",
            "    Found existing installation: charset-normalizer 2.0.12\n",
            "    Uninstalling charset-normalizer-2.0.12:\n",
            "      Successfully uninstalled charset-normalizer-2.0.12\n",
            "\u001b[31mERROR: pip's dependency resolver does not currently take into account all the packages that are installed. This behaviour is the source of the following dependency conflicts.\n",
            "requests 2.27.1 requires charset-normalizer~=2.0.0; python_version >= \"3\", but you have charset-normalizer 3.1.0 which is incompatible.\u001b[0m\u001b[31m\n",
            "\u001b[0mSuccessfully installed charset-normalizer-3.1.0 courlan-0.9.1 dateparser-1.1.8 htmldate-1.4.2 justext-3.0.0 tld-0.13 trafilatura-1.5.0\n"
          ]
        }
      ]
    },
    {
      "cell_type": "code",
      "source": [
        "import requests\n",
        "from bs4 import BeautifulSoup\n",
        " \n",
        " \n",
        "url = 'http://thenoser.com/issue/123'\n",
        "reqs = requests.get(url)\n",
        "soup = BeautifulSoup(reqs.text, 'html.parser')\n",
        " \n",
        "urls = []\n",
        "for link in soup.find_all('a'):\n",
        "    print(link.get('href'))"
      ],
      "metadata": {
        "colab": {
          "base_uri": "https://localhost:8080/"
        },
        "id": "lhjA-Y2TDS65",
        "outputId": "c6a50155-9c4d-4711-d85e-3a0b108043b9"
      },
      "execution_count": null,
      "outputs": [
        {
          "output_type": "stream",
          "name": "stdout",
          "text": [
            "/section/Campus-Life\n",
            "/section/Off-Campus\n",
            "/section/Opinion\n",
            "/section/Politics\n",
            "/section/Science-and-Technology\n",
            "/section/Sports\n",
            "/section/Cinema-Corner\n",
            "/section/Noser-For-Kids\n",
            "/section/Arts--Culture\n",
            "http://thenoser.com\n",
            "/article/Brown-Admin-Thrilled-To-Support-Student-Activism-E\n",
            "/article/Brown-Admin-Thrilled-To-Support-Student-Activism-E\n",
            "/article/Brown-Admin-Thrilled-To-Support-Student-Activism-E\n",
            "/article/Pet-Rock-Put-Down\n",
            "/article/Pet-Rock-Put-Down\n",
            "/article/Bandana-Girl-Wistful-Again\n",
            "/article/Bandana-Girl-Wistful-Again\n",
            "/article/Village-Celebrates-Tall-Man\n",
            "/article/Village-Celebrates-Tall-Man\n",
            "/article/Air-Fryer-Clearly-Not-Up-To-Task-Of-Cooking-Coq-Au\n",
            "/article/Air-Fryer-Clearly-Not-Up-To-Task-Of-Cooking-Coq-Au\n",
            "/article/Close-But-No-Cigar-Says-Man-Just-Given-Cigarette\n",
            "/article/Close-But-No-Cigar-Says-Man-Just-Given-Cigarette\n",
            "/section/Off-Campus/123\n",
            "/article/OH-MAN-I-THINK-IM-ALLERGIC-TO-BEES-by-Dana-Herrnst\n",
            "/article/Im-Mr-Scary-and-Im-Going-to-Chase-You\n",
            "/section/Opinion/123\n",
            "/article/Coolest-Professor-Announces-Plans-To-Captivate-Stu\n",
            "/article/Coolest-Professor-Announces-Plans-To-Captivate-Stu\n",
            "/article/New-Provost-Makes-Top-Priority-Figuring-Out-What-A\n",
            "/article/New-Provost-Makes-Top-Priority-Figuring-Out-What-A\n",
            "/article/CS-TA-Union-Busted-With-Promise-of-Premium-Discord\n",
            "/article/CS-TA-Union-Busted-With-Promise-of-Premium-Discord\n",
            "/article/Report-Every-Student-In-New-York-Literature-Class-\n",
            "/article/Astrophysics-Concentrator-Maybe-Sees-Big-Dipper\n",
            "/section/Campus-Life/123\n",
            "/article/Musical-Set-In-1950s-Features-Anachronistic-Lack-O\n",
            "/article/17-Year-Olds-Top-Gun-Inspired-Mustache-Looking-Mor\n",
            "/article/17-Year-Olds-Top-Gun-Inspired-Mustache-Looking-Mor\n",
            "/article/Movie-Would-Be-Better-If-Dog-Talked\n",
            "/article/Movie-Would-Be-Better-If-Dog-Talked\n",
            "/section/Arts--Culture/123\n",
            "#\n",
            "http://collegequill.com\n"
          ]
        }
      ]
    },
    {
      "cell_type": "code",
      "source": [
        "from trafilatura import fetch_url\n",
        "\n",
        "document = fetch_url('http://thenoser.com/article/Brown-Admin-Thrilled-To-Support-Student-Activism-E')"
      ],
      "metadata": {
        "id": "VYz3f9Rlv4cl"
      },
      "execution_count": null,
      "outputs": []
    },
    {
      "cell_type": "code",
      "source": [
        "from trafilatura import extract\n",
        "\n",
        "text = extract(document)\n",
        "print(text)"
      ],
      "metadata": {
        "colab": {
          "base_uri": "https://localhost:8080/"
        },
        "id": "HGTdiImsv9CE",
        "outputId": "bdcdaf83-e47f-4b2a-eab9-54dd55fe8c89"
      },
      "execution_count": null,
      "outputs": [
        {
          "output_type": "stream",
          "name": "stdout",
          "text": [
            "Brown University admin recently announced their unequivocal support of student activism, except for the kind that makes them look bad.\n",
            "“We are thrilled that our student body is so passionate about such a wide array of issues, and we’re here to provide a space for them to fight for their future, as long as it doesn’t make us look like the money-grubbing institution that we are,” an email from administration stated. “One of Brown’s most unique qualities is our engaged, activist student body, and we’re extremely proud to back all of their efforts, unless their efforts have anything to do with us or bad things we do.”\n",
            "“Truly, our student activists can find in us an empathetic, undeniable ally, just not if they’re protesting anything we’ve done or said, or alluded to doing or saying, or that we’ve briefly thought about doing or saying. Or, frankly, anything we haven’t yet conceived of doing or saying, but that we might do or say in the future. We’re emphatic supporters of student activism, unless it’s the kind that goes against any of those things.”\n",
            "“Every day, there are new posters advertising upcoming student protests,” the email continued. “It’s inspiring to see the amount of young people on campus who are taking initiative not just to speak, but also to act. We want to assert our indisputable support for the individuals and organizations seeking change, except if their efforts make us look like we should have do the changing.”\n",
            "At press time, UCS was open to all feedback except if it’s mean.\n"
          ]
        }
      ]
    },
    {
      "cell_type": "code",
      "source": [
        "from trafilatura import fetch_url\n",
        "\n",
        "document = fetch_url('http://thenoser.com//article/Pet-Rock-Put-Down')"
      ],
      "metadata": {
        "id": "IfbNLJ6CwgDO"
      },
      "execution_count": null,
      "outputs": []
    },
    {
      "cell_type": "code",
      "source": [
        "from trafilatura import extract\n",
        "\n",
        "text = extract(document)\n",
        "print(text)"
      ],
      "metadata": {
        "colab": {
          "base_uri": "https://localhost:8080/"
        },
        "id": "O8RUnpLEDYgR",
        "outputId": "b85555e6-6693-43a2-da2c-cd93d806d4cb"
      },
      "execution_count": null,
      "outputs": [
        {
          "output_type": "stream",
          "name": "stdout",
          "text": [
            "New research suggests that local farmer, Pat Gershon, still isn’t really sure how big an acre is.\n",
            "“My family’s been farming on this Rhode Island land for five generations, and we still use the same measurements,” Gershon said, surveying his fields without any real comprehension of the units of distance which comprise them.\n",
            "Reports have indicated that Greg’s intervention really got undercut by whoever gave it a princess theme.\n",
            "“We all came ready to like…cry,” said Greg’s friend Dave, referring to what was supposed to be a heartfelt conversation about Greg’s addiction.\n",
            "According to area curator Sloane Pendergrath, museums are still under the impression that standing for a long time is fun.\n",
            "“When I design an exhibit, I know visitors prefer to bask in the beauty of the art while their knees lock and the soles of their feet cry out in pain,” noted Pendergrath, meandering through a vast gallery with a single folding chair as the only source of seating.\n",
            "Addressing the nation from a televised broadcast, the CDC advised to stay away from Grandpa when he’s coughing like that. “We are working hard to identify his illness, but he’s kinda at that age where it could be anything,” said a CDC spokesperson, noting that Grandpa’s smoker lungs make just about anything sound like a death rattle.\n",
            "On Saturday evening in Boston Logan Airport, area dad Jim Ferguson reported that he was just gonna watch the suitcases while everyone grabs food.\n",
            "“Go on ahead you guys. I’ll stay here with the bags,” said Ferguson, distributing backpacks and jackets to claim all the chairs around him.\n",
            "Listen here. Listen here! Look, I wanna hear all of your suggestions to make this town better. Okay? I really do. But you gotta remember that I’m the damn mayor, not you, and what I say goes.\n",
            "I’m glad you all feel comfortable coming to these town hall meetings—after all, democracy is made of town hall meetings—and I’m glad you guys aren’t afraid to say what you want and how you feel.\n",
            "Hey, I’ve never asked you for your opinion once ever in my life, but I desperately need it now. I’m having the toughest time deciding between these three internship opportunities for this summer and I feel like you would be able to help me out. The first one’s in New York and they cover housing and food and also it’s super prestigious but it’s in New York and New York is so big and I’ve never been there! The second one is in my hometown, which is great because then I won’t have to pay for housing—and they are giving me a 10k stipend.\n"
          ]
        }
      ]
    },
    {
      "cell_type": "code",
      "source": [
        "from trafilatura import fetch_url\n",
        "\n",
        "document = fetch_url('http://thenoser.com//article/Bandana-Girl-Wistful-Again')"
      ],
      "metadata": {
        "id": "2dgBhCI0DqFi"
      },
      "execution_count": null,
      "outputs": []
    },
    {
      "cell_type": "code",
      "source": [
        "from trafilatura import extract\n",
        "\n",
        "text = extract(document)\n",
        "print(text)"
      ],
      "metadata": {
        "colab": {
          "base_uri": "https://localhost:8080/"
        },
        "id": "03E3ysjGDqbP",
        "outputId": "0f781238-5bd1-4a87-aae5-b5817cab4d7a"
      },
      "execution_count": null,
      "outputs": [
        {
          "output_type": "stream",
          "name": "stdout",
          "text": [
            "New research suggests that local farmer, Pat Gershon, still isn’t really sure how big an acre is.\n",
            "“My family’s been farming on this Rhode Island land for five generations, and we still use the same measurements,” Gershon said, surveying his fields without any real comprehension of the units of distance which comprise them.\n",
            "Reports have indicated that Greg’s intervention really got undercut by whoever gave it a princess theme.\n",
            "“We all came ready to like…cry,” said Greg’s friend Dave, referring to what was supposed to be a heartfelt conversation about Greg’s addiction.\n",
            "According to area curator Sloane Pendergrath, museums are still under the impression that standing for a long time is fun.\n",
            "“When I design an exhibit, I know visitors prefer to bask in the beauty of the art while their knees lock and the soles of their feet cry out in pain,” noted Pendergrath, meandering through a vast gallery with a single folding chair as the only source of seating.\n",
            "Addressing the nation from a televised broadcast, the CDC advised to stay away from Grandpa when he’s coughing like that. “We are working hard to identify his illness, but he’s kinda at that age where it could be anything,” said a CDC spokesperson, noting that Grandpa’s smoker lungs make just about anything sound like a death rattle.\n",
            "On Saturday evening in Boston Logan Airport, area dad Jim Ferguson reported that he was just gonna watch the suitcases while everyone grabs food.\n",
            "“Go on ahead you guys. I’ll stay here with the bags,” said Ferguson, distributing backpacks and jackets to claim all the chairs around him.\n",
            "Listen here. Listen here! Look, I wanna hear all of your suggestions to make this town better. Okay? I really do. But you gotta remember that I’m the damn mayor, not you, and what I say goes.\n",
            "I’m glad you all feel comfortable coming to these town hall meetings—after all, democracy is made of town hall meetings—and I’m glad you guys aren’t afraid to say what you want and how you feel.\n",
            "Hey, I’ve never asked you for your opinion once ever in my life, but I desperately need it now. I’m having the toughest time deciding between these three internship opportunities for this summer and I feel like you would be able to help me out. The first one’s in New York and they cover housing and food and also it’s super prestigious but it’s in New York and New York is so big and I’ve never been there! The second one is in my hometown, which is great because then I won’t have to pay for housing—and they are giving me a 10k stipend.\n"
          ]
        }
      ]
    },
    {
      "cell_type": "code",
      "source": [
        "from trafilatura import fetch_url\n",
        "\n",
        "document = fetch_url('http://thenoser.com/article/Bandana-Girl-Wistful-Again')\n"
      ],
      "metadata": {
        "id": "68VaGnnTD5Bm"
      },
      "execution_count": null,
      "outputs": []
    },
    {
      "cell_type": "code",
      "source": [
        "from trafilatura import extract\n",
        "\n",
        "text = extract(document)\n",
        "print(text)"
      ],
      "metadata": {
        "colab": {
          "base_uri": "https://localhost:8080/"
        },
        "id": "I9WwXSIPD5fF",
        "outputId": "a3a3eb57-fe48-4ad9-9889-eba6b39cf670"
      },
      "execution_count": null,
      "outputs": [
        {
          "output_type": "stream",
          "name": "stdout",
          "text": [
            "Sources report that local bandana girl Olivia Hughes is being wistful again.\n",
            "“It just seems like the world is at a stand still, but maybe that’s okay,” said Hughes, with her hair tied back in an earth toned bandana. “Another year, another beautiful moment in time lost forever.”\n",
            "“It’s interesting to think about life as a cycle when fruit flies live such a short time,” Hughes said while fastening a rainbow hand-crocheted bandana to her head. “I guess we live until our purpose on this Earth has been accomplished.”\n",
            "At press time, Hughes’s guitar-playing roommate was acting contemplative again.\n"
          ]
        }
      ]
    },
    {
      "cell_type": "code",
      "source": [
        "from trafilatura import fetch_url\n",
        "\n",
        "document = fetch_url('http://thenoser.com/article/Village-Celebrates-Tall-Man')\n"
      ],
      "metadata": {
        "id": "BHoxC2tREGNv"
      },
      "execution_count": null,
      "outputs": []
    },
    {
      "cell_type": "code",
      "source": [
        "from trafilatura import extract\n",
        "\n",
        "text = extract(document)\n",
        "print(text)"
      ],
      "metadata": {
        "colab": {
          "base_uri": "https://localhost:8080/"
        },
        "id": "rnmy2wmsEF5w",
        "outputId": "9d3ba975-953a-49a4-830c-e24b2937a987"
      },
      "execution_count": null,
      "outputs": [
        {
          "output_type": "stream",
          "name": "stdout",
          "text": [
            "According to reports from a nearby village, celebrations have begun for the arrival of a tall man. “We’d never seen anyone that tall,” said Mayor Mary Daboole. “He deserves the world, really. With a body like that, a parade is the least we could do. You don’t see height like that every day.” Daboole punctuated the celebration by handing him the keys to the village. “I wish I could give him my kidneys,” said Daboole. “He’s a goddamn hero. If it were up to me, I’d trade my mother for him. He could have every cent I earn for the next 20 years. I love him. Y’know, come to think of it, I never got his name.” At press time, the tall man was elected as the new mayor.\n",
            "Village Celebrates Tall Man\n",
            "Published Saturday, February 18th, 2023\n"
          ]
        }
      ]
    },
    {
      "cell_type": "code",
      "source": [
        "from trafilatura import fetch_url\n",
        "\n",
        "document = fetch_url('http://thenoser.com/article/Air-Fryer-Clearly-Not-Up-To-Task-Of-Cooking-Coq-Au')"
      ],
      "metadata": {
        "id": "HAQ2_sdnEWhE"
      },
      "execution_count": null,
      "outputs": []
    },
    {
      "cell_type": "code",
      "source": [
        "from trafilatura import extract\n",
        "\n",
        "text = extract(document)\n",
        "print(text)"
      ],
      "metadata": {
        "colab": {
          "base_uri": "https://localhost:8080/"
        },
        "id": "jrHcJJ7SEWUZ",
        "outputId": "5d459611-3c1f-49e7-a3ec-3e375d987cd9"
      },
      "execution_count": null,
      "outputs": [
        {
          "output_type": "stream",
          "name": "stdout",
          "text": [
            "Reports from local mother Cecily Latham suggest her new air fryer is clearly not up to the task of cooking a coq au vin for her family of four.\n",
            "“I thought by using my air fryer to cook meals for my family, I could reduce my time spent in the kitchen,” Latham explained, desperately trying to force four servings worth of chicken into the air fryer’s flimsy, six-inch plastic basket. “Instead, I’ve spent countless hours tinkering with the air fryer to try to get it to prepare a meal that would, in retrospect, be much easier to cook in a conventional oven.”\n",
            "“It’s my great-grandma’s recipe, and it’s been passed down through my family for generations,” Latham added, not acknowledging that coq au vin requires a culinary acumen that cannot be delegated to a simple kitchen appliance like an air fryer. “But for some reason I struggled to get the air fryer tray to slide back in with the five-pound raw chicken carcass in it.\"\n",
            "“I’ve used my air fryer to make tater tots and Brussels sprouts, so I figured I could start using it to make more gourmet meals,” Latham continued, as the air fryer began beeping violently and smoking. “But I guess coq au vin is an entirely different kind of recipe, with a variety of ingredients and a constant attendance to things like temperature and moisture.”\n",
            "At press time, Latham’s toaster oven was unsurprisingly incapable of baking an entire loaf of ciabatta.\n"
          ]
        }
      ]
    },
    {
      "cell_type": "code",
      "source": [
        "from trafilatura import fetch_url\n",
        "\n",
        "document = fetch_url('http://thenoser.com/article/Close-But-No-Cigar-Says-Man-Just-Given-Cigarette')"
      ],
      "metadata": {
        "id": "SudrIfUuUcGe"
      },
      "execution_count": null,
      "outputs": []
    },
    {
      "cell_type": "code",
      "source": [
        "from trafilatura import extract\n",
        "\n",
        "text = extract(document)\n",
        "print(text)"
      ],
      "metadata": {
        "colab": {
          "base_uri": "https://localhost:8080/"
        },
        "id": "_xb7sX5zUbxa",
        "outputId": "b522c4de-dc41-409a-ff1d-12c32290713a"
      },
      "execution_count": null,
      "outputs": [
        {
          "output_type": "stream",
          "name": "stdout",
          "text": [
            "Sources report that the statement “close, but no cigar,” was uttered by a man who was just given a cigarette.\n",
            "“I understand that some individuals might find them to be similar, or even the same,” said Harold Browinger, thinking about how if this was given to him in celebration of a baby’s birth, the parents must be celebrating either the birth of a rat or an extremely premature human. “However, they are quite different.”\n",
            "“You might think they are the same because they are both a means of transporting smoke in and out of your airways,” continued Browinger, thinking about how actually anyone could confuse the two because a cigar is at least four times as big as a cigarette and twice as heavy, not to mention the difference in color. “But one promises lung cancer in a much more sophisticated way, and I’d rather that, don’t you think?”\n",
            "At press time, a man was seen leading a horse to water but failing to get it to drink.\n"
          ]
        }
      ]
    }
  ]
}