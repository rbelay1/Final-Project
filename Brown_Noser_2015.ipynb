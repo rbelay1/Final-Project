{
  "nbformat": 4,
  "nbformat_minor": 0,
  "metadata": {
    "colab": {
      "provenance": [],
      "include_colab_link": true
    },
    "kernelspec": {
      "name": "python3",
      "display_name": "Python 3"
    },
    "language_info": {
      "name": "python"
    }
  },
  "cells": [
    {
      "cell_type": "markdown",
      "metadata": {
        "id": "view-in-github",
        "colab_type": "text"
      },
      "source": [
        "<a href=\"https://colab.research.google.com/github/rbelay1/Final-Project/blob/main/Brown_Noser_2015.ipynb\" target=\"_parent\"><img src=\"https://colab.research.google.com/assets/colab-badge.svg\" alt=\"Open In Colab\"/></a>"
      ]
    },
    {
      "cell_type": "code",
      "source": [
        "pip install trafilatura"
      ],
      "metadata": {
        "colab": {
          "base_uri": "https://localhost:8080/"
        },
        "id": "B2wkzY4Butrm",
        "outputId": "4cc5f557-ed09-4e94-b540-202eeadf8736"
      },
      "execution_count": null,
      "outputs": [
        {
          "output_type": "stream",
          "name": "stdout",
          "text": [
            "Looking in indexes: https://pypi.org/simple, https://us-python.pkg.dev/colab-wheels/public/simple/\n",
            "Collecting trafilatura\n",
            "  Downloading trafilatura-1.5.0-py3-none-any.whl (1.0 MB)\n",
            "\u001b[2K     \u001b[90m━━━━━━━━━━━━━━━━━━━━━━━━━━━━━━━━━━━━━━━━\u001b[0m \u001b[32m1.0/1.0 MB\u001b[0m \u001b[31m9.9 MB/s\u001b[0m eta \u001b[36m0:00:00\u001b[0m\n",
            "\u001b[?25hCollecting justext>=3.0.0\n",
            "  Downloading jusText-3.0.0-py2.py3-none-any.whl (837 kB)\n",
            "\u001b[2K     \u001b[90m━━━━━━━━━━━━━━━━━━━━━━━━━━━━━━━━━━━━━━\u001b[0m \u001b[32m837.8/837.8 kB\u001b[0m \u001b[31m32.0 MB/s\u001b[0m eta \u001b[36m0:00:00\u001b[0m\n",
            "\u001b[?25hCollecting charset-normalizer>=3.1.0\n",
            "  Downloading charset_normalizer-3.1.0-cp39-cp39-manylinux_2_17_x86_64.manylinux2014_x86_64.whl (199 kB)\n",
            "\u001b[2K     \u001b[90m━━━━━━━━━━━━━━━━━━━━━━━━━━━━━━━━━━━━━━━\u001b[0m \u001b[32m199.2/199.2 kB\u001b[0m \u001b[31m6.9 MB/s\u001b[0m eta \u001b[36m0:00:00\u001b[0m\n",
            "\u001b[?25hRequirement already satisfied: certifi in /usr/local/lib/python3.9/dist-packages (from trafilatura) (2022.12.7)\n",
            "Collecting htmldate>=1.4.2\n",
            "  Downloading htmldate-1.4.2-py3-none-any.whl (33 kB)\n",
            "Requirement already satisfied: urllib3<2,>=1.26 in /usr/local/lib/python3.9/dist-packages (from trafilatura) (1.26.15)\n",
            "Requirement already satisfied: lxml>=4.9.2 in /usr/local/lib/python3.9/dist-packages (from trafilatura) (4.9.2)\n",
            "Collecting courlan>=0.9.0\n",
            "  Downloading courlan-0.9.1-py3-none-any.whl (40 kB)\n",
            "\u001b[2K     \u001b[90m━━━━━━━━━━━━━━━━━━━━━━━━━━━━━━━━━━━━━━━\u001b[0m \u001b[32m40.7/40.7 kB\u001b[0m \u001b[31m350.4 kB/s\u001b[0m eta \u001b[36m0:00:00\u001b[0m\n",
            "\u001b[?25hCollecting tld>=0.13\n",
            "  Downloading tld-0.13-py2.py3-none-any.whl (263 kB)\n",
            "\u001b[2K     \u001b[90m━━━━━━━━━━━━━━━━━━━━━━━━━━━━━━━━━━━━━━━\u001b[0m \u001b[32m263.8/263.8 kB\u001b[0m \u001b[31m6.0 MB/s\u001b[0m eta \u001b[36m0:00:00\u001b[0m\n",
            "\u001b[?25hRequirement already satisfied: langcodes>=3.3.0 in /usr/local/lib/python3.9/dist-packages (from courlan>=0.9.0->trafilatura) (3.3.0)\n",
            "Requirement already satisfied: python-dateutil>=2.8.2 in /usr/local/lib/python3.9/dist-packages (from htmldate>=1.4.2->trafilatura) (2.8.2)\n",
            "Collecting dateparser>=1.1.2\n",
            "  Downloading dateparser-1.1.8-py2.py3-none-any.whl (293 kB)\n",
            "\u001b[2K     \u001b[90m━━━━━━━━━━━━━━━━━━━━━━━━━━━━━━━━━━━━━━━\u001b[0m \u001b[32m293.8/293.8 kB\u001b[0m \u001b[31m7.9 MB/s\u001b[0m eta \u001b[36m0:00:00\u001b[0m\n",
            "\u001b[?25hRequirement already satisfied: regex!=2019.02.19,!=2021.8.27 in /usr/local/lib/python3.9/dist-packages (from dateparser>=1.1.2->htmldate>=1.4.2->trafilatura) (2022.10.31)\n",
            "Requirement already satisfied: pytz in /usr/local/lib/python3.9/dist-packages (from dateparser>=1.1.2->htmldate>=1.4.2->trafilatura) (2022.7.1)\n",
            "Requirement already satisfied: tzlocal in /usr/local/lib/python3.9/dist-packages (from dateparser>=1.1.2->htmldate>=1.4.2->trafilatura) (4.3)\n",
            "Requirement already satisfied: six>=1.5 in /usr/local/lib/python3.9/dist-packages (from python-dateutil>=2.8.2->htmldate>=1.4.2->trafilatura) (1.16.0)\n",
            "Requirement already satisfied: pytz-deprecation-shim in /usr/local/lib/python3.9/dist-packages (from tzlocal->dateparser>=1.1.2->htmldate>=1.4.2->trafilatura) (0.1.0.post0)\n",
            "Requirement already satisfied: tzdata in /usr/local/lib/python3.9/dist-packages (from pytz-deprecation-shim->tzlocal->dateparser>=1.1.2->htmldate>=1.4.2->trafilatura) (2023.3)\n",
            "Installing collected packages: tld, justext, charset-normalizer, courlan, dateparser, htmldate, trafilatura\n",
            "  Attempting uninstall: charset-normalizer\n",
            "    Found existing installation: charset-normalizer 2.0.12\n",
            "    Uninstalling charset-normalizer-2.0.12:\n",
            "      Successfully uninstalled charset-normalizer-2.0.12\n",
            "\u001b[31mERROR: pip's dependency resolver does not currently take into account all the packages that are installed. This behaviour is the source of the following dependency conflicts.\n",
            "requests 2.27.1 requires charset-normalizer~=2.0.0; python_version >= \"3\", but you have charset-normalizer 3.1.0 which is incompatible.\u001b[0m\u001b[31m\n",
            "\u001b[0mSuccessfully installed charset-normalizer-3.1.0 courlan-0.9.1 dateparser-1.1.8 htmldate-1.4.2 justext-3.0.0 tld-0.13 trafilatura-1.5.0\n"
          ]
        }
      ]
    },
    {
      "cell_type": "code",
      "source": [
        "import requests\n",
        "from bs4 import BeautifulSoup\n",
        " \n",
        " \n",
        "url = 'http://thenoser.com/issue/78'\n",
        "reqs = requests.get(url)\n",
        "soup = BeautifulSoup(reqs.text, 'html.parser')\n",
        " \n",
        "urls = []\n",
        "for link in soup.find_all('a'):\n",
        "    print(link.get('href'))"
      ],
      "metadata": {
        "colab": {
          "base_uri": "https://localhost:8080/"
        },
        "id": "lhjA-Y2TDS65",
        "outputId": "5464e935-4516-40f1-ba23-901cf4971f75"
      },
      "execution_count": null,
      "outputs": [
        {
          "output_type": "stream",
          "name": "stdout",
          "text": [
            "/section/Campus-Life\n",
            "/section/Off-Campus\n",
            "/section/Opinion\n",
            "/section/Politics\n",
            "/section/Science-and-Technology\n",
            "/section/Sports\n",
            "/section/Cinema-Corner\n",
            "/section/Noser-For-Kids\n",
            "/section/Arts--Culture\n",
            "http://thenoser.com\n",
            "/article/Lawyer-Detective-Doctor-Senator-Doesnt-Know-What-H\n",
            "/article/Lawyer-Detective-Doctor-Senator-Doesnt-Know-What-H\n",
            "/article/Lawyer-Detective-Doctor-Senator-Doesnt-Know-What-H\n",
            "/article/Despairing-Kid-Realizes-Bath-Is-Imminent\n",
            "/article/Despairing-Kid-Realizes-Bath-Is-Imminent\n",
            "/article/Archives-Reveal-Hitlers-Bodyguards-Must-Have-Been-\n",
            "/article/Area-Man-No-Longer-Pretending-Hes-Not-Pretending-T\n",
            "/article/Area-Man-No-Longer-Pretending-Hes-Not-Pretending-T\n",
            "/article/CIA-Denounces-Torture-Unless-They-Want-To-Know-Som\n",
            "/article/CIA-Denounces-Torture-Unless-They-Want-To-Know-Som\n",
            "/article/Copycat-Criminal-Re-Kills-Same-Victim-\n",
            "/article/Copycat-Criminal-Re-Kills-Same-Victim-\n",
            "/section/Off-Campus/78\n",
            "/article/Theres-Only-One-American-Sniper-And-Its-Kobe-Bryan\n",
            "/article/Guns-Dont-Kill-People-As-Death-Is-Not-But-An-Illus\n",
            "/section/Opinion/78\n",
            "/article/Man-Lies-About-Being-God-On-Resume\n",
            "/article/Man-Lies-About-Being-God-On-Resume\n",
            "/article/Frustrated-Programmer-Cant-Get-Beep-Boop-Machine-T\n",
            "/article/Frustrated-Programmer-Cant-Get-Beep-Boop-Machine-T\n",
            "/article/Kraft-CEO-Promises-Oscar-Mayer-Hot-Dogs-Made-From-\n",
            "/article/Kraft-CEO-Promises-Oscar-Mayer-Hot-Dogs-Made-From-\n",
            "/article/Report-Stock-Market-Ticked-A-Lot-Today\n",
            "/article/Report-Stock-Market-Ticked-A-Lot-Today\n",
            "/article/A-Cappella-Group-Announces-Intentions-To-Do-Some-S\n",
            "/section/Campus-Life/78\n",
            "/article/SpaceX-To-Become-First-Corporation-To-Kill-Rich-Pe\n",
            "/article/NASA-Lands-Earth-Thing-On-Space-Thing\n",
            "/article/Poll-Shows-Large-Gap-Between-What-Public-Scientist\n",
            "/section/Science-and-Technology/78\n",
            "#\n",
            "http://collegequill.com\n"
          ]
        }
      ]
    },
    {
      "cell_type": "code",
      "source": [
        "from trafilatura import fetch_url\n",
        "\n",
        "document = fetch_url('http://thenoser.com/article/Lawyer-Detective-Doctor-Senator-Doesnt-Know-What-H')"
      ],
      "metadata": {
        "id": "VYz3f9Rlv4cl"
      },
      "execution_count": null,
      "outputs": []
    },
    {
      "cell_type": "code",
      "source": [
        "from trafilatura import extract\n",
        "\n",
        "text = extract(document)\n",
        "print(text)"
      ],
      "metadata": {
        "colab": {
          "base_uri": "https://localhost:8080/"
        },
        "id": "HGTdiImsv9CE",
        "outputId": "5005a581-b153-41b4-e1bd-94153b4a8760"
      },
      "execution_count": null,
      "outputs": [
        {
          "output_type": "stream",
          "name": "stdout",
          "text": [
            "Detective John Samuels, M.D., Esq., (R-RI) reportedly has nothing to watch on television.\n",
            "“When I head home after a long stakeout after a long shift at the hospital after a long day getting votes together for my charter school bill after hours preparing for my upcoming trial, I just want to relax in front of the TV,” reported Samuels, who also has to make time to raise his angsty 14-year-old daughter Megan and rambunctious 4-year-old son Tommy on his own. “But it all just reminds me of work.”\n",
            "Samuels has reportedly tried everything. “My three idiosyncratic roommates like to watch sports, but I can’t ever watch with them because I have to play in all the games,” said Samuels, who is a quarterback for the Cleveland Browns and the starting point guard for the Kings, Lakers and Clippers. “And it doesn’t help that so many of the news stories are about me.”\n",
            "Samuels, who has been described by friends and rivals alike as tough, uncompromising, conniving, a loose cannon, compassionate, a damn good surgeon, sarcastic, well-meaning, and fair, manages to put away criminals, resolve political crises, and save lives at roughly a rate of one per week. Despite his heavy workload, Samuels still finds time to watch some television at the end of the day. He just wishes there was more variety.\n",
            "Expressing interest in dating again, Samuels mentioned that he is planning to invite 10 or 12 random women into his house for a few months just to see what happens.\n"
          ]
        }
      ]
    },
    {
      "cell_type": "code",
      "source": [
        "from trafilatura import fetch_url\n",
        "\n",
        "document = fetch_url('http://thenoser.com/article/Community-Gathers-To-Vaguely-Remember-Victim')"
      ],
      "metadata": {
        "id": "IfbNLJ6CwgDO"
      },
      "execution_count": null,
      "outputs": []
    },
    {
      "cell_type": "code",
      "source": [
        "from trafilatura import extract\n",
        "\n",
        "text = extract(document)\n",
        "print(text)"
      ],
      "metadata": {
        "colab": {
          "base_uri": "https://localhost:8080/"
        },
        "id": "O8RUnpLEDYgR",
        "outputId": "e3f809f0-e740-409f-d61b-3852977f93cf"
      },
      "execution_count": null,
      "outputs": [
        {
          "output_type": "stream",
          "name": "stdout",
          "text": [
            "According to the account of grief-stricken residents, the town of Dalton, Ga. gathered together as a community on Sunday to vaguely remember Rachel Milliner, the teenage victim of last week’s hit-and-run car accident.\n",
            "“Rachel never, so far as I can recall, had a mean word to say to anybody,” recounted classmate Alex Johnston, who sat behind Rachel last year in Algebra—unless it was the Rachel that sat in front of him the year before in Geometry. “She will be missed. I think.”\n",
            "Friends and community members expressed feelings of sorrow at the loss of young life, heartache in the fact of this senseless killing, and frustration at not quite being able to remember what Rachel looked like. Some figured that Rachel was the girl who was always talking about horses. Others contended that Rachel was the girl whose family owned a speedboat. All, however, reported only being able to remember Rachel and her life as a sort of blur, as if seen in soft-focus or underwater.\n",
            "“The candlelight service was very tasteful,” Johnston said. “From what I can remember about her, I guess Rachel would have liked that.”\n",
            "The memorial featured a series of eulogies from familiar-enough town figures presumably close to the deceased, a series of family videos from her early childhood, and a picture slideshow set to Rachel’s favorite songs—all of which helped to place Rachel loosely within the social reality of the town, though not bring her to clear and distinct recall.\n",
            "“Rachel may be gone, but her memory lives on, however hazy and malformed,\" said Ashton Barkley, principal of the high school that Rachel attended, at least according to some people who had a vague memory of Rachel going there.\n",
            "A monument will be erected at the site of Milliner’s death in the next months, featuring a local sculptor’s rendering of that girl with the red hair who everyone is pretty sure might have been Rachel Milliner.\n"
          ]
        }
      ]
    },
    {
      "cell_type": "code",
      "source": [
        "from trafilatura import fetch_url\n",
        "\n",
        "document = fetch_url('http://thenoser.com/article/Despairing-Kid-Realizes-Bath-Is-Imminent')"
      ],
      "metadata": {
        "id": "2dgBhCI0DqFi"
      },
      "execution_count": null,
      "outputs": []
    },
    {
      "cell_type": "code",
      "source": [
        "from trafilatura import extract\n",
        "\n",
        "text = extract(document)\n",
        "print(text)"
      ],
      "metadata": {
        "colab": {
          "base_uri": "https://localhost:8080/"
        },
        "id": "03E3ysjGDqbP",
        "outputId": "0cec5adb-74c4-4c50-af58-4591ea253627"
      },
      "execution_count": null,
      "outputs": [
        {
          "output_type": "stream",
          "name": "stdout",
          "text": [
            "Inspecting the grass stains on his knees from when he played red rover, local kid Willy Peterson realized that he was incredibly dirty and a bath was imminent.\n",
            "Peterson has reported numerous signs of a forthcoming bath, including the chilling absence of his mom for the last 20 minutes and the faint smell of bubble bath. “My sister just got a bath. That means I’m next,” said Peterson as he picked at the dirt under his fingernails.\n",
            "Peterson added, “I really don’t like bathing.”\n",
            "“I’m so dirty,” said Peterson, turning his head toward the distant sound of a running faucet. “Mom knows for sure. It’s all over for me.”\n",
            "At press time, Peterson was wistfully lying his post-bath jammies out on his bed and bracing himself for the worst.\n"
          ]
        }
      ]
    },
    {
      "cell_type": "code",
      "source": [
        "from trafilatura import fetch_url\n",
        "\n",
        "document = fetch_url('http://thenoser.com/article/Archives-Reveal-Hitlers-Bodyguards-Must-Have-Been-')"
      ],
      "metadata": {
        "id": "68VaGnnTD5Bm"
      },
      "execution_count": null,
      "outputs": []
    },
    {
      "cell_type": "code",
      "source": [
        "from trafilatura import extract\n",
        "\n",
        "text = extract(document)\n",
        "print(text)"
      ],
      "metadata": {
        "colab": {
          "base_uri": "https://localhost:8080/"
        },
        "id": "I9WwXSIPD5fF",
        "outputId": "c9ee9176-3f19-4c0d-c443-926f88accc97"
      },
      "execution_count": null,
      "outputs": [
        {
          "output_type": "stream",
          "name": "stdout",
          "text": [
            "New analysis from archivists at the University of Virginia suggest that Hitler’s bodyguards must have been very skilled in their dispatching of assassins sent from the future to kill the then Chancellor of Germany.\n",
            "“Hitler lived long enough to kill himself,” reported lead researcher Jennifer Richardson. “That means none of the many assassins that surely came from the future to kill him were able to finish their job. That’s a good security team.”\n",
            "Richardson’s report went on to argue that considering the time traveling assassins probably had highly-powered future weapons, Hitler’s bodyguards would have to have prepared for attacks they couldn’t possibly expect.\n",
            "“They probably watched the air for signs of temporal disturbance, checked for disturbances in Earth’s magnetic field, and checked the chronometers they must’ve invented and then destroyed before anyone else could have found out about them,” continued Richardson, adding that those were all things that might help detect time travelers. “Then the bodyguards probably shot them.”\n",
            "The report also puts forth the possibility that when Hitler was 17, his art institute application was replaced with a superior portfolio, then switched back and forth an indeterminate number of times by other time travelers.\n",
            "Additional documentation suggests that John Wilkes Booth must have fought off nearly a dozen time-traveling counter-assassins before entering Ford’s Theatre.\n"
          ]
        }
      ]
    },
    {
      "cell_type": "code",
      "source": [
        "from trafilatura import fetch_url\n",
        "\n",
        "document = fetch_url('http://thenoser.com/article/Area-Man-No-Longer-Pretending-Hes-Not-Pretending-T')"
      ],
      "metadata": {
        "id": "BHoxC2tREGNv"
      },
      "execution_count": null,
      "outputs": []
    },
    {
      "cell_type": "code",
      "source": [
        "from trafilatura import extract\n",
        "\n",
        "text = extract(document)\n",
        "print(text)"
      ],
      "metadata": {
        "colab": {
          "base_uri": "https://localhost:8080/"
        },
        "id": "rnmy2wmsEF5w",
        "outputId": "1d33ed22-9ba9-48e2-abf3-8a0b670ca481"
      },
      "execution_count": null,
      "outputs": [
        {
          "output_type": "stream",
          "name": "stdout",
          "text": [
            "Claiming that he was finally turning over a new leaf, area man Nathan Enriquez announced triumphantly last Thursday that he’s no longer pretending he’s not pretending to be something he’s not.\n",
            "“I used to pretend that I wasn’t pretending to be something I’m not. But I took a long hard look at myself, and decided to just stop pretending that I wasn’t pretending. I am pretending to be something I’m not,” Enriquez admitted bravely.\n",
            "Enriquez added that he was tired of living a lie about not living a lie, and was happy to finally have a normal life that is all a complete lie based entirely on fiction. “Instead of kidding myself about it, I finally get to openly be a regular, everyday human being living a total farce. Phew!”\n",
            "Sources report that since his gallant turnaround, Enriquez is now completely open about faking happiness in many aspects of his life, including his job and in his 11-year marriage. “It’s a sham, all right. Total facade. I am fully feigning this contentment at work and at home.”\n",
            "“Pretending to not pretend can be so exhausting!” Enriquez said courageously, “I’m glad I can finally just pretend. Openly. For pretend.”\n"
          ]
        }
      ]
    },
    {
      "cell_type": "code",
      "source": [
        "from trafilatura import fetch_url\n",
        "\n",
        "document = fetch_url('http://thenoser.com/article/CIA-Denounces-Torture-Unless-They-Want-To-Know-Som')"
      ],
      "metadata": {
        "id": "HAQ2_sdnEWhE"
      },
      "execution_count": null,
      "outputs": []
    },
    {
      "cell_type": "code",
      "source": [
        "from trafilatura import extract\n",
        "\n",
        "text = extract(document)\n",
        "print(text)"
      ],
      "metadata": {
        "colab": {
          "base_uri": "https://localhost:8080/"
        },
        "id": "jrHcJJ7SEWUZ",
        "outputId": "89e42030-8fb6-40a9-ab6c-1ce88f73689c"
      },
      "execution_count": null,
      "outputs": [
        {
          "output_type": "stream",
          "name": "stdout",
          "text": [
            "In a statement released Thursday, the Central Intelligence Agency unequivocally denounced all use of torture on suspected terrorists unless the suspects might know something important.\n",
            "“The United States has a complicated history of enhanced interrogation, we will not deny,” wrote C.I.A. Director John O. Brennan in the release. “But let us be slightly clearer: the days of torturing suspects are over, if the suspects definitely don’t know anything we want to know.”\n",
            "The statement marks a new era in U.S. enhanced interrogation strategy, with the C.I.A. exempting all alleged terrorists from torture except for those who could have information that might prove useful to national interests. “If we have no need for any kind of intelligence, those in custody can and will enjoy all the benefits of the same torture-free lifestyle as is protected in almost every other developed nation,” Brennan continued.\n",
            "Sources confirm that human rights activists around the country are cautiously optimistic about this development. “Torture is off the table, unless the C.I.A. wants to know something that the suspect could know,” says Amnesty International attorney Camilla Rodriguez. “Even extraordinary rendition has been condemned in situations where nothing is at stake. This is progress, plain and simple, I think.”\n",
            "Many of these changes come after the Senate Intelligence Committee released a 6,000-page report detailing U.S. torture tactics between 2001 and 2006. As a response, the C.I.A.’s new stance declares that all U.S. personnel found to be using torture to extract information will be prosecuted to the full extent of the law, unless the information that the suspect might have includes names, locations, relationships, travel history, or recent purchases of people that the C.I.A. wants to learn about.\n",
            "At press time, the C.I.A. had released a second statement conceding, “Torture is sometimes okay, but definitely not when it’s used by bad guys on good guys.”\n"
          ]
        }
      ]
    },
    {
      "cell_type": "code",
      "source": [
        "from trafilatura import fetch_url\n",
        "\n",
        "document = fetch_url('http://thenoser.com/article/Copycat-Criminal-Re-Kills-Same-Victim-')"
      ],
      "metadata": {
        "id": "7Ag8zn4pGc3w"
      },
      "execution_count": null,
      "outputs": []
    },
    {
      "cell_type": "code",
      "source": [
        "from trafilatura import extract\n",
        "\n",
        "text = extract(document)\n",
        "print(text)"
      ],
      "metadata": {
        "colab": {
          "base_uri": "https://localhost:8080/"
        },
        "id": "A790teKBGcqm",
        "outputId": "f611ad08-cb85-4842-cb59-7907d0908141"
      },
      "execution_count": null,
      "outputs": [
        {
          "output_type": "stream",
          "name": "stdout",
          "text": [
            "Police reports have confirmed that there is a copycat criminal on the loose who has re-killed the same victim as another criminal in the area. Investigators are mostly asking the questions, “What’s this all about?” and “A copy who-what?”\n",
            "Authorities say DNA evidence suggests the male victim was stabbed in the act of a second killing, and re-buried three feet from his original resting area.\n",
            "Police say it appears as though the copycat criminal has re-enacted the killing with extreme specificity. “The copycat seems to have picked a fight with the already dead male after dragging him back to his home and killing him with victim’s kitchen knife,” said Detective Michael Waters. “Exactly the same as the original crime!”\n",
            "Waters also mentioned the copycat left the same confession note in the victim’s home as the original criminal.\n",
            "Neither criminal has been found, but investigators presume the copycat has copied the original criminal's hideaway.\n"
          ]
        }
      ]
    }
  ]
}