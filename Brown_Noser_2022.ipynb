{
  "nbformat": 4,
  "nbformat_minor": 0,
  "metadata": {
    "colab": {
      "provenance": [],
      "include_colab_link": true
    },
    "kernelspec": {
      "name": "python3",
      "display_name": "Python 3"
    },
    "language_info": {
      "name": "python"
    }
  },
  "cells": [
    {
      "cell_type": "markdown",
      "metadata": {
        "id": "view-in-github",
        "colab_type": "text"
      },
      "source": [
        "<a href=\"https://colab.research.google.com/github/rbelay1/Final-Project/blob/main/Brown_Noser_2022.ipynb\" target=\"_parent\"><img src=\"https://colab.research.google.com/assets/colab-badge.svg\" alt=\"Open In Colab\"/></a>"
      ]
    },
    {
      "cell_type": "code",
      "source": [
        "pip install trafilatura"
      ],
      "metadata": {
        "colab": {
          "base_uri": "https://localhost:8080/"
        },
        "id": "B2wkzY4Butrm",
        "outputId": "d1e5e113-07d5-4b5b-e1fe-ab985baf6c9a"
      },
      "execution_count": null,
      "outputs": [
        {
          "output_type": "stream",
          "name": "stdout",
          "text": [
            "Looking in indexes: https://pypi.org/simple, https://us-python.pkg.dev/colab-wheels/public/simple/\n",
            "Collecting trafilatura\n",
            "  Downloading trafilatura-1.5.0-py3-none-any.whl (1.0 MB)\n",
            "\u001b[2K     \u001b[90m━━━━━━━━━━━━━━━━━━━━━━━━━━━━━━━━━━━━━━━━\u001b[0m \u001b[32m1.0/1.0 MB\u001b[0m \u001b[31m16.7 MB/s\u001b[0m eta \u001b[36m0:00:00\u001b[0m\n",
            "\u001b[?25hCollecting justext>=3.0.0\n",
            "  Downloading jusText-3.0.0-py2.py3-none-any.whl (837 kB)\n",
            "\u001b[2K     \u001b[90m━━━━━━━━━━━━━━━━━━━━━━━━━━━━━━━━━━━━━━\u001b[0m \u001b[32m837.8/837.8 kB\u001b[0m \u001b[31m44.3 MB/s\u001b[0m eta \u001b[36m0:00:00\u001b[0m\n",
            "\u001b[?25hCollecting htmldate>=1.4.2\n",
            "  Downloading htmldate-1.4.2-py3-none-any.whl (33 kB)\n",
            "Collecting charset-normalizer>=3.1.0\n",
            "  Downloading charset_normalizer-3.1.0-cp39-cp39-manylinux_2_17_x86_64.manylinux2014_x86_64.whl (199 kB)\n",
            "\u001b[2K     \u001b[90m━━━━━━━━━━━━━━━━━━━━━━━━━━━━━━━━━━━━━━\u001b[0m \u001b[32m199.2/199.2 kB\u001b[0m \u001b[31m22.2 MB/s\u001b[0m eta \u001b[36m0:00:00\u001b[0m\n",
            "\u001b[?25hRequirement already satisfied: lxml>=4.9.2 in /usr/local/lib/python3.9/dist-packages (from trafilatura) (4.9.2)\n",
            "Collecting courlan>=0.9.0\n",
            "  Downloading courlan-0.9.1-py3-none-any.whl (40 kB)\n",
            "\u001b[2K     \u001b[90m━━━━━━━━━━━━━━━━━━━━━━━━━━━━━━━━━━━━━━━━\u001b[0m \u001b[32m40.7/40.7 kB\u001b[0m \u001b[31m4.8 MB/s\u001b[0m eta \u001b[36m0:00:00\u001b[0m\n",
            "\u001b[?25hRequirement already satisfied: certifi in /usr/local/lib/python3.9/dist-packages (from trafilatura) (2022.12.7)\n",
            "Requirement already satisfied: urllib3<2,>=1.26 in /usr/local/lib/python3.9/dist-packages (from trafilatura) (1.26.15)\n",
            "Requirement already satisfied: langcodes>=3.3.0 in /usr/local/lib/python3.9/dist-packages (from courlan>=0.9.0->trafilatura) (3.3.0)\n",
            "Collecting tld>=0.13\n",
            "  Downloading tld-0.13-py2.py3-none-any.whl (263 kB)\n",
            "\u001b[2K     \u001b[90m━━━━━━━━━━━━━━━━━━━━━━━━━━━━━━━━━━━━━━\u001b[0m \u001b[32m263.8/263.8 kB\u001b[0m \u001b[31m28.4 MB/s\u001b[0m eta \u001b[36m0:00:00\u001b[0m\n",
            "\u001b[?25hRequirement already satisfied: python-dateutil>=2.8.2 in /usr/local/lib/python3.9/dist-packages (from htmldate>=1.4.2->trafilatura) (2.8.2)\n",
            "Collecting dateparser>=1.1.2\n",
            "  Downloading dateparser-1.1.8-py2.py3-none-any.whl (293 kB)\n",
            "\u001b[2K     \u001b[90m━━━━━━━━━━━━━━━━━━━━━━━━━━━━━━━━━━━━━━\u001b[0m \u001b[32m293.8/293.8 kB\u001b[0m \u001b[31m28.0 MB/s\u001b[0m eta \u001b[36m0:00:00\u001b[0m\n",
            "\u001b[?25hRequirement already satisfied: pytz in /usr/local/lib/python3.9/dist-packages (from dateparser>=1.1.2->htmldate>=1.4.2->trafilatura) (2022.7.1)\n",
            "Requirement already satisfied: regex!=2019.02.19,!=2021.8.27 in /usr/local/lib/python3.9/dist-packages (from dateparser>=1.1.2->htmldate>=1.4.2->trafilatura) (2022.10.31)\n",
            "Requirement already satisfied: tzlocal in /usr/local/lib/python3.9/dist-packages (from dateparser>=1.1.2->htmldate>=1.4.2->trafilatura) (4.3)\n",
            "Requirement already satisfied: six>=1.5 in /usr/local/lib/python3.9/dist-packages (from python-dateutil>=2.8.2->htmldate>=1.4.2->trafilatura) (1.16.0)\n",
            "Requirement already satisfied: pytz-deprecation-shim in /usr/local/lib/python3.9/dist-packages (from tzlocal->dateparser>=1.1.2->htmldate>=1.4.2->trafilatura) (0.1.0.post0)\n",
            "Requirement already satisfied: tzdata in /usr/local/lib/python3.9/dist-packages (from pytz-deprecation-shim->tzlocal->dateparser>=1.1.2->htmldate>=1.4.2->trafilatura) (2023.3)\n",
            "Installing collected packages: tld, justext, charset-normalizer, courlan, dateparser, htmldate, trafilatura\n",
            "  Attempting uninstall: charset-normalizer\n",
            "    Found existing installation: charset-normalizer 2.0.12\n",
            "    Uninstalling charset-normalizer-2.0.12:\n",
            "      Successfully uninstalled charset-normalizer-2.0.12\n",
            "\u001b[31mERROR: pip's dependency resolver does not currently take into account all the packages that are installed. This behaviour is the source of the following dependency conflicts.\n",
            "requests 2.27.1 requires charset-normalizer~=2.0.0; python_version >= \"3\", but you have charset-normalizer 3.1.0 which is incompatible.\u001b[0m\u001b[31m\n",
            "\u001b[0mSuccessfully installed charset-normalizer-3.1.0 courlan-0.9.1 dateparser-1.1.8 htmldate-1.4.2 justext-3.0.0 tld-0.13 trafilatura-1.5.0\n"
          ]
        }
      ]
    },
    {
      "cell_type": "code",
      "source": [
        "import requests\n",
        "from bs4 import BeautifulSoup\n",
        " \n",
        " \n",
        "url = 'http://thenoser.com/issue/118'\n",
        "reqs = requests.get(url)\n",
        "soup = BeautifulSoup(reqs.text, 'html.parser')\n",
        " \n",
        "urls = []\n",
        "for link in soup.find_all('a'):\n",
        "    print(link.get('href'))"
      ],
      "metadata": {
        "colab": {
          "base_uri": "https://localhost:8080/"
        },
        "id": "lhjA-Y2TDS65",
        "outputId": "aafe521f-fb1e-4d39-84ee-847246287803"
      },
      "execution_count": null,
      "outputs": [
        {
          "output_type": "stream",
          "name": "stdout",
          "text": [
            "/section/Campus-Life\n",
            "/section/Off-Campus\n",
            "/section/Opinion\n",
            "/section/Politics\n",
            "/section/Science-and-Technology\n",
            "/section/Sports\n",
            "/section/Cinema-Corner\n",
            "/section/Noser-For-Kids\n",
            "/section/Arts--Culture\n",
            "http://thenoser.com\n",
            "/article/Campus-COVID-Numbers-Stabilize-At-Who-The-Hell-Kno\n",
            "/article/Campus-COVID-Numbers-Stabilize-At-Who-The-Hell-Kno\n",
            "/article/Campus-COVID-Numbers-Stabilize-At-Who-The-Hell-Kno\n",
            "/article/Fifth-Grade-Orchestra-Doing-Horrible-Job\n",
            "/article/Fifth-Grade-Orchestra-Doing-Horrible-Job\n",
            "/article/Goose-Just-Realizing-It-Could-Take-Down-Whole-747-\n",
            "/article/Goose-Just-Realizing-It-Could-Take-Down-Whole-747-\n",
            "/article/Report-W-Whos-There\n",
            "/article/Report-W-Whos-There\n",
            "/article/Ancient-Philosopher-About-To-End-Hot-Streak-By-Say\n",
            "/article/Ancient-Philosopher-About-To-End-Hot-Streak-By-Say\n",
            "/article/Annoying-Ass-Bird-Constantly-Heralding-Fine-Mornin\n",
            "/section/Off-Campus/118\n",
            "/article/On-This-Plot-Of-Land-Shall-I-Build-A-Thoroughfare-\n",
            "/article/Dance-For-Grandma-by-Grandma\n",
            "/section/Opinion/118\n",
            "/article/Report-Professor-In-Bathroom-Too\n",
            "/article/Report-Professor-In-Bathroom-Too\n",
            "/article/Boyfriend-Doesnt-Understand-What-Youre-Upset-About\n",
            "/article/Boyfriend-Doesnt-Understand-What-Youre-Upset-About\n",
            "/article/Anthropology-Symposium-Mostly-About-How-Living-In-\n",
            "/article/Anthropology-Symposium-Mostly-About-How-Living-In-\n",
            "/article/Area-Man-Not-Sure-If-He-Knows-Acquaintance-Well-En\n",
            "/article/Area-Man-Not-Sure-If-He-Knows-Acquaintance-Well-En\n",
            "/article/Campus-Nervously-Realizing-New-Performing-Arts-Cen\n",
            "/article/Campus-Nervously-Realizing-New-Performing-Arts-Cen\n",
            "/section/Campus-Life/118\n",
            "#\n",
            "/article/Kids-Political-Cartoon\n",
            "/article/Kids-Political-Cartoon\n",
            "/article/Kid-Opinion---The-Sun-And-The-Moon-Are-Married-And\n",
            "/article/Kid-Opinion---The-Sun-And-The-Moon-Are-Married-And\n",
            "/article/Kid-News---Report-We-Were-Swimming-And-We-Jumped-O\n",
            "/article/Kid-News---Report-We-Were-Swimming-And-We-Jumped-O\n",
            "/article/Kid-News---Library-Book-About-Art-Has-Boobs-In-It-\n",
            "/article/Kid-News---Library-Book-About-Art-Has-Boobs-In-It-\n",
            "/article/Kid-News---The-Best-Sandwich-Is-Turkey-And-Bread-b\n",
            "/article/Kid-News---The-Best-Sandwich-Is-Turkey-And-Bread-b\n",
            "/section/Noser-For-Kids/118\n",
            "http://collegequill.com\n"
          ]
        }
      ]
    },
    {
      "cell_type": "code",
      "source": [
        "from trafilatura import fetch_url\n",
        "\n",
        "document = fetch_url('http://thenoser.com/article/Campus-COVID-Numbers-Stabilize-At-Who-The-Hell-Kno')"
      ],
      "metadata": {
        "id": "VYz3f9Rlv4cl"
      },
      "execution_count": null,
      "outputs": []
    },
    {
      "cell_type": "code",
      "source": [
        "from trafilatura import extract\n",
        "\n",
        "text = extract(document)\n",
        "print(text)"
      ],
      "metadata": {
        "colab": {
          "base_uri": "https://localhost:8080/"
        },
        "id": "HGTdiImsv9CE",
        "outputId": "200fae68-bab8-4007-b84a-0eacc631f75c"
      },
      "execution_count": null,
      "outputs": [
        {
          "output_type": "stream",
          "name": "stdout",
          "text": [
            "A campus-wide email this week announced that COVID case levels on campus have stabilized at Who the hell knows.\n",
            "“We continue to be grateful for the continued vigilance of the Brown community,” wrote Provost Richard Locke. “Thanks to your efforts, case levels have dropped from Fuck if I have any idea to Maybe like 80 does that sound right, all the way to our current COVID level, Who the hell knows. This is real progress.”\n",
            "Locke’s email emphasized the importance of public health measures like wearing a mask indoors, taking two weekly antigen tests, and sort of guessing whether people have COVID.\n",
            "“Doubtless, this positive trend is already noticeable to the Brown community,” wrote Locke. “Two weeks ago, maybe your whole a cappella group was quarantining, and this week, you just thought to yourself, ‘Hey, Sarah’s roommate was exposed, I should probably get tested at some point.’ Like, the vibes are super different. I think.”\n",
            "At press time, students who did not log their two weekly COVID tests were threatened with a disciplinary Hey just please do it okay?\n"
          ]
        }
      ]
    },
    {
      "cell_type": "code",
      "source": [
        "from trafilatura import fetch_url\n",
        "\n",
        "document = fetch_url('http://thenoser.com/article/Fifth-Grade-Orchestra-Doing-Horrible-Job')"
      ],
      "metadata": {
        "id": "IfbNLJ6CwgDO"
      },
      "execution_count": null,
      "outputs": []
    },
    {
      "cell_type": "code",
      "source": [
        "from trafilatura import extract\n",
        "\n",
        "text = extract(document)\n",
        "print(text)"
      ],
      "metadata": {
        "colab": {
          "base_uri": "https://localhost:8080/"
        },
        "id": "O8RUnpLEDYgR",
        "outputId": "4b976ff9-834f-40bc-9560-e046a4d6b704"
      },
      "execution_count": null,
      "outputs": [
        {
          "output_type": "stream",
          "name": "stdout",
          "text": [
            "Miserably pretending to enjoy the screeches and squawks emitted from Jefferson Elementary’s auditorium stage, parent Julius Tube reported that his son’s fifth grade orchestra was actually doing a horrible job.\n",
            "“This is really, really awful. Just atrocious, really,” reported Tube, desperately hoping that the collection of budding musicians would soon end their butchered interpretation of Beethoven’s Ninth. “I know I’m supposed to be proud of him for trying, but come on, they practice every day, and this is the best they could do? Did they even bother tuning? Hell, I could do better than this, and I don’t even play an instrument!”\n",
            "“Good God, please make it stop,” Tube continued, applying a pair of earplugs in a desperate attempt to drown out the orchestra’s near-perfect rendition of ailing cats noises. “Somebody has to tell them that this is simply not good. I’ve heard more melodic sounds come out of a chainsaw.”\n",
            "At press time, a nearby middle school wind ensemble was somehow doing worse.\n"
          ]
        }
      ]
    },
    {
      "cell_type": "code",
      "source": [
        "from trafilatura import fetch_url\n",
        "\n",
        "document = fetch_url('http://thenoser.com/article/Goose-Just-Realizing-It-Could-Take-Down-Whole-747-')"
      ],
      "metadata": {
        "id": "2dgBhCI0DqFi"
      },
      "execution_count": null,
      "outputs": []
    },
    {
      "cell_type": "code",
      "source": [
        "from trafilatura import extract\n",
        "\n",
        "text = extract(document)\n",
        "print(text)"
      ],
      "metadata": {
        "colab": {
          "base_uri": "https://localhost:8080/"
        },
        "id": "03E3ysjGDqbP",
        "outputId": "496a9fb6-031a-45ad-d1e7-5ee0a4854cff"
      },
      "execution_count": null,
      "outputs": [
        {
          "output_type": "stream",
          "name": "stdout",
          "text": [
            "Seeing a plane approach alongside him, a goose just realized that if he wanted to, he could totally fly into the engine and take down the entire 747. “Oh my God, I can’t believe I just thought to do that, what the hell?” honked the goose aloud to himself, shocked and scared at where his mind wandered for a brief moment. “Like, I’d never do it of course, but like, it’s crazy that the thought just came to me. Like, that nothing is stopping me from flying into the engine and making the whole plane explode. Oh my God, what’s wrong with me? I can’t stop thinking about it. Yikes, okay, I’m just gonna move on and think about seeds.\" At press time, a deer is just realizing it would take so little effort for him to get a passing car to swerve off a bridge.\n",
            "Goose Just Realizing It Could Take Down Whole 747 If It Wanted To\n",
            "Published Friday, March 11th, 2022\n"
          ]
        }
      ]
    },
    {
      "cell_type": "code",
      "source": [
        "from trafilatura import fetch_url\n",
        "\n",
        "document = fetch_url('http://thenoser.com/article/Report-W-Whos-There')\n"
      ],
      "metadata": {
        "id": "68VaGnnTD5Bm"
      },
      "execution_count": null,
      "outputs": []
    },
    {
      "cell_type": "code",
      "source": [
        "from trafilatura import extract\n",
        "\n",
        "text = extract(document)\n",
        "print(text)"
      ],
      "metadata": {
        "colab": {
          "base_uri": "https://localhost:8080/"
        },
        "id": "I9WwXSIPD5fF",
        "outputId": "7c4b8811-d53f-40a0-ed09-4e2fd8444090"
      },
      "execution_count": null,
      "outputs": [
        {
          "output_type": "stream",
          "name": "stdout",
          "text": [
            "After hearing a loud thump downstairs, area man Mr. Angus Scruggs reported, w-who’s there? “H-hello? Is anyone down there?” asked Scruggs, putting on a velvet robe over his nightshirt and sleeping cap in preparation for going downstairs. “I’m w-warning you! When I get down there, there better not be a hooligan stealing my antique silver or bejeweled finery. I-I’m coming down!” At press time, Scruggs was waking down an incredibly long mahogany staircase, carrying only a single tall candle.\n",
            "Report: W-Who’s There?\n",
            "Published Friday, March 11th, 2022\n"
          ]
        }
      ]
    },
    {
      "cell_type": "code",
      "source": [
        "from trafilatura import fetch_url\n",
        "\n",
        "document = fetch_url('http://thenoser.com/article/Ancient-Philosopher-About-To-End-Hot-Streak-By-Say')\n"
      ],
      "metadata": {
        "id": "BHoxC2tREGNv"
      },
      "execution_count": null,
      "outputs": []
    },
    {
      "cell_type": "code",
      "source": [
        "from trafilatura import extract\n",
        "\n",
        "text = extract(document)\n",
        "print(text)"
      ],
      "metadata": {
        "colab": {
          "base_uri": "https://localhost:8080/"
        },
        "id": "rnmy2wmsEF5w",
        "outputId": "fe5ba3ea-c656-4e14-a617-c43abaefbcec"
      },
      "execution_count": null,
      "outputs": [
        {
          "output_type": "stream",
          "name": "stdout",
          "text": [
            "After laying the philosophical groundwork for the next two millennia, ancient philosopher Byonacles was about to end his hot streak by saying that dogs are what happens when horses are born at night.\n",
            "“They have four legs just like a horse but they look so mean with their sharp teeth and mean is dark like the night,” muttered Byonacles to himself, pacing around a humid cellar where in only a few short moments he will conceive an absolute dud of a theory. “So, ipso facto, the scary dog is just the nice horse birthed in the mean night!”\n",
            "“And that hair! Those dogs and their thick coats! You’d only need fur that thick in the coldest of conditions, like perhaps… NIGHT TIME!” exclaimed Byonacles to himself, really missing the mark with his new idea and yet still somehow becoming the most respected philosopher in all of Athens. “If a dog is truly just a night horse, it follows that after being chained in the city square for 20 days and 20 nights a strong and fertile mare covered in thick tapestries and shielded from sunlight should birth a dog both mean and hairy! Undeniable proof!”\n",
            "At press time, a medieval medicine man is about to end his hot streak by claiming that if women push hard enough, they could lay eggs.\n"
          ]
        }
      ]
    },
    {
      "cell_type": "code",
      "source": [
        "from trafilatura import fetch_url\n",
        "\n",
        "document = fetch_url('http://thenoser.com/article/Annoying-Ass-Bird-Constantly-Heralding-Fine-Mornin')"
      ],
      "metadata": {
        "id": "HAQ2_sdnEWhE"
      },
      "execution_count": null,
      "outputs": []
    },
    {
      "cell_type": "code",
      "source": [
        "from trafilatura import extract\n",
        "\n",
        "text = extract(document)\n",
        "print(text)"
      ],
      "metadata": {
        "colab": {
          "base_uri": "https://localhost:8080/"
        },
        "id": "jrHcJJ7SEWUZ",
        "outputId": "4b843d62-ff38-450f-af3b-9828cf24ba9c"
      },
      "execution_count": null,
      "outputs": [
        {
          "output_type": "stream",
          "name": "stdout",
          "text": [
            "Residents of Spruce Street in Barrington report that they are constantly being woken by an annoying-ass bird which wants nothing but to herald fine mornings with its jubilant song. “Can that thing just shut up?” said Evan Prendor, as the sparrow outside his window sang in clear, sweet tones of the coming of a fresh day upon this verdant earth. “What the hell is its problem? It needs to chill the fuck out.” At press time, Prendor found the delicate little nest the bird had made on the bough of an oak tree and knocked it down with a rake.\n",
            "Annoying-Ass Bird Constantly Heralding Fine Mornings With Its Jubilant Song\n",
            "Published Friday, March 11th, 2022\n"
          ]
        }
      ]
    }
  ]
}