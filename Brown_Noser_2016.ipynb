{
  "nbformat": 4,
  "nbformat_minor": 0,
  "metadata": {
    "colab": {
      "provenance": [],
      "include_colab_link": true
    },
    "kernelspec": {
      "name": "python3",
      "display_name": "Python 3"
    },
    "language_info": {
      "name": "python"
    }
  },
  "cells": [
    {
      "cell_type": "markdown",
      "metadata": {
        "id": "view-in-github",
        "colab_type": "text"
      },
      "source": [
        "<a href=\"https://colab.research.google.com/github/rbelay1/Final-Project/blob/main/Brown_Noser_2016.ipynb\" target=\"_parent\"><img src=\"https://colab.research.google.com/assets/colab-badge.svg\" alt=\"Open In Colab\"/></a>"
      ]
    },
    {
      "cell_type": "code",
      "source": [
        "pip install trafilatura"
      ],
      "metadata": {
        "colab": {
          "base_uri": "https://localhost:8080/"
        },
        "id": "B2wkzY4Butrm",
        "outputId": "b033255d-e969-4e70-dfe2-8fd0eb4c6304"
      },
      "execution_count": null,
      "outputs": [
        {
          "output_type": "stream",
          "name": "stdout",
          "text": [
            "Looking in indexes: https://pypi.org/simple, https://us-python.pkg.dev/colab-wheels/public/simple/\n",
            "Collecting trafilatura\n",
            "  Downloading trafilatura-1.5.0-py3-none-any.whl (1.0 MB)\n",
            "\u001b[2K     \u001b[90m━━━━━━━━━━━━━━━━━━━━━━━━━━━━━━━━━━━━━━━━\u001b[0m \u001b[32m1.0/1.0 MB\u001b[0m \u001b[31m13.6 MB/s\u001b[0m eta \u001b[36m0:00:00\u001b[0m\n",
            "\u001b[?25hRequirement already satisfied: urllib3<2,>=1.26 in /usr/local/lib/python3.9/dist-packages (from trafilatura) (1.26.15)\n",
            "Collecting courlan>=0.9.0\n",
            "  Downloading courlan-0.9.1-py3-none-any.whl (40 kB)\n",
            "\u001b[2K     \u001b[90m━━━━━━━━━━━━━━━━━━━━━━━━━━━━━━━━━━━━━━━━\u001b[0m \u001b[32m40.7/40.7 kB\u001b[0m \u001b[31m1.8 MB/s\u001b[0m eta \u001b[36m0:00:00\u001b[0m\n",
            "\u001b[?25hCollecting htmldate>=1.4.2\n",
            "  Downloading htmldate-1.4.2-py3-none-any.whl (33 kB)\n",
            "Collecting justext>=3.0.0\n",
            "  Downloading jusText-3.0.0-py2.py3-none-any.whl (837 kB)\n",
            "\u001b[2K     \u001b[90m━━━━━━━━━━━━━━━━━━━━━━━━━━━━━━━━━━━━━━\u001b[0m \u001b[32m837.8/837.8 kB\u001b[0m \u001b[31m19.4 MB/s\u001b[0m eta \u001b[36m0:00:00\u001b[0m\n",
            "\u001b[?25hCollecting charset-normalizer>=3.1.0\n",
            "  Downloading charset_normalizer-3.1.0-cp39-cp39-manylinux_2_17_x86_64.manylinux2014_x86_64.whl (199 kB)\n",
            "\u001b[2K     \u001b[90m━━━━━━━━━━━━━━━━━━━━━━━━━━━━━━━━━━━━━━━\u001b[0m \u001b[32m199.2/199.2 kB\u001b[0m \u001b[31m7.4 MB/s\u001b[0m eta \u001b[36m0:00:00\u001b[0m\n",
            "\u001b[?25hRequirement already satisfied: lxml>=4.9.2 in /usr/local/lib/python3.9/dist-packages (from trafilatura) (4.9.2)\n",
            "Requirement already satisfied: certifi in /usr/local/lib/python3.9/dist-packages (from trafilatura) (2022.12.7)\n",
            "Collecting tld>=0.13\n",
            "  Downloading tld-0.13-py2.py3-none-any.whl (263 kB)\n",
            "\u001b[2K     \u001b[90m━━━━━━━━━━━━━━━━━━━━━━━━━━━━━━━━━━━━━━\u001b[0m \u001b[32m263.8/263.8 kB\u001b[0m \u001b[31m12.9 MB/s\u001b[0m eta \u001b[36m0:00:00\u001b[0m\n",
            "\u001b[?25hRequirement already satisfied: langcodes>=3.3.0 in /usr/local/lib/python3.9/dist-packages (from courlan>=0.9.0->trafilatura) (3.3.0)\n",
            "Collecting dateparser>=1.1.2\n",
            "  Downloading dateparser-1.1.8-py2.py3-none-any.whl (293 kB)\n",
            "\u001b[2K     \u001b[90m━━━━━━━━━━━━━━━━━━━━━━━━━━━━━━━━━━━━━━\u001b[0m \u001b[32m293.8/293.8 kB\u001b[0m \u001b[31m18.0 MB/s\u001b[0m eta \u001b[36m0:00:00\u001b[0m\n",
            "\u001b[?25hRequirement already satisfied: python-dateutil>=2.8.2 in /usr/local/lib/python3.9/dist-packages (from htmldate>=1.4.2->trafilatura) (2.8.2)\n",
            "Requirement already satisfied: regex!=2019.02.19,!=2021.8.27 in /usr/local/lib/python3.9/dist-packages (from dateparser>=1.1.2->htmldate>=1.4.2->trafilatura) (2022.10.31)\n",
            "Requirement already satisfied: pytz in /usr/local/lib/python3.9/dist-packages (from dateparser>=1.1.2->htmldate>=1.4.2->trafilatura) (2022.7.1)\n",
            "Requirement already satisfied: tzlocal in /usr/local/lib/python3.9/dist-packages (from dateparser>=1.1.2->htmldate>=1.4.2->trafilatura) (4.3)\n",
            "Requirement already satisfied: six>=1.5 in /usr/local/lib/python3.9/dist-packages (from python-dateutil>=2.8.2->htmldate>=1.4.2->trafilatura) (1.16.0)\n",
            "Requirement already satisfied: pytz-deprecation-shim in /usr/local/lib/python3.9/dist-packages (from tzlocal->dateparser>=1.1.2->htmldate>=1.4.2->trafilatura) (0.1.0.post0)\n",
            "Requirement already satisfied: tzdata in /usr/local/lib/python3.9/dist-packages (from pytz-deprecation-shim->tzlocal->dateparser>=1.1.2->htmldate>=1.4.2->trafilatura) (2023.3)\n",
            "Installing collected packages: tld, justext, charset-normalizer, courlan, dateparser, htmldate, trafilatura\n",
            "  Attempting uninstall: charset-normalizer\n",
            "    Found existing installation: charset-normalizer 2.0.12\n",
            "    Uninstalling charset-normalizer-2.0.12:\n",
            "      Successfully uninstalled charset-normalizer-2.0.12\n",
            "\u001b[31mERROR: pip's dependency resolver does not currently take into account all the packages that are installed. This behaviour is the source of the following dependency conflicts.\n",
            "requests 2.27.1 requires charset-normalizer~=2.0.0; python_version >= \"3\", but you have charset-normalizer 3.1.0 which is incompatible.\u001b[0m\u001b[31m\n",
            "\u001b[0mSuccessfully installed charset-normalizer-3.1.0 courlan-0.9.1 dateparser-1.1.8 htmldate-1.4.2 justext-3.0.0 tld-0.13 trafilatura-1.5.0\n"
          ]
        }
      ]
    },
    {
      "cell_type": "code",
      "source": [
        "import requests\n",
        "from bs4 import BeautifulSoup\n",
        " \n",
        " \n",
        "url = 'http://thenoser.com/issue/85'\n",
        "reqs = requests.get(url)\n",
        "soup = BeautifulSoup(reqs.text, 'html.parser')\n",
        " \n",
        "urls = []\n",
        "for link in soup.find_all('a'):\n",
        "    print(link.get('href'))"
      ],
      "metadata": {
        "colab": {
          "base_uri": "https://localhost:8080/"
        },
        "id": "lhjA-Y2TDS65",
        "outputId": "df96ceba-c432-4716-a209-dc756f5e1087"
      },
      "execution_count": null,
      "outputs": [
        {
          "output_type": "stream",
          "name": "stdout",
          "text": [
            "/section/Campus-Life\n",
            "/section/Off-Campus\n",
            "/section/Opinion\n",
            "/section/Politics\n",
            "/section/Science-and-Technology\n",
            "/section/Sports\n",
            "/section/Cinema-Corner\n",
            "/section/Noser-For-Kids\n",
            "/section/Arts--Culture\n",
            "http://thenoser.com\n",
            "/article/Professor-Returns-From-Sabbatical-Jacked\n",
            "/article/Professor-Returns-From-Sabbatical-Jacked\n",
            "/article/Professor-Returns-From-Sabbatical-Jacked\n",
            "/article/Dad-Son-Both-Hiding-Weed-Habits\n",
            "/article/Dad-Son-Both-Hiding-Weed-Habits\n",
            "/article/Area-Man-Complicit\n",
            "/article/Area-Man-Complicit\n",
            "/article/New-Republican-Party-Advertisement-Encourages-Yout\n",
            "/article/New-Republican-Party-Advertisement-Encourages-Yout\n",
            "/article/Rally-Attendee-Not-Sure-Who-Yodeling-Top-Hat-Weari\n",
            "/article/Rally-Attendee-Not-Sure-Who-Yodeling-Top-Hat-Weari\n",
            "/article/Actor-In-Old-Person-Makeup-Definitely-Going-To-Be-\n",
            "/article/Actor-In-Old-Person-Makeup-Definitely-Going-To-Be-\n",
            "/section/Off-Campus/85\n",
            "/article/Animal-Farm-Is-Not-An-Allegory-For-The-Russian-Rev\n",
            "/article/Its-Hard-For-Me-To-Separate-My-Enjoyment-Of-Ben-St\n",
            "/section/Opinion/85\n",
            "/article/Minions-2-To-Feature-A-Minion-Of-Color-2\n",
            "/article/Minions-2-To-Feature-A-Minion-Of-Color-2\n",
            "/article/University-Proudly-Announces-Plans-To-Do-The-Bare-\n",
            "/article/University-Proudly-Announces-Plans-To-Do-The-Bare-\n",
            "/article/American-Studies-Concentrator-Up-Late-Practicing-T\n",
            "/article/American-Studies-Concentrator-Up-Late-Practicing-T\n",
            "/article/Paxson-Gets-Chinese-Symbol-For-Unity-Tattooed-On-H\n",
            "/article/Paxson-Gets-Chinese-Symbol-For-Unity-Tattooed-On-H\n",
            "/article/Armani-Announces-First-Ever-Plus-Size-Model-They-W\n",
            "/section/Campus-Life/85\n",
            "/article/Astronaut-Late-To-Space-Again\n",
            "/article/Astronaut-Late-To-Space-Again\n",
            "/article/Report-Type-In-HG7--39AN002-To-Start-Level-3-With-\n",
            "/article/Lizard-Gonna-Need-Some-Time-Before-He-Trusts-New-T\n",
            "/article/Lizard-Gonna-Need-Some-Time-Before-He-Trusts-New-T\n",
            "/section/Science-and-Technology/85\n",
            "#\n",
            "http://collegequill.com\n"
          ]
        }
      ]
    },
    {
      "cell_type": "code",
      "source": [
        "from trafilatura import fetch_url\n",
        "\n",
        "document = fetch_url('http://thenoser.com/article/Professor-Returns-From-Sabbatical-Jacked')"
      ],
      "metadata": {
        "id": "VYz3f9Rlv4cl"
      },
      "execution_count": null,
      "outputs": []
    },
    {
      "cell_type": "code",
      "source": [
        "from trafilatura import extract\n",
        "\n",
        "text = extract(document)\n",
        "print(text)"
      ],
      "metadata": {
        "colab": {
          "base_uri": "https://localhost:8080/"
        },
        "id": "HGTdiImsv9CE",
        "outputId": "007a4416-26eb-467c-f5c1-438927d93fd6"
      },
      "execution_count": null,
      "outputs": [
        {
          "output_type": "stream",
          "name": "stdout",
          "text": [
            "After taking a semester off from teaching, Professor Kevin Mercer returned to the classroom absolutely ripped, students report. Mercer, a tenured faculty member in the History department, ostensibly spent his leave doing research for his upcoming book, but from the looks of it he got in substantial gym time as well.\n",
            "“[Mercer] is my advisor, so I’m certainly happy to have him back,” said Elisa Owens, a student who has taken multiple classes with Mercer—before he got completely cut that is. “It appears that the break was really good for him. It sounds like he had the chance to spend quality time with his family and read a lot. Also, he got big, but he hasn’t mentioned that.”\n",
            "On break, Mercer spent most of his days sitting at his desk. However, before he started any work, he had to have gotten in an hour or two at the weight rack.\n",
            "“It was great to get some time off from teaching,” Mercer said, his shirt buttons on the verge of popping. “Teaching is definitely my true passion, but it’s still helpful to get some perspective every once in a while. I like approaching my lectures with a fresh eye.”\n",
            "According to students, along with his physical development, Mercer’s whole attitude has changed as well. Their professor, who was by all accounts a soft-spoken and unassuming person, has taken to rolling up his sleeves above his biceps and strutting about with a confident demeanor that could only belong to a middle-aged man who, for the first time in his life, has truly come into his own.\n",
            "Colleagues in the History department seem pleased, if not slightly perplexed, by Mercer’s return.\n",
            "“It’s good to have Kevin around again,” said Professor Marsha Gilbert. “However, he has definitely changed. He doesn’t say a thing about it when you talk to him, but he’s athletic now. The sabbatical definitely did him some good.”\n",
            "“The American Revolution was fought by the poor for the rich,” Mercer said to a room full of students distracted by his super-defined chest muscles. “The founding fathers were not the paragons of virtue we make them out to be. They were scumbags.”\n",
            "At press time, Mercer could be seen in the University gym trying to get even more shredded, as if that were even possible.\n"
          ]
        }
      ]
    },
    {
      "cell_type": "code",
      "source": [
        "from trafilatura import fetch_url\n",
        "\n",
        "document = fetch_url('http://thenoser.com/article/Dad-Son-Both-Hiding-Weed-Habits')"
      ],
      "metadata": {
        "id": "IfbNLJ6CwgDO"
      },
      "execution_count": null,
      "outputs": []
    },
    {
      "cell_type": "code",
      "source": [
        "from trafilatura import extract\n",
        "\n",
        "text = extract(document)\n",
        "print(text)"
      ],
      "metadata": {
        "colab": {
          "base_uri": "https://localhost:8080/"
        },
        "id": "O8RUnpLEDYgR",
        "outputId": "bde42ff9-72c3-4d03-c1bf-7f724af2a465"
      },
      "execution_count": null,
      "outputs": [
        {
          "output_type": "stream",
          "name": "stdout",
          "text": [
            "Sources revealed Wednesday that area man Allen Carmichael, 55, and his son Joseph, 15, are continually engaged in attempts to prevent the other from discovering their marijuana habits. Despite living on the same floor of the same house and spending hours of each day together, both individuals remain entirely unaware of the other’s nagging compulsion to smoke, ingest or otherwise consume cannabis, sources close to the father-son pair said.\n",
            "“I wouldn’t want to set a bad example for my boy,” said the elder Carmichael through a thick haze of smoke and Cheetos dust. “He’s young and impressionable. But as soon as he gets on the school bus, I roll up a fat one and head to the garage.”\n",
            "“My old man would get so sore if he found out I was getting high,” said Joseph as he walked down his driveway to board the bus. “That’s why me and the crew blaze before school in the custodial shed that Mike unlocked that one time.\"\n",
            "“Mike is chill,” he added.\n",
            "Bus sources later confirmed that onboard, Joseph displayed two joints he’d carefully hidden in his lunchbox after his father had finished packing it for him earlier that morning.\n",
            "“I got this stuff from Deano,” Joseph told his classmates, referring to local marijuana dealer Henry Dean. “It’s really strong.”\n",
            "“I usually get my dope from Deano,” Allen explained, referring to the same marijuana dealer. “He’s got some good product. They’ve really made some progress on this stuff since the seventies.”\n",
            "While Allen told sources that one day he’d like to share a doobie with his son, Joseph reportedly hopes his father never finds out about his smoking.\n",
            "“Aw, Christ.” Joseph said. “Whenever he gets mad, he goes and stews in his room for a bit, and comes out red-eyed and refuses to talk to me. I can’t deal with it.”\n",
            "At press time, both Joseph and Allen Carmichael had both hit that last one a little too hard, gotten cranked as shit and were simultaneously freaking out worrying the other could tell.\n"
          ]
        }
      ]
    },
    {
      "cell_type": "code",
      "source": [
        "from trafilatura import fetch_url\n",
        "\n",
        "document = fetch_url('http://thenoser.com/article/Area-Man-Complicit')"
      ],
      "metadata": {
        "id": "2dgBhCI0DqFi"
      },
      "execution_count": null,
      "outputs": []
    },
    {
      "cell_type": "code",
      "source": [
        "from trafilatura import extract\n",
        "\n",
        "text = extract(document)\n",
        "print(text)"
      ],
      "metadata": {
        "colab": {
          "base_uri": "https://localhost:8080/"
        },
        "id": "03E3ysjGDqbP",
        "outputId": "0b949dfd-9c42-4f09-9429-f5735b4ac55a"
      },
      "execution_count": null,
      "outputs": [
        {
          "output_type": "stream",
          "name": "stdout",
          "text": [
            "Sources confirm that Kevin Terry, a 42-year-old commercial pilot with a wife and two teenage daughters, is complicit in all of it and needs to wake up.\n",
            "According to friends and neighbors of Terry, a non-disruptive pawn deeply rooted in unjust systemic circuitry who helps to indoctrinate those around him into the hegemonic system of beliefs simply by living and breathing and stepping out his front door, he pitches in a town team softball league and makes a “mean yellow curry.”\n",
            "“We’re almost out of orange juice,” said the unconscionable cog. “I’ll go get more tomorrow.”\n",
            "Sources indicate that the passive participant in global oppression enjoys ice fishing, married his high school sweetheart, and is utterly unaware that every time he goes to pick up his kids from school or eats a sandwich, he is replicating a toxic ideology.\n",
            "“Another flat tire,” said an exasperated Terry, mindlessly adding another drop to the bucket that is our deplorable system. “Just my luck. I should call Anne to tell her I’ll be late.”\n",
            "Terry, who used to read his daughters bedtime stories and teach them by example to become part of the problem, plays guitar and sings in a bluegrass jam every Thursday night at the local bar. “Does anyone here know ‘Paradise’ by John Prine?” asked the amoral patsy, silently consenting to evil. “Sing along if you know the words.”\n",
            "“This one goes out to my beautiful wife,” added the brainwashed drone. “I love you so much.”\n",
            "At press time, the freethinkers of the world unanimously decided that Terry is too complicit to even bother with anymore.\n"
          ]
        }
      ]
    },
    {
      "cell_type": "code",
      "source": [
        "from trafilatura import fetch_url\n",
        "\n",
        "document = fetch_url('http://thenoser.com/article/New-Republican-Party-Advertisement-Encourages-Yout')"
      ],
      "metadata": {
        "id": "68VaGnnTD5Bm"
      },
      "execution_count": null,
      "outputs": []
    },
    {
      "cell_type": "code",
      "source": [
        "from trafilatura import extract\n",
        "\n",
        "text = extract(document)\n",
        "print(text)"
      ],
      "metadata": {
        "colab": {
          "base_uri": "https://localhost:8080/"
        },
        "id": "I9WwXSIPD5fF",
        "outputId": "72b87f3b-e43c-48eb-a7b6-1e7916f8f1a7"
      },
      "execution_count": null,
      "outputs": [
        {
          "output_type": "stream",
          "name": "stdout",
          "text": [
            "As part of an increased effort to get U.S. citizens to vote against their own interests, the Republican Party has put out a new TV spot encouraging young people across the country to vote ironically. Facing troubling polling numbers in the 18-29 demographic, the RNC has reportedly given up trying to win over young people and instead is trying to convince them that conservative candidates are despicable enough to deserve their ironic support.\n",
            "“Ted Cruz has bad policies, and everybody hates him, and his face looks like someone took a damn blowtorch to a wax Ronald Reagan,” says the ad’s narrator as unflattering photoshops of the GOP candidate spin around the screen. “Wouldn’t it be fucking funny as hell if this melting-faced, reptilian-ass looking tryhard got to be president?”\n",
            "The narrator adds, “President? I mean, Jesus Christ. That would just—Oh man. Vote for Ted Cruz. What an ugly piece of shit,” before the advertisement closes with the customary, “I’m Ted Cruz and I approve this message.”\n",
            "The Republicans have released similar advertisements for each of the remaining primary candidates, including “Trump Is Actually Good,” “Kasich Reminds Me Of My Dead, Racist Grandpa,” and “Ben Carson Falling Asleep During His Inaugural Address Would Be Fucking Perfect.” The Republican Congressional Campaign Committee is already running an ad in all 50 states with the simple slogan, “Who Gives A Shit?”\n",
            "“We think voting is fun and cool and meaningful,” said RNC Chairman Reince Priebus, wearing shutter-shades and a scoop-neck T-shirt featuring the GOP candidates’ faces badly photoshopped into “The Crossing Of The Delaware” and loud “Impact\" font reading “LET’S TRY TO RUN INTO THAT ICEBERG” in all caps. “We want everybody to vote GOP this November because that’d just be wild. That’d just be out of this world. They’re all so god-damned stupid.”\n",
            "The slogan for the promotional effort, “Vote for Republicans, lol,” has resonated with online communities in particular as the Republican Party, with its openly backwards stances and resistance to change, has presented itself as an outstanding option for bored, unhappy young people to pretend they like.\n",
            "“Trump is racist, fascist, and has no political experience,” said 22-year old Braeden Starr, who has spent weekends canvassing for the business magnate in his home state of Florida. “That’s hilarious to me. He’s like this loud, shouty guy from TV, and he’s going to be president. I think that’s so funny. I would love to see that happen. I mean, who cares anyway?\"\n",
            "“I’m voting for Kasich because I don’t think he’ll win,” reported college student Ashleigh Dunlap, sitting outside a public library and clearly taking no pleasure in her constant vaping. “Although I was sad to see Jeb Bush drop out because he’s exactly the kind of sad little manlet I’d laugh my ass off watching apologize when he inevitably fucked up some third-world country.\"\n",
            "In response, the Democratic Party announced plans to just continue to pretend that they weren’t as corrupt and self-serving as the Republicans, because why fix what isn’t broken.\n"
          ]
        }
      ]
    },
    {
      "cell_type": "code",
      "source": [
        "from trafilatura import fetch_url\n",
        "\n",
        "document = fetch_url('http://thenoser.com/article/Rally-Attendee-Not-Sure-Who-Yodeling-Top-Hat-Weari')"
      ],
      "metadata": {
        "id": "BHoxC2tREGNv"
      },
      "execution_count": null,
      "outputs": []
    },
    {
      "cell_type": "code",
      "source": [
        "from trafilatura import extract\n",
        "\n",
        "text = extract(document)\n",
        "print(text)"
      ],
      "metadata": {
        "colab": {
          "base_uri": "https://localhost:8080/"
        },
        "id": "rnmy2wmsEF5w",
        "outputId": "e98fbcb7-60a3-4992-ec7f-d9795474b014"
      },
      "execution_count": null,
      "outputs": [
        {
          "output_type": "stream",
          "name": "stdout",
          "text": [
            "Reflecting the general sense of confusion that settled over a Hillary Clinton rally in Tallahassee Florida, attendee Joanna Cicero expressed uncertainty as to whom the candidate was trying to pander with her yodeling routine. Clinton, wearing a white top hat with flames on it, yodeled for a full three minutes before jumping into her stump speech.\n",
            "“I thought maybe the yodeling was a transparent attempt to get the cowboy vote and that that was a little strange,” said Cicero, as the former Secretary of State stopped her speech mid-sentence and began beating on a scarecrow labeled “MEAT” with an aluminum baseball bat, presumably to prove to vegetarian third basemen or someone how relatable she is. “But the top hat doesn’t really fit with that. You’d wear a top hat if you were trying desperately to win over turn-of-the-century robber barons. Or the monopoly guy. Or Slash.”\n",
            "Cicero added that none of those demographics were especially prominent in Tallahassee, so she really had no idea.\n",
            "Clinton’s stump speech hit on her usual talking points. She discussed her record and her experience as a “progressive who gets things done,” before leading the willing crowd in a tai chi workout while her disembodied head spoke the word “millennial” over and over again in a slow monotone crescendo in a video projected behind her.\n",
            "While most of the fairly obvious attempts to score points with whomever she was trying to score points with appeared to confuse the Florida audience, Cicero admitted to finding Clinton’s blindfolded knife-throwing routine fairly compelling. “I’m a fencer, so when she hung 20 feet above the stage from a rope tied around her ankle and fired knives into the target as she gently twirled above our heads, it kind of worked for me. It’s good to see a candidate who cares about some of the same things I do, and also millions of other things I presume someone somewhere must care about.”\n",
            "Cicero mentioned she was planning to vote for Vermont Senator Bernie Sanders, because she agreed with him on policies, trusted his record of not taking corporate money, was worried about Clinton’s willingness to change her views whenever it became convenient for her to do so, and was a virulent sexist.\n"
          ]
        }
      ]
    },
    {
      "cell_type": "code",
      "source": [
        "from trafilatura import fetch_url\n",
        "\n",
        "document = fetch_url('http://thenoser.com/article/Actor-In-Old-Person-Makeup-Definitely-Going-To-Be-')"
      ],
      "metadata": {
        "id": "HAQ2_sdnEWhE"
      },
      "execution_count": null,
      "outputs": []
    },
    {
      "cell_type": "code",
      "source": [
        "from trafilatura import extract\n",
        "\n",
        "text = extract(document)\n",
        "print(text)"
      ],
      "metadata": {
        "colab": {
          "base_uri": "https://localhost:8080/"
        },
        "id": "jrHcJJ7SEWUZ",
        "outputId": "2b4e5015-8308-4604-f988-84fa1788bc17"
      },
      "execution_count": null,
      "outputs": [
        {
          "output_type": "stream",
          "name": "stdout",
          "text": [
            "Upon seeing Eddie Redmayne play an 80-year-old Paul Revere in the opening sequence of the new biopic The British Are Coming For Me, Moviegoers at Cherry Creek Cinema were not convinced that the actor would remain old for the length of the film. The 34-year-old actor was clearly wearing a great deal of makeup to make him look like an old man, and even walked hunched over with a pronounced limp.\n",
            "“There’s just no way they’re going to keep him looking like this for the whole film,” said Jennifer Shook, an audience member at the theater. “His whole thing is that he is this hot young actor with a tight body. If they needed someone to play an old man in this movie, they would have just cast an old man actor. This is clearly just so the young him looks like the old him. Also, he’s doing this weird gravely old man voice. No one’s going to want to listen to that for two and a half hours.”\n",
            "Moviegoer Josh Hendren agreed, stating, “I let my guard down when I saw Benjamin Button and thought, ‘Yeah sure, I guess Brad Pitt is going to be this old, wrinkly man-baby for the entire film’ but no, he grows up into hot young Brad Pitt! No way I’m going to make that mistake again.”\n",
            "Eleven minutes into the movie audience members were satisfied to see the film cut to scenes of Paul Revere’s early years, where Redmayne could be seen pounding on anvils and falling in love sans old man makeup.\n",
            "Reviews for the film have been mixed, with critics praising Redmayne’s portrayal of Revere’s accent and crows-feet, but put off by his clear inability to look old riding a horse.\n"
          ]
        }
      ]
    }
  ]
}